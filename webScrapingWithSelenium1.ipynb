{
 "cells": [
  {
   "cell_type": "code",
   "execution_count": 64,
   "metadata": {},
   "outputs": [],
   "source": [
    "import selenium\n",
    "import pandas as pd\n",
    "from selenium import webdriver\n",
    "import numpy as np"
   ]
  },
  {
   "cell_type": "code",
   "execution_count": 2,
   "metadata": {},
   "outputs": [],
   "source": [
    "driver=webdriver.Chrome(r\"E:\\softwares\\chromedriver.exe\")"
   ]
  },
  {
   "cell_type": "code",
   "execution_count": 8,
   "metadata": {},
   "outputs": [],
   "source": []
  },
  {
   "cell_type": "markdown",
   "metadata": {},
   "source": [
    "### scrape data for “Data Analyst” Job position in “Bangalore” location.  job-title, job-location, company_name, experience_required. of first 10 jobs data."
   ]
  },
  {
   "cell_type": "code",
   "execution_count": 3,
   "metadata": {},
   "outputs": [],
   "source": [
    "driver.get(\"https://www.naukri.com/\")"
   ]
  },
  {
   "cell_type": "code",
   "execution_count": 4,
   "metadata": {},
   "outputs": [],
   "source": [
    "# getting location and job fields\n",
    "search_job=driver.find_element_by_id('qsb-keyword-sugg')\n",
    "search_job.send_keys(\"Data Analyst\")\n",
    "search_loc=driver.find_element_by_xpath(\"//input[@id='qsb-location-sugg']\")\n",
    "search_loc.send_keys(\"Banglore\")"
   ]
  },
  {
   "cell_type": "code",
   "execution_count": 5,
   "metadata": {},
   "outputs": [],
   "source": [
    "# clicking the search button\n",
    "search_btn=driver.find_element_by_xpath(\"//div[@class='search-btn']/button\")\n",
    "search_btn.click()"
   ]
  },
  {
   "cell_type": "markdown",
   "metadata": {},
   "source": [
    "\n"
   ]
  },
  {
   "cell_type": "code",
   "execution_count": 21,
   "metadata": {},
   "outputs": [],
   "source": [
    "#info fleft\n",
    "title_tags=driver.find_elements_by_xpath(\"//div[@class='info fleft']/a[1]\")\n",
    "title_tags=title_tags[0:10]"
   ]
  },
  {
   "cell_type": "code",
   "execution_count": 22,
   "metadata": {},
   "outputs": [
    {
     "data": {
      "text/plain": [
       "['Business Cum Data Analyst',\n",
       " 'Procurement Data Analyst',\n",
       " 'Business Data Analyst',\n",
       " 'Data Analyst with SQL',\n",
       " 'Capital Market- Data Analyst',\n",
       " 'Hiring MIS/Data Analyst(Work from Home)',\n",
       " 'Senior System Analyst, Data Analyst - II Innings',\n",
       " 'Data Analyst',\n",
       " 'ID&A - Data Analyst - Informatica MDM',\n",
       " 'Sustainability Data Analyst']"
      ]
     },
     "execution_count": 22,
     "metadata": {},
     "output_type": "execute_result"
    }
   ],
   "source": [
    "job_titles=[]\n",
    "for i in title_tags:\n",
    "    title=i.text\n",
    "    job_titles.append(title)\n",
    "job_titles   "
   ]
  },
  {
   "cell_type": "code",
   "execution_count": 23,
   "metadata": {},
   "outputs": [],
   "source": [
    "#subTitle ellipsis fleft\n",
    "company_names=[]\n",
    "company_tags=driver.find_elements_by_xpath(\"//a[@class='subTitle ellipsis fleft']\")\n",
    "company_tags=company_tags[0:10]"
   ]
  },
  {
   "cell_type": "code",
   "execution_count": 24,
   "metadata": {},
   "outputs": [
    {
     "data": {
      "text/plain": [
       "['Virtusa Consulting Services Pvt Ltd',\n",
       " 'Sunstream Global Technologies LLP',\n",
       " 'GreatLearning',\n",
       " 'Wipro Limited',\n",
       " 'Genpact',\n",
       " 'NIIT Ltd.',\n",
       " 'Intertrust Group',\n",
       " 'Klub',\n",
       " 'Shell India Markets Private Limited',\n",
       " 'Capgemini Technology Services India Limited']"
      ]
     },
     "execution_count": 24,
     "metadata": {},
     "output_type": "execute_result"
    }
   ],
   "source": [
    "company_names=[]\n",
    "\n",
    "for i in company_tags:\n",
    "    company=i.text\n",
    "    company_names.append(company)\n",
    "company_names "
   ]
  },
  {
   "cell_type": "code",
   "execution_count": 28,
   "metadata": {},
   "outputs": [],
   "source": [
    "# fleft grey-text br2 placeHolderLi experience\n",
    "exp_tags=driver.find_elements_by_xpath(\"//li[@class='fleft grey-text br2 placeHolderLi experience']/span[1]\")\n",
    "exp_tags=exp_tags[0:10]"
   ]
  },
  {
   "cell_type": "code",
   "execution_count": 29,
   "metadata": {},
   "outputs": [
    {
     "data": {
      "text/plain": [
       "['2-4 Yrs',\n",
       " '0-2 Yrs',\n",
       " '2-3 Yrs',\n",
       " '3-5 Yrs',\n",
       " '4-8 Yrs',\n",
       " '3-8 Yrs',\n",
       " '3-6 Yrs',\n",
       " '1-4 Yrs',\n",
       " '5-9 Yrs',\n",
       " '4-6 Yrs']"
      ]
     },
     "execution_count": 29,
     "metadata": {},
     "output_type": "execute_result"
    }
   ],
   "source": [
    "exp_list=[]\n",
    "\n",
    "for i in exp_tags:\n",
    "    exp=i.text\n",
    "    exp_list.append(exp)\n",
    "exp_list "
   ]
  },
  {
   "cell_type": "code",
   "execution_count": 33,
   "metadata": {},
   "outputs": [],
   "source": [
    "location_tags=driver.find_elements_by_xpath(\"//li[@class='fleft grey-text br2 placeHolderLi location']/span[1]\")\n",
    "location_tags=location_tags[0:10]"
   ]
  },
  {
   "cell_type": "code",
   "execution_count": 34,
   "metadata": {},
   "outputs": [
    {
     "data": {
      "text/plain": [
       "['Bangalore/Bengaluru',\n",
       " 'Bangalore/Bengaluru(Koramangala)',\n",
       " 'Gurgaon/Gurugram, Bangalore/Bengaluru',\n",
       " 'Noida, Gurgaon/Gurugram, Bangalore/Bengaluru',\n",
       " 'Hyderabad/Secunderabad, Pune, Bangalore/Bengaluru, Delhi / NCR',\n",
       " 'Kolkata, Hyderabad/Secunderabad, Gurgaon/Gurugram, Bangalore/Bengaluru, Delhi / NCR, Mumbai (All Areas)',\n",
       " 'Bangalore/Bengaluru',\n",
       " 'Bangalore/Bengaluru',\n",
       " 'Bangalore/Bengaluru',\n",
       " 'Bangalore/Bengaluru']"
      ]
     },
     "execution_count": 34,
     "metadata": {},
     "output_type": "execute_result"
    }
   ],
   "source": [
    "loc_list=[]\n",
    "for i in location_tags:\n",
    "    loc_list.append(i.text)\n",
    "loc_list\n",
    "    "
   ]
  },
  {
   "cell_type": "code",
   "execution_count": 37,
   "metadata": {},
   "outputs": [
    {
     "name": "stdout",
     "output_type": "stream",
     "text": [
      "10 10 10 10\n"
     ]
    }
   ],
   "source": [
    "print(len(loc_list),len(job_titles),len(company_names),len(exp_list))"
   ]
  },
  {
   "cell_type": "code",
   "execution_count": 40,
   "metadata": {},
   "outputs": [
    {
     "data": {
      "text/html": [
       "<div>\n",
       "<style scoped>\n",
       "    .dataframe tbody tr th:only-of-type {\n",
       "        vertical-align: middle;\n",
       "    }\n",
       "\n",
       "    .dataframe tbody tr th {\n",
       "        vertical-align: top;\n",
       "    }\n",
       "\n",
       "    .dataframe thead th {\n",
       "        text-align: right;\n",
       "    }\n",
       "</style>\n",
       "<table border=\"1\" class=\"dataframe\">\n",
       "  <thead>\n",
       "    <tr style=\"text-align: right;\">\n",
       "      <th></th>\n",
       "      <th>title</th>\n",
       "      <th>company</th>\n",
       "      <th>loc</th>\n",
       "      <th>exp</th>\n",
       "    </tr>\n",
       "    <tr>\n",
       "      <th>index</th>\n",
       "      <th></th>\n",
       "      <th></th>\n",
       "      <th></th>\n",
       "      <th></th>\n",
       "    </tr>\n",
       "  </thead>\n",
       "  <tbody>\n",
       "    <tr>\n",
       "      <th>1</th>\n",
       "      <td>Business Cum Data Analyst</td>\n",
       "      <td>Virtusa Consulting Services Pvt Ltd</td>\n",
       "      <td>Bangalore/Bengaluru</td>\n",
       "      <td>2-4 Yrs</td>\n",
       "    </tr>\n",
       "    <tr>\n",
       "      <th>2</th>\n",
       "      <td>Procurement Data Analyst</td>\n",
       "      <td>Sunstream Global Technologies LLP</td>\n",
       "      <td>Bangalore/Bengaluru(Koramangala)</td>\n",
       "      <td>0-2 Yrs</td>\n",
       "    </tr>\n",
       "    <tr>\n",
       "      <th>3</th>\n",
       "      <td>Business Data Analyst</td>\n",
       "      <td>GreatLearning</td>\n",
       "      <td>Gurgaon/Gurugram, Bangalore/Bengaluru</td>\n",
       "      <td>2-3 Yrs</td>\n",
       "    </tr>\n",
       "    <tr>\n",
       "      <th>4</th>\n",
       "      <td>Data Analyst with SQL</td>\n",
       "      <td>Wipro Limited</td>\n",
       "      <td>Noida, Gurgaon/Gurugram, Bangalore/Bengaluru</td>\n",
       "      <td>3-5 Yrs</td>\n",
       "    </tr>\n",
       "    <tr>\n",
       "      <th>5</th>\n",
       "      <td>Capital Market- Data Analyst</td>\n",
       "      <td>Genpact</td>\n",
       "      <td>Hyderabad/Secunderabad, Pune, Bangalore/Bengal...</td>\n",
       "      <td>4-8 Yrs</td>\n",
       "    </tr>\n",
       "    <tr>\n",
       "      <th>6</th>\n",
       "      <td>Hiring MIS/Data Analyst(Work from Home)</td>\n",
       "      <td>NIIT Ltd.</td>\n",
       "      <td>Kolkata, Hyderabad/Secunderabad, Gurgaon/Gurug...</td>\n",
       "      <td>3-8 Yrs</td>\n",
       "    </tr>\n",
       "    <tr>\n",
       "      <th>7</th>\n",
       "      <td>Senior System Analyst, Data Analyst - II Innings</td>\n",
       "      <td>Intertrust Group</td>\n",
       "      <td>Bangalore/Bengaluru</td>\n",
       "      <td>3-6 Yrs</td>\n",
       "    </tr>\n",
       "    <tr>\n",
       "      <th>8</th>\n",
       "      <td>Data Analyst</td>\n",
       "      <td>Klub</td>\n",
       "      <td>Bangalore/Bengaluru</td>\n",
       "      <td>1-4 Yrs</td>\n",
       "    </tr>\n",
       "    <tr>\n",
       "      <th>9</th>\n",
       "      <td>ID&amp;A - Data Analyst - Informatica MDM</td>\n",
       "      <td>Shell India Markets Private Limited</td>\n",
       "      <td>Bangalore/Bengaluru</td>\n",
       "      <td>5-9 Yrs</td>\n",
       "    </tr>\n",
       "    <tr>\n",
       "      <th>10</th>\n",
       "      <td>Sustainability Data Analyst</td>\n",
       "      <td>Capgemini Technology Services India Limited</td>\n",
       "      <td>Bangalore/Bengaluru</td>\n",
       "      <td>4-6 Yrs</td>\n",
       "    </tr>\n",
       "  </tbody>\n",
       "</table>\n",
       "</div>"
      ],
      "text/plain": [
       "                                                  title  \\\n",
       "index                                                     \n",
       "1                             Business Cum Data Analyst   \n",
       "2                              Procurement Data Analyst   \n",
       "3                                 Business Data Analyst   \n",
       "4                                 Data Analyst with SQL   \n",
       "5                          Capital Market- Data Analyst   \n",
       "6               Hiring MIS/Data Analyst(Work from Home)   \n",
       "7      Senior System Analyst, Data Analyst - II Innings   \n",
       "8                                          Data Analyst   \n",
       "9                 ID&A - Data Analyst - Informatica MDM   \n",
       "10                          Sustainability Data Analyst   \n",
       "\n",
       "                                           company  \\\n",
       "index                                                \n",
       "1              Virtusa Consulting Services Pvt Ltd   \n",
       "2                Sunstream Global Technologies LLP   \n",
       "3                                    GreatLearning   \n",
       "4                                    Wipro Limited   \n",
       "5                                          Genpact   \n",
       "6                                        NIIT Ltd.   \n",
       "7                                 Intertrust Group   \n",
       "8                                             Klub   \n",
       "9              Shell India Markets Private Limited   \n",
       "10     Capgemini Technology Services India Limited   \n",
       "\n",
       "                                                     loc      exp  \n",
       "index                                                              \n",
       "1                                    Bangalore/Bengaluru  2-4 Yrs  \n",
       "2                       Bangalore/Bengaluru(Koramangala)  0-2 Yrs  \n",
       "3                  Gurgaon/Gurugram, Bangalore/Bengaluru  2-3 Yrs  \n",
       "4           Noida, Gurgaon/Gurugram, Bangalore/Bengaluru  3-5 Yrs  \n",
       "5      Hyderabad/Secunderabad, Pune, Bangalore/Bengal...  4-8 Yrs  \n",
       "6      Kolkata, Hyderabad/Secunderabad, Gurgaon/Gurug...  3-8 Yrs  \n",
       "7                                    Bangalore/Bengaluru  3-6 Yrs  \n",
       "8                                    Bangalore/Bengaluru  1-4 Yrs  \n",
       "9                                    Bangalore/Bengaluru  5-9 Yrs  \n",
       "10                                   Bangalore/Bengaluru  4-6 Yrs  "
      ]
     },
     "execution_count": 40,
     "metadata": {},
     "output_type": "execute_result"
    }
   ],
   "source": [
    "jobsDF=pd.DataFrame({})\n",
    "jobsDF['title']=job_titles\n",
    "jobsDF['company']=company_names\n",
    "jobsDF['loc']=loc_list\n",
    "jobsDF['exp']=exp_list\n",
    "jobsDF['index']=list(range(1,len(job_titles)+1))\n",
    "jobsDF.set_index('index',inplace=True)\n",
    "jobsDF"
   ]
  },
  {
   "cell_type": "code",
   "execution_count": null,
   "metadata": {},
   "outputs": [],
   "source": []
  },
  {
   "cell_type": "markdown",
   "metadata": {},
   "source": [
    "### scrape data for “Data Scientist” Job position in “Bangalore” location. job-title, job-location, company_name, full job-description. for 10 jobs data."
   ]
  },
  {
   "cell_type": "code",
   "execution_count": 3,
   "metadata": {},
   "outputs": [],
   "source": [
    "driver.get(\"https://www.naukri.com/\")"
   ]
  },
  {
   "cell_type": "code",
   "execution_count": 4,
   "metadata": {},
   "outputs": [],
   "source": [
    "# getting location and job fields\n",
    "search_job=driver.find_element_by_id('qsb-keyword-sugg')\n",
    "search_job.send_keys(\"Data Scientist\")\n",
    "search_loc=driver.find_element_by_xpath(\"//input[@id='qsb-location-sugg']\")\n",
    "search_loc.send_keys(\"Banglore\")"
   ]
  },
  {
   "cell_type": "code",
   "execution_count": 5,
   "metadata": {},
   "outputs": [],
   "source": [
    "# clicking the search button\n",
    "search_btn=driver.find_element_by_xpath(\"//div[@class='search-btn']/button\")\n",
    "search_btn.click()"
   ]
  },
  {
   "cell_type": "code",
   "execution_count": 6,
   "metadata": {},
   "outputs": [],
   "source": [
    "#info fleft\n",
    "title_tags=driver.find_elements_by_xpath(\"//div[@class='info fleft']/a[1]\")\n",
    "title_tags=title_tags[0:10]"
   ]
  },
  {
   "cell_type": "code",
   "execution_count": 7,
   "metadata": {},
   "outputs": [],
   "source": [
    "job_titles=[]\n",
    "for i in title_tags:\n",
    "    title=i.text\n",
    "    job_titles.append(title)\n"
   ]
  },
  {
   "cell_type": "code",
   "execution_count": 111,
   "metadata": {},
   "outputs": [],
   "source": [
    "#subTitle ellipsis fleft\n",
    "company_tags=driver.find_elements_by_xpath(\"//a[@class='subTitle ellipsis fleft']\")\n",
    "company_tags=company_tags[0:10]"
   ]
  },
  {
   "cell_type": "code",
   "execution_count": 112,
   "metadata": {},
   "outputs": [
    {
     "data": {
      "text/plain": [
       "['Visa Inc.',\n",
       " 'IBM India Pvt. Limited',\n",
       " 'IBM India Pvt. Limited',\n",
       " 'Visa Inc.',\n",
       " 'Exploro Solutions',\n",
       " 'Peoplefy Infosolutions Pvt. Ltd.',\n",
       " 'HP India Sales',\n",
       " 'Findability Sciences Pvt. Ltd.',\n",
       " 'The Glove',\n",
       " 'IBM India Pvt. Limited']"
      ]
     },
     "execution_count": 112,
     "metadata": {},
     "output_type": "execute_result"
    }
   ],
   "source": [
    "company_names=[]\n",
    "\n",
    "for i in company_tags:\n",
    "    company=i.text\n",
    "    company_names.append(company)\n",
    "company_names "
   ]
  },
  {
   "cell_type": "code",
   "execution_count": 113,
   "metadata": {},
   "outputs": [],
   "source": [
    "location_tags=driver.find_elements_by_xpath(\"//li[@class='fleft grey-text br2 placeHolderLi location']/span[1]\")\n",
    "location_tags=location_tags[0:10]"
   ]
  },
  {
   "cell_type": "code",
   "execution_count": 114,
   "metadata": {},
   "outputs": [
    {
     "data": {
      "text/plain": [
       "['Bangalore/Bengaluru',\n",
       " 'Bangalore/Bengaluru',\n",
       " 'Bangalore/Bengaluru',\n",
       " 'Bangalore/Bengaluru',\n",
       " 'Pune, Chennai, Bangalore/Bengaluru',\n",
       " 'Pune, Bangalore/Bengaluru',\n",
       " 'Bangalore/Bengaluru',\n",
       " 'Bangalore/Bengaluru',\n",
       " 'Bangalore/Bengaluru',\n",
       " 'Bengaluru/Bangalore']"
      ]
     },
     "execution_count": 114,
     "metadata": {},
     "output_type": "execute_result"
    }
   ],
   "source": [
    "loc_list=[]\n",
    "for i in location_tags:\n",
    "    loc_list.append(i.text)\n",
    "loc_list"
   ]
  },
  {
   "cell_type": "code",
   "execution_count": 197,
   "metadata": {},
   "outputs": [],
   "source": [
    "def find_job_desc(driver,page):\n",
    "    #print(page)\n",
    "    driver.get(page)\n",
    "    job_desc_text=\"\"\n",
    "\n",
    "    job_desc=driver.find_elements_by_xpath(\"//section[@class='job-desc']/div[1]\")\n",
    "    if job_desc==[]:\n",
    "        job_desc=driver.find_elements_by_xpath(\"//div[@class='clearboth description']\")\n",
    "    if job_desc==[]:\n",
    "        job_desc=driver.find_elements_by_xpath(\"//div[@class='f14 lh18 alignJ disc-li']\")\n",
    "    for i in job_desc:\n",
    "        job_desc_text=job_desc_text+i.text.replace(\"\\n\",\"\")\n",
    "    #print(job_desc_text)\n",
    "    return job_desc_text\n",
    "    "
   ]
  },
  {
   "cell_type": "code",
   "execution_count": 156,
   "metadata": {},
   "outputs": [],
   "source": [
    "driver2=webdriver.Chrome(r\"E:\\softwares\\chromedriver.exe\")"
   ]
  },
  {
   "cell_type": "code",
   "execution_count": 183,
   "metadata": {},
   "outputs": [],
   "source": [
    "job_href_tags=driver.find_elements_by_xpath(\"//div[@class='info fleft']/a[1]\")\n",
    "job_href_tags=job_href_tags[0:10]"
   ]
  },
  {
   "cell_type": "code",
   "execution_count": 198,
   "metadata": {},
   "outputs": [],
   "source": [
    "job_desc_list=[]\n",
    "for atag in job_href_tags:\n",
    "    \n",
    "    job_desc_list.append(find_job_desc(driver2,atag.get_attribute('href')))\n"
   ]
  },
  {
   "cell_type": "code",
   "execution_count": 199,
   "metadata": {},
   "outputs": [
    {
     "data": {
      "text/html": [
       "<div>\n",
       "<style scoped>\n",
       "    .dataframe tbody tr th:only-of-type {\n",
       "        vertical-align: middle;\n",
       "    }\n",
       "\n",
       "    .dataframe tbody tr th {\n",
       "        vertical-align: top;\n",
       "    }\n",
       "\n",
       "    .dataframe thead th {\n",
       "        text-align: right;\n",
       "    }\n",
       "</style>\n",
       "<table border=\"1\" class=\"dataframe\">\n",
       "  <thead>\n",
       "    <tr style=\"text-align: right;\">\n",
       "      <th></th>\n",
       "      <th>title</th>\n",
       "      <th>company</th>\n",
       "      <th>loc</th>\n",
       "      <th>JD</th>\n",
       "    </tr>\n",
       "    <tr>\n",
       "      <th>index</th>\n",
       "      <th></th>\n",
       "      <th></th>\n",
       "      <th></th>\n",
       "      <th></th>\n",
       "    </tr>\n",
       "  </thead>\n",
       "  <tbody>\n",
       "    <tr>\n",
       "      <th>1</th>\n",
       "      <td>Senior Data Scientist</td>\n",
       "      <td>Visa Inc.</td>\n",
       "      <td>Bangalore/Bengaluru</td>\n",
       "      <td>What a Manager, DS Center of Excellence does a...</td>\n",
       "    </tr>\n",
       "    <tr>\n",
       "      <th>2</th>\n",
       "      <td>Data Scientist: Advanced Analytics</td>\n",
       "      <td>IBM India Pvt. Limited</td>\n",
       "      <td>Bangalore/Bengaluru</td>\n",
       "      <td>As a Data Scientist at IBM, you will help tran...</td>\n",
       "    </tr>\n",
       "    <tr>\n",
       "      <th>3</th>\n",
       "      <td>Data Scientist: Artificial Intelligence</td>\n",
       "      <td>IBM India Pvt. Limited</td>\n",
       "      <td>Bangalore/Bengaluru</td>\n",
       "      <td>As Data Scientist, you will develop, maintain,...</td>\n",
       "    </tr>\n",
       "    <tr>\n",
       "      <th>4</th>\n",
       "      <td>Data Scientist , Data Products</td>\n",
       "      <td>Visa Inc.</td>\n",
       "      <td>Bangalore/Bengaluru</td>\n",
       "      <td>As part of the Global Product organization, th...</td>\n",
       "    </tr>\n",
       "    <tr>\n",
       "      <th>5</th>\n",
       "      <td>Senior Data Scientist/Tech Lead - SQL/Python/B...</td>\n",
       "      <td>Exploro Solutions</td>\n",
       "      <td>Pune, Chennai, Bangalore/Bengaluru</td>\n",
       "      <td>Responsibilities :- Lead a team of data scient...</td>\n",
       "    </tr>\n",
       "    <tr>\n",
       "      <th>6</th>\n",
       "      <td>Senior Data Scientist with a leading Global Te...</td>\n",
       "      <td>Peoplefy Infosolutions Pvt. Ltd.</td>\n",
       "      <td>Pune, Bangalore/Bengaluru</td>\n",
       "      <td>Support build &amp; deployment of analytical solut...</td>\n",
       "    </tr>\n",
       "    <tr>\n",
       "      <th>7</th>\n",
       "      <td>Data Scientist</td>\n",
       "      <td>HP India Sales</td>\n",
       "      <td>Bangalore/Bengaluru</td>\n",
       "      <td>The Data Scientist will work closely with the ...</td>\n",
       "    </tr>\n",
       "    <tr>\n",
       "      <th>8</th>\n",
       "      <td>Data Scientist-India-Bangalore/US- SFO-CA</td>\n",
       "      <td>Findability Sciences Pvt. Ltd.</td>\n",
       "      <td>Bangalore/Bengaluru</td>\n",
       "      <td>Data Scientist-Bangalore-Initially remote than...</td>\n",
       "    </tr>\n",
       "    <tr>\n",
       "      <th>9</th>\n",
       "      <td>Senior Advanced Data Scientist</td>\n",
       "      <td>The Glove</td>\n",
       "      <td>Bangalore/Bengaluru</td>\n",
       "      <td>We are looking for Senior Advanced Data Scient...</td>\n",
       "    </tr>\n",
       "    <tr>\n",
       "      <th>10</th>\n",
       "      <td>Data Scientist</td>\n",
       "      <td>IBM India Pvt. Limited</td>\n",
       "      <td>Bengaluru/Bangalore</td>\n",
       "      <td>IntroductionAs a Data Scientist at IBM, you wi...</td>\n",
       "    </tr>\n",
       "  </tbody>\n",
       "</table>\n",
       "</div>"
      ],
      "text/plain": [
       "                                                   title  \\\n",
       "index                                                      \n",
       "1                                  Senior Data Scientist   \n",
       "2                     Data Scientist: Advanced Analytics   \n",
       "3                Data Scientist: Artificial Intelligence   \n",
       "4                         Data Scientist , Data Products   \n",
       "5      Senior Data Scientist/Tech Lead - SQL/Python/B...   \n",
       "6      Senior Data Scientist with a leading Global Te...   \n",
       "7                                         Data Scientist   \n",
       "8              Data Scientist-India-Bangalore/US- SFO-CA   \n",
       "9                         Senior Advanced Data Scientist   \n",
       "10                                        Data Scientist   \n",
       "\n",
       "                                company                                 loc  \\\n",
       "index                                                                         \n",
       "1                             Visa Inc.                 Bangalore/Bengaluru   \n",
       "2                IBM India Pvt. Limited                 Bangalore/Bengaluru   \n",
       "3                IBM India Pvt. Limited                 Bangalore/Bengaluru   \n",
       "4                             Visa Inc.                 Bangalore/Bengaluru   \n",
       "5                     Exploro Solutions  Pune, Chennai, Bangalore/Bengaluru   \n",
       "6      Peoplefy Infosolutions Pvt. Ltd.           Pune, Bangalore/Bengaluru   \n",
       "7                        HP India Sales                 Bangalore/Bengaluru   \n",
       "8        Findability Sciences Pvt. Ltd.                 Bangalore/Bengaluru   \n",
       "9                             The Glove                 Bangalore/Bengaluru   \n",
       "10               IBM India Pvt. Limited                 Bengaluru/Bangalore   \n",
       "\n",
       "                                                      JD  \n",
       "index                                                     \n",
       "1      What a Manager, DS Center of Excellence does a...  \n",
       "2      As a Data Scientist at IBM, you will help tran...  \n",
       "3      As Data Scientist, you will develop, maintain,...  \n",
       "4      As part of the Global Product organization, th...  \n",
       "5      Responsibilities :- Lead a team of data scient...  \n",
       "6      Support build & deployment of analytical solut...  \n",
       "7      The Data Scientist will work closely with the ...  \n",
       "8      Data Scientist-Bangalore-Initially remote than...  \n",
       "9      We are looking for Senior Advanced Data Scient...  \n",
       "10     IntroductionAs a Data Scientist at IBM, you wi...  "
      ]
     },
     "execution_count": 199,
     "metadata": {},
     "output_type": "execute_result"
    }
   ],
   "source": [
    "jobsDF2=pd.DataFrame({})\n",
    "jobsDF2['title']=job_titles\n",
    "jobsDF2['company']=company_names\n",
    "jobsDF2['loc']=loc_list\n",
    "jobsDF2['JD']=job_desc_list\n",
    "jobsDF2['index']=list(range(1,len(job_titles)+1))\n",
    "jobsDF2.set_index('index',inplace=True)\n",
    "jobsDF2"
   ]
  },
  {
   "cell_type": "code",
   "execution_count": null,
   "metadata": {},
   "outputs": [],
   "source": []
  },
  {
   "cell_type": "markdown",
   "metadata": {},
   "source": [
    "### Scrape the job-title, job-location, company_name, experience_required. using the filters available\n",
    "location filter  - “Delhi/NCR”\n",
    "salary filter - “3-6” lakhs\n",
    "“Data Scientist” designation for first 10 job results."
   ]
  },
  {
   "cell_type": "code",
   "execution_count": null,
   "metadata": {},
   "outputs": [],
   "source": []
  },
  {
   "cell_type": "code",
   "execution_count": null,
   "metadata": {},
   "outputs": [],
   "source": [
    "search_btn=driver.find_element_by_xpath(\"//div[@class='search-btn']/button\")\n",
    "search_btn.click()"
   ]
  },
  {
   "cell_type": "code",
   "execution_count": 215,
   "metadata": {},
   "outputs": [],
   "source": [
    "driver.get(\"https://www.naukri.com/\")"
   ]
  },
  {
   "cell_type": "code",
   "execution_count": 216,
   "metadata": {},
   "outputs": [],
   "source": [
    "search_job=driver.find_element_by_id('qsb-keyword-sugg')\n",
    "search_job.send_keys(\"Data Scientist\")\n"
   ]
  },
  {
   "cell_type": "code",
   "execution_count": 217,
   "metadata": {},
   "outputs": [],
   "source": [
    "search_btn=driver.find_element_by_xpath(\"//div[@class='search-btn']/button\")\n",
    "search_btn.click()"
   ]
  },
  {
   "cell_type": "code",
   "execution_count": 232,
   "metadata": {},
   "outputs": [],
   "source": [
    "checkboxDelhi=driver.find_element_by_xpath(\"//label[@for='chk-Delhi / NCR-cityTypeGid-']/i[1]\")\n",
    "checkboxDelhi.click()"
   ]
  },
  {
   "cell_type": "code",
   "execution_count": 233,
   "metadata": {},
   "outputs": [],
   "source": [
    "checkboxSalary=driver.find_element_by_xpath(\"//label[@for='chk-0-3 Lakhs-ctcFilter-']/i[1]\")\n",
    "checkboxSalary.click()"
   ]
  },
  {
   "cell_type": "code",
   "execution_count": 235,
   "metadata": {},
   "outputs": [],
   "source": [
    "#info fleft\n",
    "title_tags=driver.find_elements_by_xpath(\"//div[@class='info fleft']/a[1]\")\n",
    "title_tags=title_tags[0:10]\n",
    "job_titles=[]\n",
    "for i in title_tags:\n",
    "    title=i.text\n",
    "    job_titles.append(title)\n"
   ]
  },
  {
   "cell_type": "code",
   "execution_count": 236,
   "metadata": {},
   "outputs": [],
   "source": [
    "location_tags=driver.find_elements_by_xpath(\"//li[@class='fleft grey-text br2 placeHolderLi location']/span[1]\")\n",
    "location_tags=location_tags[0:10]"
   ]
  },
  {
   "cell_type": "code",
   "execution_count": 237,
   "metadata": {},
   "outputs": [
    {
     "data": {
      "text/plain": [
       "['Noida',\n",
       " 'Noida, Noida',\n",
       " 'Gurgaon/Gurugram',\n",
       " 'Gurgaon/Gurugram',\n",
       " 'Ghaziabad, Faridabad, Delhi / NCR',\n",
       " 'Noida, New Delhi, Gurgaon/Gurugram',\n",
       " 'Noida, Gurgaon/Gurugram, Delhi / NCR',\n",
       " 'Kolkata, Hyderabad/Secunderabad, Pune, Chennai, Bangalore/Bengaluru, Delhi / NCR, Mumbai (All Areas)',\n",
       " 'Noida, Gurgaon/Gurugram',\n",
       " 'Noida, Gurgaon/Gurugram, Delhi / NCR']"
      ]
     },
     "execution_count": 237,
     "metadata": {},
     "output_type": "execute_result"
    }
   ],
   "source": [
    "loc_list=[]\n",
    "for i in location_tags:\n",
    "    loc_list.append(i.text)\n",
    "loc_list"
   ]
  },
  {
   "cell_type": "code",
   "execution_count": 238,
   "metadata": {},
   "outputs": [],
   "source": [
    "#subTitle ellipsis fleft\n",
    "company_tags=driver.find_elements_by_xpath(\"//a[@class='subTitle ellipsis fleft']\")\n",
    "company_tags=company_tags[0:10]"
   ]
  },
  {
   "cell_type": "code",
   "execution_count": 239,
   "metadata": {},
   "outputs": [
    {
     "data": {
      "text/plain": [
       "['Jubna',\n",
       " '2coms',\n",
       " 'Humonics Global Private Limited',\n",
       " 'Truetech Solutions Private Limited',\n",
       " 'GABA Consultancy services',\n",
       " 'GABA Consultancy services',\n",
       " 'GABA Consultancy services',\n",
       " 'ERM Placement Services (P) Ltd.',\n",
       " 'Huquo Consulting Pvt. Ltd',\n",
       " 'Truetech Solutions Private Limited']"
      ]
     },
     "execution_count": 239,
     "metadata": {},
     "output_type": "execute_result"
    }
   ],
   "source": [
    "company_names=[]\n",
    "\n",
    "for i in company_tags:\n",
    "    company=i.text\n",
    "    company_names.append(company)\n",
    "company_names "
   ]
  },
  {
   "cell_type": "code",
   "execution_count": 240,
   "metadata": {},
   "outputs": [],
   "source": [
    "# fleft grey-text br2 placeHolderLi experience\n",
    "exp_tags=driver.find_elements_by_xpath(\"//li[@class='fleft grey-text br2 placeHolderLi experience']/span[1]\")\n",
    "exp_tags=exp_tags[0:10]"
   ]
  },
  {
   "cell_type": "code",
   "execution_count": 241,
   "metadata": {},
   "outputs": [
    {
     "data": {
      "text/plain": [
       "['3-5 Yrs',\n",
       " '1-6 Yrs',\n",
       " '1-6 Yrs',\n",
       " '8-10 Yrs',\n",
       " '0-0 Yrs',\n",
       " '0-0 Yrs',\n",
       " '0-0 Yrs',\n",
       " '4-7 Yrs',\n",
       " '2-7 Yrs',\n",
       " '3-5 Yrs']"
      ]
     },
     "execution_count": 241,
     "metadata": {},
     "output_type": "execute_result"
    }
   ],
   "source": [
    "exp_list=[]\n",
    "\n",
    "for i in exp_tags:\n",
    "    exp=i.text\n",
    "    exp_list.append(exp)\n",
    "exp_list "
   ]
  },
  {
   "cell_type": "code",
   "execution_count": 243,
   "metadata": {},
   "outputs": [
    {
     "data": {
      "text/html": [
       "<div>\n",
       "<style scoped>\n",
       "    .dataframe tbody tr th:only-of-type {\n",
       "        vertical-align: middle;\n",
       "    }\n",
       "\n",
       "    .dataframe tbody tr th {\n",
       "        vertical-align: top;\n",
       "    }\n",
       "\n",
       "    .dataframe thead th {\n",
       "        text-align: right;\n",
       "    }\n",
       "</style>\n",
       "<table border=\"1\" class=\"dataframe\">\n",
       "  <thead>\n",
       "    <tr style=\"text-align: right;\">\n",
       "      <th></th>\n",
       "      <th>title</th>\n",
       "      <th>company</th>\n",
       "      <th>loc</th>\n",
       "      <th>exp</th>\n",
       "    </tr>\n",
       "    <tr>\n",
       "      <th>index</th>\n",
       "      <th></th>\n",
       "      <th></th>\n",
       "      <th></th>\n",
       "      <th></th>\n",
       "    </tr>\n",
       "  </thead>\n",
       "  <tbody>\n",
       "    <tr>\n",
       "      <th>1</th>\n",
       "      <td>Data Scientist (Python | Machine Learning)</td>\n",
       "      <td>Jubna</td>\n",
       "      <td>Noida</td>\n",
       "      <td>3-5 Yrs</td>\n",
       "    </tr>\n",
       "    <tr>\n",
       "      <th>2</th>\n",
       "      <td>Data Scientist</td>\n",
       "      <td>2coms</td>\n",
       "      <td>Noida, Noida</td>\n",
       "      <td>1-6 Yrs</td>\n",
       "    </tr>\n",
       "    <tr>\n",
       "      <th>3</th>\n",
       "      <td>Data Scientist</td>\n",
       "      <td>Humonics Global Private Limited</td>\n",
       "      <td>Gurgaon/Gurugram</td>\n",
       "      <td>1-6 Yrs</td>\n",
       "    </tr>\n",
       "    <tr>\n",
       "      <th>4</th>\n",
       "      <td>Need Immediate Joiner For Data Scientist</td>\n",
       "      <td>Truetech Solutions Private Limited</td>\n",
       "      <td>Gurgaon/Gurugram</td>\n",
       "      <td>8-10 Yrs</td>\n",
       "    </tr>\n",
       "    <tr>\n",
       "      <th>5</th>\n",
       "      <td>Data Scientist / Data Analyst / Business Analy...</td>\n",
       "      <td>GABA Consultancy services</td>\n",
       "      <td>Ghaziabad, Faridabad, Delhi / NCR</td>\n",
       "      <td>0-0 Yrs</td>\n",
       "    </tr>\n",
       "    <tr>\n",
       "      <th>6</th>\n",
       "      <td>Data Scientist / Data Analyst / Business Analy...</td>\n",
       "      <td>GABA Consultancy services</td>\n",
       "      <td>Noida, New Delhi, Gurgaon/Gurugram</td>\n",
       "      <td>0-0 Yrs</td>\n",
       "    </tr>\n",
       "    <tr>\n",
       "      <th>7</th>\n",
       "      <td>Only Fresher / Data Scientist / Data Analyst /...</td>\n",
       "      <td>GABA Consultancy services</td>\n",
       "      <td>Noida, Gurgaon/Gurugram, Delhi / NCR</td>\n",
       "      <td>0-0 Yrs</td>\n",
       "    </tr>\n",
       "    <tr>\n",
       "      <th>8</th>\n",
       "      <td>Data Scientist Job in Big4</td>\n",
       "      <td>ERM Placement Services (P) Ltd.</td>\n",
       "      <td>Kolkata, Hyderabad/Secunderabad, Pune, Chennai...</td>\n",
       "      <td>4-7 Yrs</td>\n",
       "    </tr>\n",
       "    <tr>\n",
       "      <th>9</th>\n",
       "      <td>Data Scientist - Insurance</td>\n",
       "      <td>Huquo Consulting Pvt. Ltd</td>\n",
       "      <td>Noida, Gurgaon/Gurugram</td>\n",
       "      <td>2-7 Yrs</td>\n",
       "    </tr>\n",
       "    <tr>\n",
       "      <th>10</th>\n",
       "      <td>Immediate Opening For Data Scientist @ Delhi/NCR</td>\n",
       "      <td>Truetech Solutions Private Limited</td>\n",
       "      <td>Noida, Gurgaon/Gurugram, Delhi / NCR</td>\n",
       "      <td>3-5 Yrs</td>\n",
       "    </tr>\n",
       "  </tbody>\n",
       "</table>\n",
       "</div>"
      ],
      "text/plain": [
       "                                                   title  \\\n",
       "index                                                      \n",
       "1             Data Scientist (Python | Machine Learning)   \n",
       "2                                         Data Scientist   \n",
       "3                                         Data Scientist   \n",
       "4               Need Immediate Joiner For Data Scientist   \n",
       "5      Data Scientist / Data Analyst / Business Analy...   \n",
       "6      Data Scientist / Data Analyst / Business Analy...   \n",
       "7      Only Fresher / Data Scientist / Data Analyst /...   \n",
       "8                             Data Scientist Job in Big4   \n",
       "9                             Data Scientist - Insurance   \n",
       "10      Immediate Opening For Data Scientist @ Delhi/NCR   \n",
       "\n",
       "                                  company  \\\n",
       "index                                       \n",
       "1                                   Jubna   \n",
       "2                                   2coms   \n",
       "3         Humonics Global Private Limited   \n",
       "4      Truetech Solutions Private Limited   \n",
       "5               GABA Consultancy services   \n",
       "6               GABA Consultancy services   \n",
       "7               GABA Consultancy services   \n",
       "8         ERM Placement Services (P) Ltd.   \n",
       "9               Huquo Consulting Pvt. Ltd   \n",
       "10     Truetech Solutions Private Limited   \n",
       "\n",
       "                                                     loc       exp  \n",
       "index                                                               \n",
       "1                                                  Noida   3-5 Yrs  \n",
       "2                                           Noida, Noida   1-6 Yrs  \n",
       "3                                       Gurgaon/Gurugram   1-6 Yrs  \n",
       "4                                       Gurgaon/Gurugram  8-10 Yrs  \n",
       "5                      Ghaziabad, Faridabad, Delhi / NCR   0-0 Yrs  \n",
       "6                     Noida, New Delhi, Gurgaon/Gurugram   0-0 Yrs  \n",
       "7                   Noida, Gurgaon/Gurugram, Delhi / NCR   0-0 Yrs  \n",
       "8      Kolkata, Hyderabad/Secunderabad, Pune, Chennai...   4-7 Yrs  \n",
       "9                                Noida, Gurgaon/Gurugram   2-7 Yrs  \n",
       "10                  Noida, Gurgaon/Gurugram, Delhi / NCR   3-5 Yrs  "
      ]
     },
     "execution_count": 243,
     "metadata": {},
     "output_type": "execute_result"
    }
   ],
   "source": [
    "jobsDF3=pd.DataFrame({})\n",
    "jobsDF3['title']=job_titles\n",
    "jobsDF3['company']=company_names\n",
    "jobsDF3['loc']=loc_list\n",
    "jobsDF3['exp']=exp_list\n",
    "jobsDF3['index']=list(range(1,len(job_titles)+1))\n",
    "jobsDF3.set_index('index',inplace=True)\n",
    "jobsDF3"
   ]
  },
  {
   "cell_type": "code",
   "execution_count": null,
   "metadata": {},
   "outputs": [],
   "source": []
  },
  {
   "cell_type": "code",
   "execution_count": null,
   "metadata": {},
   "outputs": [],
   "source": []
  },
  {
   "cell_type": "markdown",
   "metadata": {},
   "source": [
    "### scrape data for first 10 job results for Data scientist Designation in Noida location.  company_name, No. of days ago when job was posted, Rating of the company."
   ]
  },
  {
   "cell_type": "code",
   "execution_count": null,
   "metadata": {},
   "outputs": [],
   "source": [
    "https://www.glassdoor.co.in/index.htm"
   ]
  },
  {
   "cell_type": "code",
   "execution_count": 244,
   "metadata": {},
   "outputs": [],
   "source": [
    "driver.get(\"https://www.glassdoor.co.in/index.htm\")"
   ]
  },
  {
   "cell_type": "code",
   "execution_count": null,
   "metadata": {},
   "outputs": [],
   "source": []
  },
  {
   "cell_type": "code",
   "execution_count": null,
   "metadata": {},
   "outputs": [],
   "source": [
    "https://www.glassdoor.co.in/"
   ]
  },
  {
   "cell_type": "code",
   "execution_count": 263,
   "metadata": {},
   "outputs": [],
   "source": [
    "browseLinks=driver.find_elements_by_xpath(\"//div[@class='browseLinks d-flex justify-content-center mt-std pb-std']/span[3]/a\")\n",
    "jobs_page=browseLinks[0].get_attribute('href')"
   ]
  },
  {
   "cell_type": "code",
   "execution_count": 264,
   "metadata": {},
   "outputs": [],
   "source": [
    "driver.get(jobs_page)"
   ]
  },
  {
   "cell_type": "code",
   "execution_count": 269,
   "metadata": {},
   "outputs": [],
   "source": [
    "search_job=driver.find_element_by_id('sc.keyword')\n",
    "search_job.send_keys(\"Data Scientist\")\n",
    "search_loc=driver.find_element_by_xpath(\"//input[@id='sc.location']\")\n",
    "search_loc.send_keys(\"Noida\")\n",
    "\n",
    "\n"
   ]
  },
  {
   "cell_type": "code",
   "execution_count": 270,
   "metadata": {},
   "outputs": [],
   "source": [
    "search_btn=driver.find_element_by_xpath(\"//button[@class='gd-ui-button ml-std col-auto SearchStyles__newSearchButton css-1dqvyh7']\")\n",
    "search_btn.click()"
   ]
  },
  {
   "cell_type": "code",
   "execution_count": 272,
   "metadata": {},
   "outputs": [],
   "source": [
    "title_tags=driver.find_elements_by_xpath(\"//div[@class='d-flex justify-content-between align-items-start']/a[1]/span[1]\")\n",
    "title_tags=title_tags[0:10]"
   ]
  },
  {
   "cell_type": "code",
   "execution_count": 273,
   "metadata": {},
   "outputs": [
    {
     "data": {
      "text/plain": [
       "['UnitedHealth Group',\n",
       " 'CODEC Networks Pvt ltd',\n",
       " 'Optum - India',\n",
       " 'Crowe',\n",
       " 'Ericsson',\n",
       " 'UnitedHealth Group',\n",
       " 'Salasar New Age Technologies',\n",
       " 'NEC Opportunities',\n",
       " 'Innovacer',\n",
       " 'R Systems']"
      ]
     },
     "execution_count": 273,
     "metadata": {},
     "output_type": "execute_result"
    }
   ],
   "source": [
    "C_names=[]\n",
    "for i in title_tags:\n",
    "    title=i.text\n",
    "    C_names.append(title)\n",
    "C_names   "
   ]
  },
  {
   "cell_type": "code",
   "execution_count": 284,
   "metadata": {},
   "outputs": [],
   "source": [
    "job_ages=driver.find_elements_by_xpath(\"//div[@class='d-flex justify-content-between css-pa6dqi']/div[2]\")\n",
    "\n",
    "\n",
    "job_ages=job_ages[0:10]"
   ]
  },
  {
   "cell_type": "code",
   "execution_count": 285,
   "metadata": {},
   "outputs": [
    {
     "data": {
      "text/plain": [
       "['11d', '6d', '11d', '2d', '2d', '17d', '30d+', '4d', '30d+', '2d']"
      ]
     },
     "execution_count": 285,
     "metadata": {},
     "output_type": "execute_result"
    }
   ],
   "source": [
    "ages=[]\n",
    "for i in job_ages:\n",
    "    age=i.text\n",
    "    ages.append(age)\n",
    "ages   "
   ]
  },
  {
   "cell_type": "code",
   "execution_count": null,
   "metadata": {},
   "outputs": [],
   "source": []
  },
  {
   "cell_type": "code",
   "execution_count": 289,
   "metadata": {},
   "outputs": [],
   "source": [
    "rating_parent=driver.find_elements_by_xpath(\"//div[@class='d-flex flex-column job-search-key-1pzmdmc e1rrn5ka1']\")\n",
    "rating_parent=rating_parent[0:10]"
   ]
  },
  {
   "cell_type": "code",
   "execution_count": 310,
   "metadata": {},
   "outputs": [],
   "source": [
    "i=rating_parent[0]\n"
   ]
  },
  {
   "cell_type": "code",
   "execution_count": 312,
   "metadata": {},
   "outputs": [
    {
     "name": "stdout",
     "output_type": "stream",
     "text": [
      "3.7\n"
     ]
    }
   ],
   "source": [
    "i=rating_parent[0]\n",
    "y=i.find_elements_by_tag_name('span')\n",
    "\n",
    "for x in y:\n",
    "    if(x.get_attribute(\"class\")==' job-search-key-srfzj0 e1cjmv6j0'):\n",
    "        rating=(x.text)\n"
   ]
  },
  {
   "cell_type": "code",
   "execution_count": 314,
   "metadata": {},
   "outputs": [],
   "source": [
    "def get_rating(parent):\n",
    "    rating=''\n",
    "    y=parent.find_elements_by_tag_name('span')\n",
    "\n",
    "    for x in y:\n",
    "        if(x.get_attribute(\"class\")==' job-search-key-srfzj0 e1cjmv6j0'):\n",
    "            rating=(x.text)\n",
    "    if rating=='':\n",
    "        return \"no rating\"\n",
    "    else:\n",
    "        return rating"
   ]
  },
  {
   "cell_type": "code",
   "execution_count": 315,
   "metadata": {},
   "outputs": [
    {
     "data": {
      "text/plain": [
       "['3.7',\n",
       " '3.1',\n",
       " 'no rating',\n",
       " '3.8',\n",
       " '4.2',\n",
       " '3.7',\n",
       " 'no rating',\n",
       " 'no rating',\n",
       " '3.8',\n",
       " '3.6']"
      ]
     },
     "execution_count": 315,
     "metadata": {},
     "output_type": "execute_result"
    }
   ],
   "source": [
    "rating_list=[]\n",
    "for x in rating_parent:\n",
    "    rating_list.append(get_rating(x))\n",
    "rating_list"
   ]
  },
  {
   "cell_type": "code",
   "execution_count": 319,
   "metadata": {},
   "outputs": [
    {
     "data": {
      "text/html": [
       "<div>\n",
       "<style scoped>\n",
       "    .dataframe tbody tr th:only-of-type {\n",
       "        vertical-align: middle;\n",
       "    }\n",
       "\n",
       "    .dataframe tbody tr th {\n",
       "        vertical-align: top;\n",
       "    }\n",
       "\n",
       "    .dataframe thead th {\n",
       "        text-align: right;\n",
       "    }\n",
       "</style>\n",
       "<table border=\"1\" class=\"dataframe\">\n",
       "  <thead>\n",
       "    <tr style=\"text-align: right;\">\n",
       "      <th></th>\n",
       "      <th>company</th>\n",
       "      <th>rating</th>\n",
       "      <th>age Of Job</th>\n",
       "    </tr>\n",
       "    <tr>\n",
       "      <th>index</th>\n",
       "      <th></th>\n",
       "      <th></th>\n",
       "      <th></th>\n",
       "    </tr>\n",
       "  </thead>\n",
       "  <tbody>\n",
       "    <tr>\n",
       "      <th>1</th>\n",
       "      <td>UnitedHealth Group</td>\n",
       "      <td>3.7</td>\n",
       "      <td>11d</td>\n",
       "    </tr>\n",
       "    <tr>\n",
       "      <th>2</th>\n",
       "      <td>CODEC Networks Pvt ltd</td>\n",
       "      <td>3.1</td>\n",
       "      <td>6d</td>\n",
       "    </tr>\n",
       "    <tr>\n",
       "      <th>3</th>\n",
       "      <td>Optum - India</td>\n",
       "      <td>no rating</td>\n",
       "      <td>11d</td>\n",
       "    </tr>\n",
       "    <tr>\n",
       "      <th>4</th>\n",
       "      <td>Crowe</td>\n",
       "      <td>3.8</td>\n",
       "      <td>2d</td>\n",
       "    </tr>\n",
       "    <tr>\n",
       "      <th>5</th>\n",
       "      <td>Ericsson</td>\n",
       "      <td>4.2</td>\n",
       "      <td>2d</td>\n",
       "    </tr>\n",
       "    <tr>\n",
       "      <th>6</th>\n",
       "      <td>UnitedHealth Group</td>\n",
       "      <td>3.7</td>\n",
       "      <td>17d</td>\n",
       "    </tr>\n",
       "    <tr>\n",
       "      <th>7</th>\n",
       "      <td>Salasar New Age Technologies</td>\n",
       "      <td>no rating</td>\n",
       "      <td>30d+</td>\n",
       "    </tr>\n",
       "    <tr>\n",
       "      <th>8</th>\n",
       "      <td>NEC Opportunities</td>\n",
       "      <td>no rating</td>\n",
       "      <td>4d</td>\n",
       "    </tr>\n",
       "    <tr>\n",
       "      <th>9</th>\n",
       "      <td>Innovacer</td>\n",
       "      <td>3.8</td>\n",
       "      <td>30d+</td>\n",
       "    </tr>\n",
       "    <tr>\n",
       "      <th>10</th>\n",
       "      <td>R Systems</td>\n",
       "      <td>3.6</td>\n",
       "      <td>2d</td>\n",
       "    </tr>\n",
       "  </tbody>\n",
       "</table>\n",
       "</div>"
      ],
      "text/plain": [
       "                            company     rating age Of Job\n",
       "index                                                    \n",
       "1                UnitedHealth Group        3.7        11d\n",
       "2            CODEC Networks Pvt ltd        3.1         6d\n",
       "3                     Optum - India  no rating        11d\n",
       "4                             Crowe        3.8         2d\n",
       "5                          Ericsson        4.2         2d\n",
       "6                UnitedHealth Group        3.7        17d\n",
       "7      Salasar New Age Technologies  no rating       30d+\n",
       "8                 NEC Opportunities  no rating         4d\n",
       "9                         Innovacer        3.8       30d+\n",
       "10                        R Systems        3.6         2d"
      ]
     },
     "execution_count": 319,
     "metadata": {},
     "output_type": "execute_result"
    }
   ],
   "source": [
    "glassDoor=pd.DataFrame({})\n",
    "glassDoor['company']=C_names\n",
    "glassDoor['rating']=rating_list\n",
    "glassDoor['age Of Job']=ages\n",
    "\n",
    "glassDoor['index']=list(range(1,len(company_names)+1))\n",
    "glassDoor.set_index('index',inplace=True)\n",
    "glassDoor"
   ]
  },
  {
   "cell_type": "code",
   "execution_count": null,
   "metadata": {},
   "outputs": [],
   "source": []
  },
  {
   "cell_type": "code",
   "execution_count": null,
   "metadata": {},
   "outputs": [],
   "source": []
  },
  {
   "cell_type": "code",
   "execution_count": null,
   "metadata": {},
   "outputs": [],
   "source": []
  },
  {
   "cell_type": "markdown",
   "metadata": {},
   "source": [
    "## scrape the salary data for Data Scientist designation in Noida location.\n",
    "Scrape data for first 10 companies. Scrape the min salary, max salary, company name, Average salary and rating of the company."
   ]
  },
  {
   "cell_type": "code",
   "execution_count": 46,
   "metadata": {},
   "outputs": [],
   "source": [
    "driver.get(\"https://www.glassdoor.co.in/Salaries/index.htm\")"
   ]
  },
  {
   "cell_type": "code",
   "execution_count": 47,
   "metadata": {},
   "outputs": [],
   "source": [
    "search_job=driver.find_element_by_name('sc.keyword')\n",
    "search_job.send_keys(\"Data Scientist\")\n",
    "\n",
    "search_loc=driver.find_element_by_id(\"LocationSearch\")\n",
    "search_loc.clear()\n",
    "search_loc.send_keys(\"Noida\")\n"
   ]
  },
  {
   "cell_type": "code",
   "execution_count": 48,
   "metadata": {},
   "outputs": [],
   "source": [
    "search_btn=driver.find_element_by_xpath(\"//button[@class='gd-btn-mkt']\")\n",
    "search_btn.click()"
   ]
  },
  {
   "cell_type": "code",
   "execution_count": 49,
   "metadata": {},
   "outputs": [],
   "source": [
    "#get signin button\n",
    "signInButton=driver.find_element_by_xpath(\"//a[@data-test='signInLink']\")\n",
    "signInButton.click()"
   ]
  },
  {
   "cell_type": "code",
   "execution_count": 52,
   "metadata": {},
   "outputs": [],
   "source": [
    "emailAddressIp=driver.find_element_by_xpath(\"/html/body/div[4]/div/div/div/div/div/div/div[1]/div[3]/form/div[1]/div/input\")\n",
    "emailAddressIp.send_keys(\"saikrishna1930@gmail.com\")\n"
   ]
  },
  {
   "cell_type": "code",
   "execution_count": 54,
   "metadata": {},
   "outputs": [],
   "source": [
    "passwordIP=driver.find_element_by_xpath(\"/html/body/div[4]/div/div/div/div/div/div/div[1]/div[3]/form/div[2]/div/div/input\")\n",
    "passwordIP.send_keys(\"Sk12345678\")\n"
   ]
  },
  {
   "cell_type": "code",
   "execution_count": 56,
   "metadata": {},
   "outputs": [],
   "source": [
    "signInButton=driver.find_element_by_xpath(\"/html/body/div[4]/div/div/div/div/div/div/div[1]/div[3]/form/div[3]/div[1]/button\")\n",
    "signInButton.click()"
   ]
  },
  {
   "cell_type": "code",
   "execution_count": null,
   "metadata": {},
   "outputs": [],
   "source": [
    "class=\"py css-17435dd\""
   ]
  },
  {
   "cell_type": "code",
   "execution_count": 57,
   "metadata": {},
   "outputs": [
    {
     "data": {
      "text/plain": [
       "20"
      ]
     },
     "execution_count": 57,
     "metadata": {},
     "output_type": "execute_result"
    }
   ],
   "source": [
    "listItemContainers=driver.find_elements_by_xpath(\"//div[@class='py css-17435dd']\")\n",
    "len(listItemContainers)"
   ]
  },
  {
   "cell_type": "code",
   "execution_count": 79,
   "metadata": {},
   "outputs": [],
   "source": [
    "def getSalaryDetails(listItemContainer):\n",
    "    try:\n",
    "        ratingCon=listItemContainer.find_element_by_xpath(\".//span[@class='m-0 css-kyx745']\")        \n",
    "        rating=ratingCon.text\n",
    "    except:\n",
    "        rating=\"np.Nan\"\n",
    "    try:\n",
    "        companyCon=listItemContainer.find_element_by_xpath(\".//h3[@class='m-0 css-g261rn']\")\n",
    "        cName=companyCon.text\n",
    "    except:\n",
    "        cName=\"NO Name\"\n",
    "    try:\n",
    "        avgSalCont=listItemContainer.find_element_by_xpath(\".//div[@class='col-12 col-lg-4 px-lg-0 d-flex align-items-baseline']/h3[1]\")\n",
    "        avgSal=avgSalCont.text\n",
    "    except:\n",
    "        avgSal=\"np.Nan\"\n",
    "    try:\n",
    "        salsCont=listItemContainer.find_elements_by_xpath(\".//div[@class='d-flex mt-xxsm css-79elbk epuxyqn0']/p\")\n",
    "        minsal=salsCont[0].text\n",
    "        maxsal=salsCont[1].text\n",
    "        \n",
    "    except:\n",
    "        minsal=np.Nan\n",
    "        maxsal=np.Nan\n",
    "        \n",
    "    return(rating,cName,avgSal,minsal,maxsal)"
   ]
  },
  {
   "cell_type": "code",
   "execution_count": 81,
   "metadata": {},
   "outputs": [
    {
     "data": {
      "text/html": [
       "<div>\n",
       "<style scoped>\n",
       "    .dataframe tbody tr th:only-of-type {\n",
       "        vertical-align: middle;\n",
       "    }\n",
       "\n",
       "    .dataframe tbody tr th {\n",
       "        vertical-align: top;\n",
       "    }\n",
       "\n",
       "    .dataframe thead th {\n",
       "        text-align: right;\n",
       "    }\n",
       "</style>\n",
       "<table border=\"1\" class=\"dataframe\">\n",
       "  <thead>\n",
       "    <tr style=\"text-align: right;\">\n",
       "      <th></th>\n",
       "      <th>company</th>\n",
       "      <th>rating</th>\n",
       "      <th>avg Sal</th>\n",
       "      <th>min Sal</th>\n",
       "      <th>max Sal</th>\n",
       "    </tr>\n",
       "    <tr>\n",
       "      <th>index</th>\n",
       "      <th></th>\n",
       "      <th></th>\n",
       "      <th></th>\n",
       "      <th></th>\n",
       "      <th></th>\n",
       "    </tr>\n",
       "  </thead>\n",
       "  <tbody>\n",
       "    <tr>\n",
       "      <th>1</th>\n",
       "      <td>Tata Consultancy Services</td>\n",
       "      <td>3.9</td>\n",
       "      <td>₹6,31,184</td>\n",
       "      <td>₹4L</td>\n",
       "      <td>₹13L</td>\n",
       "    </tr>\n",
       "    <tr>\n",
       "      <th>2</th>\n",
       "      <td>IBM</td>\n",
       "      <td>3.9</td>\n",
       "      <td>₹9,08,246</td>\n",
       "      <td>₹1L</td>\n",
       "      <td>₹28L</td>\n",
       "    </tr>\n",
       "    <tr>\n",
       "      <th>3</th>\n",
       "      <td>Accenture</td>\n",
       "      <td>4.1</td>\n",
       "      <td>₹11,93,390</td>\n",
       "      <td>₹6L</td>\n",
       "      <td>₹23L</td>\n",
       "    </tr>\n",
       "    <tr>\n",
       "      <th>4</th>\n",
       "      <td>Ericsson-Worldwide</td>\n",
       "      <td>4</td>\n",
       "      <td>₹7,61,766</td>\n",
       "      <td>₹4L</td>\n",
       "      <td>₹17L</td>\n",
       "    </tr>\n",
       "    <tr>\n",
       "      <th>5</th>\n",
       "      <td>Delhivery</td>\n",
       "      <td>3.7</td>\n",
       "      <td>₹12,49,716</td>\n",
       "      <td>₹5L</td>\n",
       "      <td>₹1Cr</td>\n",
       "    </tr>\n",
       "    <tr>\n",
       "      <th>6</th>\n",
       "      <td>UnitedHealth Group</td>\n",
       "      <td>3.7</td>\n",
       "      <td>₹12,80,000</td>\n",
       "      <td>₹8L</td>\n",
       "      <td>₹16L</td>\n",
       "    </tr>\n",
       "    <tr>\n",
       "      <th>7</th>\n",
       "      <td>EXL Service</td>\n",
       "      <td>3.6</td>\n",
       "      <td>₹12,42,519</td>\n",
       "      <td>₹6L</td>\n",
       "      <td>₹20L</td>\n",
       "    </tr>\n",
       "    <tr>\n",
       "      <th>8</th>\n",
       "      <td>Optum</td>\n",
       "      <td>3.7</td>\n",
       "      <td>₹12,70,000</td>\n",
       "      <td>₹8L</td>\n",
       "      <td>₹20L</td>\n",
       "    </tr>\n",
       "    <tr>\n",
       "      <th>9</th>\n",
       "      <td>Optum Global Solutions</td>\n",
       "      <td>3.9</td>\n",
       "      <td>₹14,55,430</td>\n",
       "      <td>₹10L</td>\n",
       "      <td>₹18L</td>\n",
       "    </tr>\n",
       "    <tr>\n",
       "      <th>10</th>\n",
       "      <td>dunnhumby</td>\n",
       "      <td>4</td>\n",
       "      <td>₹11,40,187</td>\n",
       "      <td>₹6L</td>\n",
       "      <td>₹21L</td>\n",
       "    </tr>\n",
       "    <tr>\n",
       "      <th>11</th>\n",
       "      <td>Valiance Solutions</td>\n",
       "      <td>4.2</td>\n",
       "      <td>₹8,86,064</td>\n",
       "      <td>₹5L</td>\n",
       "      <td>₹15L</td>\n",
       "    </tr>\n",
       "    <tr>\n",
       "      <th>12</th>\n",
       "      <td>Cognizant Technology Solutions</td>\n",
       "      <td>3.8</td>\n",
       "      <td>₹9,62,227</td>\n",
       "      <td>₹4L</td>\n",
       "      <td>₹13L</td>\n",
       "    </tr>\n",
       "    <tr>\n",
       "      <th>13</th>\n",
       "      <td>Amazon</td>\n",
       "      <td>3.8</td>\n",
       "      <td>₹20,63,782</td>\n",
       "      <td>₹10L</td>\n",
       "      <td>₹46L</td>\n",
       "    </tr>\n",
       "    <tr>\n",
       "      <th>14</th>\n",
       "      <td>ZS Associates</td>\n",
       "      <td>4</td>\n",
       "      <td>₹11,71,868</td>\n",
       "      <td>₹2L</td>\n",
       "      <td>₹19L</td>\n",
       "    </tr>\n",
       "    <tr>\n",
       "      <th>15</th>\n",
       "      <td>Nagarro</td>\n",
       "      <td>4</td>\n",
       "      <td>₹11,01,815</td>\n",
       "      <td>₹4L</td>\n",
       "      <td>₹21L</td>\n",
       "    </tr>\n",
       "    <tr>\n",
       "      <th>16</th>\n",
       "      <td>Innovaccer</td>\n",
       "      <td>3.8</td>\n",
       "      <td>₹12,40,275</td>\n",
       "      <td>₹6L</td>\n",
       "      <td>₹17L</td>\n",
       "    </tr>\n",
       "    <tr>\n",
       "      <th>17</th>\n",
       "      <td>Fresher</td>\n",
       "      <td>4.1</td>\n",
       "      <td>₹50,000</td>\n",
       "      <td>₹25T</td>\n",
       "      <td>₹1L</td>\n",
       "    </tr>\n",
       "    <tr>\n",
       "      <th>18</th>\n",
       "      <td>OYO</td>\n",
       "      <td>3.3</td>\n",
       "      <td>₹14,51,902</td>\n",
       "      <td>₹10L</td>\n",
       "      <td>₹21L</td>\n",
       "    </tr>\n",
       "    <tr>\n",
       "      <th>19</th>\n",
       "      <td>HCL Technologies</td>\n",
       "      <td>3.7</td>\n",
       "      <td>₹6,87,316</td>\n",
       "      <td>₹4L</td>\n",
       "      <td>₹15L</td>\n",
       "    </tr>\n",
       "    <tr>\n",
       "      <th>20</th>\n",
       "      <td>Genpact</td>\n",
       "      <td>3.8</td>\n",
       "      <td>₹5,91,319</td>\n",
       "      <td>₹2L</td>\n",
       "      <td>₹23L</td>\n",
       "    </tr>\n",
       "  </tbody>\n",
       "</table>\n",
       "</div>"
      ],
      "text/plain": [
       "                              company rating     avg Sal min Sal max Sal\n",
       "index                                                                   \n",
       "1           Tata Consultancy Services    3.9   ₹6,31,184     ₹4L    ₹13L\n",
       "2                                 IBM    3.9   ₹9,08,246     ₹1L    ₹28L\n",
       "3                           Accenture    4.1  ₹11,93,390     ₹6L    ₹23L\n",
       "4                  Ericsson-Worldwide      4   ₹7,61,766     ₹4L    ₹17L\n",
       "5                           Delhivery    3.7  ₹12,49,716     ₹5L    ₹1Cr\n",
       "6                  UnitedHealth Group    3.7  ₹12,80,000     ₹8L    ₹16L\n",
       "7                         EXL Service    3.6  ₹12,42,519     ₹6L    ₹20L\n",
       "8                               Optum    3.7  ₹12,70,000     ₹8L    ₹20L\n",
       "9              Optum Global Solutions    3.9  ₹14,55,430    ₹10L    ₹18L\n",
       "10                          dunnhumby      4  ₹11,40,187     ₹6L    ₹21L\n",
       "11                 Valiance Solutions    4.2   ₹8,86,064     ₹5L    ₹15L\n",
       "12     Cognizant Technology Solutions    3.8   ₹9,62,227     ₹4L    ₹13L\n",
       "13                             Amazon    3.8  ₹20,63,782    ₹10L    ₹46L\n",
       "14                      ZS Associates      4  ₹11,71,868     ₹2L    ₹19L\n",
       "15                            Nagarro      4  ₹11,01,815     ₹4L    ₹21L\n",
       "16                         Innovaccer    3.8  ₹12,40,275     ₹6L    ₹17L\n",
       "17                            Fresher    4.1     ₹50,000    ₹25T     ₹1L\n",
       "18                                OYO    3.3  ₹14,51,902    ₹10L    ₹21L\n",
       "19                   HCL Technologies    3.7   ₹6,87,316     ₹4L    ₹15L\n",
       "20                            Genpact    3.8   ₹5,91,319     ₹2L    ₹23L"
      ]
     },
     "execution_count": 81,
     "metadata": {},
     "output_type": "execute_result"
    }
   ],
   "source": [
    "cNameList=[]\n",
    "ratingList=[]\n",
    "avgSalList=[]\n",
    "minSalList=[]\n",
    "maxSalList=[]\n",
    "for listItemContainer in listItemContainers:\n",
    "    (rating,cName,avgSal,minsal,maxsal)=getSalaryDetails(listItemContainer)\n",
    "    cNameList.append(cName)\n",
    "    ratingList.append(rating)\n",
    "    avgSalList.append(avgSal)\n",
    "    minSalList.append(minsal)\n",
    "    maxSalList.append(maxsal)\n",
    "glassDoorDS=pd.DataFrame({})\n",
    "glassDoorDS['company']=cNameList\n",
    "glassDoorDS['rating']=ratingList\n",
    "glassDoorDS['avg Sal']=avgSalList\n",
    "glassDoorDS['min Sal']=minSalList\n",
    "glassDoorDS['max Sal']=maxSalList\n",
    "\n",
    "\n",
    "glassDoorDS['index']=list(range(1,len(cNameList)+1))\n",
    "glassDoorDS.set_index('index',inplace=True)\n",
    "glassDoorDS\n"
   ]
  },
  {
   "cell_type": "code",
   "execution_count": null,
   "metadata": {},
   "outputs": [],
   "source": []
  },
  {
   "cell_type": "code",
   "execution_count": null,
   "metadata": {},
   "outputs": [],
   "source": []
  },
  {
   "cell_type": "markdown",
   "metadata": {},
   "source": [
    "## Scrape data of first 100 sunglasses listings on flipkart.com. You have to scrape four attributes:\n",
    "1. Brand\n",
    "2. Product Description\n",
    "3. Price\n",
    "4. Discount %\n"
   ]
  },
  {
   "cell_type": "code",
   "execution_count": null,
   "metadata": {},
   "outputs": [],
   "source": []
  },
  {
   "cell_type": "code",
   "execution_count": 370,
   "metadata": {},
   "outputs": [],
   "source": []
  },
  {
   "cell_type": "code",
   "execution_count": 369,
   "metadata": {},
   "outputs": [],
   "source": []
  },
  {
   "cell_type": "code",
   "execution_count": 386,
   "metadata": {},
   "outputs": [],
   "source": [
    "def getProductDetails(prodTag):\n",
    "    try:\n",
    "        brand=prodTag.find_element_by_class_name('_2WkVRV')\n",
    "        brandName=brand.text\n",
    "    except:\n",
    "        brandName=\"no brand Name\"\n",
    "    try:\n",
    "        desc=prodTag.find_element_by_class_name('IRpwTa')\n",
    "        desc=desc.text\n",
    "    except:\n",
    "        desc=\"NO DESC\"\n",
    "    try:\n",
    "        price=prodTag.find_element_by_class_name('_30jeq3')\n",
    "        price=price.text\n",
    "\n",
    "    except:\n",
    "        price=\"00\"\n",
    "    try:\n",
    "        disc=prodTag.find_element_by_class_name('_3Ay6Sb')\n",
    "        disc=disc.text\n",
    "    except:\n",
    "        disc=\"0%\"\n",
    "    return(brandName,desc,price,disc)"
   ]
  },
  {
   "cell_type": "markdown",
   "metadata": {},
   "source": [
    "nextPageA=driver.find_elements_by_xpath(\"//a[@class='_1LKTO3']\")\n",
    "nextURL=nextPageA.get_attibute(\"href\")\n"
   ]
  },
  {
   "cell_type": "code",
   "execution_count": 454,
   "metadata": {},
   "outputs": [],
   "source": [
    "def get_nextPage():\n",
    "    #nextPageA=driver.find_elements_by_xpath(\"//nav[@class='yFHi8N']/a[@class='_1LKTO3']\")\n",
    "    nextPageA=[]\n",
    "    while(nextPageA==[]):\n",
    "        nextPageA=driver.find_elements_by_class_name(\"_1LKTO3\")    \n",
    "    nextURL=nextPageA[-1].get_attribute(\"href\")\n",
    "    driver.get(nextURL)\n",
    "    return driver\n",
    "\n",
    "driver.get(\"https://www.flipkart.com/\")\n",
    "try:\n",
    "    buttonClose=driver.find_element_by_xpath(\"//button[@class='_2KpZ6l _2doB4z']\")\n",
    "    buttonClose.click()\n",
    "\n",
    "except:\n",
    "    pass\n",
    "search_Prods=driver.find_element_by_xpath(\"//input[@title='Search for products, brands and more']\")\n",
    "search_Prods.send_keys(\"sunglasses\")\n",
    "search_btn=driver.find_element_by_xpath(\"//button[@type='submit']\")\n",
    "search_btn.click()\n",
    "brandNames=[]\n",
    "descList=[]\n",
    "priceList=[]\n",
    "discList=[]\n",
    "for i in range(0,6):\n",
    "    if(len(brandNames)==100):\n",
    "        break\n",
    "    prodParentTags=driver.find_elements_by_xpath(\"//div[@class='_2B099V']\")\n",
    "    for prodTag in prodParentTags:\n",
    "        brandName,desc,price,disc=getProductDetails(prodTag)\n",
    "        brandNames.append(brandName)\n",
    "        descList.append(desc)\n",
    "        priceList.append(price)\n",
    "        discList.append(disc)\n",
    "        if(len(brandNames)==100):\n",
    "            break\n",
    "    driver=get_nextPage()"
   ]
  },
  {
   "cell_type": "code",
   "execution_count": 455,
   "metadata": {},
   "outputs": [
    {
     "name": "stdout",
     "output_type": "stream",
     "text": [
      "100 100 100 100\n"
     ]
    }
   ],
   "source": [
    "print(len(brandNames),len(descList),len(priceList),len(discList))"
   ]
  },
  {
   "cell_type": "code",
   "execution_count": 457,
   "metadata": {},
   "outputs": [
    {
     "data": {
      "text/html": [
       "<div>\n",
       "<style scoped>\n",
       "    .dataframe tbody tr th:only-of-type {\n",
       "        vertical-align: middle;\n",
       "    }\n",
       "\n",
       "    .dataframe tbody tr th {\n",
       "        vertical-align: top;\n",
       "    }\n",
       "\n",
       "    .dataframe thead th {\n",
       "        text-align: right;\n",
       "    }\n",
       "</style>\n",
       "<table border=\"1\" class=\"dataframe\">\n",
       "  <thead>\n",
       "    <tr style=\"text-align: right;\">\n",
       "      <th></th>\n",
       "      <th>brand</th>\n",
       "      <th>desc</th>\n",
       "      <th>price</th>\n",
       "      <th>discount</th>\n",
       "    </tr>\n",
       "    <tr>\n",
       "      <th>index</th>\n",
       "      <th></th>\n",
       "      <th></th>\n",
       "      <th></th>\n",
       "      <th></th>\n",
       "    </tr>\n",
       "  </thead>\n",
       "  <tbody>\n",
       "    <tr>\n",
       "      <th>1</th>\n",
       "      <td>Singco India</td>\n",
       "      <td>UV Protection Aviator Sunglasses (Free Size)</td>\n",
       "      <td>₹281</td>\n",
       "      <td>76% off</td>\n",
       "    </tr>\n",
       "    <tr>\n",
       "      <th>2</th>\n",
       "      <td>PIRASO</td>\n",
       "      <td>UV Protection Butterfly Sunglasses (65)</td>\n",
       "      <td>₹359</td>\n",
       "      <td>86% off</td>\n",
       "    </tr>\n",
       "    <tr>\n",
       "      <th>3</th>\n",
       "      <td>IDEE</td>\n",
       "      <td>Mirrored, UV Protection Aviator Sunglasses (18)</td>\n",
       "      <td>₹1,159</td>\n",
       "      <td>52% off</td>\n",
       "    </tr>\n",
       "    <tr>\n",
       "      <th>4</th>\n",
       "      <td>Fastrack</td>\n",
       "      <td>UV Protection Wayfarer Sunglasses (Free Size)</td>\n",
       "      <td>₹458</td>\n",
       "      <td>49% off</td>\n",
       "    </tr>\n",
       "    <tr>\n",
       "      <th>5</th>\n",
       "      <td>PIRASO</td>\n",
       "      <td>UV Protection Aviator Sunglasses (54)</td>\n",
       "      <td>₹200</td>\n",
       "      <td>87% off</td>\n",
       "    </tr>\n",
       "    <tr>\n",
       "      <th>...</th>\n",
       "      <td>...</td>\n",
       "      <td>...</td>\n",
       "      <td>...</td>\n",
       "      <td>...</td>\n",
       "    </tr>\n",
       "    <tr>\n",
       "      <th>96</th>\n",
       "      <td>Fastrack</td>\n",
       "      <td>UV Protection Wayfarer Sunglasses (Free Size)</td>\n",
       "      <td>₹449</td>\n",
       "      <td>50% off</td>\n",
       "    </tr>\n",
       "    <tr>\n",
       "      <th>97</th>\n",
       "      <td>PHENOMENAL</td>\n",
       "      <td>UV Protection, Mirrored Round Sunglasses (Free...</td>\n",
       "      <td>₹216</td>\n",
       "      <td>89% off</td>\n",
       "    </tr>\n",
       "    <tr>\n",
       "      <th>98</th>\n",
       "      <td>PHENOMENAL</td>\n",
       "      <td>UV Protection, Mirrored Retro Square Sunglasse...</td>\n",
       "      <td>₹359</td>\n",
       "      <td>82% off</td>\n",
       "    </tr>\n",
       "    <tr>\n",
       "      <th>99</th>\n",
       "      <td>Singco</td>\n",
       "      <td>UV Protection Aviator Sunglasses (Free Size)</td>\n",
       "      <td>₹526</td>\n",
       "      <td>73% off</td>\n",
       "    </tr>\n",
       "    <tr>\n",
       "      <th>100</th>\n",
       "      <td>Fastrack</td>\n",
       "      <td>UV Protection Wayfarer Sunglasses (Free Size)</td>\n",
       "      <td>₹499</td>\n",
       "      <td>44% off</td>\n",
       "    </tr>\n",
       "  </tbody>\n",
       "</table>\n",
       "<p>100 rows × 4 columns</p>\n",
       "</div>"
      ],
      "text/plain": [
       "              brand                                               desc  \\\n",
       "index                                                                    \n",
       "1      Singco India       UV Protection Aviator Sunglasses (Free Size)   \n",
       "2            PIRASO            UV Protection Butterfly Sunglasses (65)   \n",
       "3              IDEE    Mirrored, UV Protection Aviator Sunglasses (18)   \n",
       "4          Fastrack      UV Protection Wayfarer Sunglasses (Free Size)   \n",
       "5            PIRASO              UV Protection Aviator Sunglasses (54)   \n",
       "...             ...                                                ...   \n",
       "96         Fastrack      UV Protection Wayfarer Sunglasses (Free Size)   \n",
       "97       PHENOMENAL  UV Protection, Mirrored Round Sunglasses (Free...   \n",
       "98       PHENOMENAL  UV Protection, Mirrored Retro Square Sunglasse...   \n",
       "99           Singco       UV Protection Aviator Sunglasses (Free Size)   \n",
       "100        Fastrack      UV Protection Wayfarer Sunglasses (Free Size)   \n",
       "\n",
       "        price discount  \n",
       "index                   \n",
       "1        ₹281  76% off  \n",
       "2        ₹359  86% off  \n",
       "3      ₹1,159  52% off  \n",
       "4        ₹458  49% off  \n",
       "5        ₹200  87% off  \n",
       "...       ...      ...  \n",
       "96       ₹449  50% off  \n",
       "97       ₹216  89% off  \n",
       "98       ₹359  82% off  \n",
       "99       ₹526  73% off  \n",
       "100      ₹499  44% off  \n",
       "\n",
       "[100 rows x 4 columns]"
      ]
     },
     "execution_count": 457,
     "metadata": {},
     "output_type": "execute_result"
    }
   ],
   "source": [
    "flipKart=pd.DataFrame({})\n",
    "flipKart['brand']=brandNames\n",
    "flipKart['desc']=descList\n",
    "flipKart['price']=priceList\n",
    "flipKart['discount']=discList\n",
    "\n",
    "flipKart['index']=list(range(1,len(brandNames)+1))\n",
    "flipKart.set_index('index',inplace=True)\n",
    "flipKart"
   ]
  },
  {
   "cell_type": "markdown",
   "metadata": {},
   "source": [
    "details are verified with the website and are matching"
   ]
  },
  {
   "cell_type": "code",
   "execution_count": null,
   "metadata": {},
   "outputs": [],
   "source": []
  },
  {
   "cell_type": "code",
   "execution_count": null,
   "metadata": {},
   "outputs": [],
   "source": []
  },
  {
   "cell_type": "markdown",
   "metadata": {},
   "source": [
    "### 100 reviews data from flipkart.com for iphone11 phone: https://www.flipkart.com/apple-iphone-11-black-64-gb-includes-earpods-power-adapter/p/itm0f37c2240b217?pid=MOBFKCTSVZAXUHGR&lid=LSTMOBFKCTSVZAXUHGREPBFGI&marketplace"
   ]
  },
  {
   "cell_type": "code",
   "execution_count": null,
   "metadata": {},
   "outputs": [],
   "source": []
  },
  {
   "cell_type": "code",
   "execution_count": null,
   "metadata": {},
   "outputs": [],
   "source": []
  },
  {
   "cell_type": "code",
   "execution_count": 562,
   "metadata": {},
   "outputs": [],
   "source": [
    "def getReviewDetails(container):\n",
    "    try:\n",
    "        rating_Summary=container.find_elements_by_xpath(\".//div[@class='col']/div[1]/div[1]/div[1]\")\n",
    "        ratingText=rating_Summary[0].text\n",
    "    except:\n",
    "        ratingText=\"0\"\n",
    "    try:\n",
    "        reviewSummary=container.find_elements_by_xpath(\".//div[@class='col']/div[1]/div[1]/p[1]\")\n",
    "        reviewSummaryTxt=reviewSummary[0].text\n",
    "    except:\n",
    "        reviewSummaryTxt=\"NA\"\n",
    "    try:\n",
    "        fullReview=container.find_elements_by_xpath(\".//div[@class='col']/div[1]/div[2]\")\n",
    "        fullReviewTxt=fullReview[0].text.replace(\"\\n\",\" \")\n",
    "\n",
    "    except:\n",
    "        fullReviewTxt=\"NA\"\n",
    "        \n",
    "    return (ratingText,reviewSummaryTxt,fullReviewTxt)"
   ]
  },
  {
   "cell_type": "code",
   "execution_count": 567,
   "metadata": {},
   "outputs": [
    {
     "data": {
      "text/plain": [
       "('5',\n",
       " 'Perfect product!',\n",
       " 'Amazing phone with great cameras and better battery which gives you the best performance. I just love the camera .')"
      ]
     },
     "execution_count": 567,
     "metadata": {},
     "output_type": "execute_result"
    }
   ],
   "source": [
    "getReviewDetails(containers[2])"
   ]
  },
  {
   "cell_type": "code",
   "execution_count": 592,
   "metadata": {},
   "outputs": [],
   "source": [
    "def get_nextPageReview():\n",
    "    nextPageA=[]\n",
    "    while(nextPageA==[]):\n",
    "        nextPageA=driver.find_elements_by_class_name('_1LKTO3')    \n",
    "    nextURL=nextPageA[-1].get_attribute(\"href\")\n",
    "    driver.get(nextURL)\n",
    "    return driver\n",
    "\n",
    "\n",
    "driver.get(\"https://www.flipkart.com/apple-iphone-11-black-64-gb-includes-earpods-power-adapter/p/itm0f37c2240b217?pid=MOBFKCTSVZAXUHGR&lid=LSTMOBFKCTSVZAXUHGREPBFGI&marketplace\")\n",
    "getAllReviewURL=driver.find_element_by_xpath(\"/html/body/div[1]/div/div[3]/div[1]/div[2]/div[9]/div/div/div[5]/div/a\")\n",
    "getAllReviewURL.get_attribute(\"href\")\n",
    "driver.get(getAllReviewURL.get_attribute(\"href\"))\n",
    "ratingTextLst=[]\n",
    "reviewSummaryTxtLst=[]\n",
    "fullReviewTxtLst=[]\n",
    "for i in range(0,10):\n",
    "    containers=driver.find_elements_by_xpath(\"//div[@class='_27M-vq']\")\n",
    "    for container in containers:\n",
    "        (ratingText,reviewSummaryTxt,fullReviewTxt)=getReviewDetails(container)\n",
    "        ratingTextLst.append(ratingText)\n",
    "        reviewSummaryTxtLst.append(reviewSummaryTxt)\n",
    "        fullReviewTxtLst.append(fullReviewTxt)\n",
    "    driver=get_nextPageReview()\n",
    "\n",
    "        "
   ]
  },
  {
   "cell_type": "code",
   "execution_count": 595,
   "metadata": {},
   "outputs": [
    {
     "data": {
      "text/html": [
       "<div>\n",
       "<style scoped>\n",
       "    .dataframe tbody tr th:only-of-type {\n",
       "        vertical-align: middle;\n",
       "    }\n",
       "\n",
       "    .dataframe tbody tr th {\n",
       "        vertical-align: top;\n",
       "    }\n",
       "\n",
       "    .dataframe thead th {\n",
       "        text-align: right;\n",
       "    }\n",
       "</style>\n",
       "<table border=\"1\" class=\"dataframe\">\n",
       "  <thead>\n",
       "    <tr style=\"text-align: right;\">\n",
       "      <th></th>\n",
       "      <th>rating</th>\n",
       "      <th>reviewSummary</th>\n",
       "      <th>fullReview</th>\n",
       "    </tr>\n",
       "    <tr>\n",
       "      <th>index</th>\n",
       "      <th></th>\n",
       "      <th></th>\n",
       "      <th></th>\n",
       "    </tr>\n",
       "  </thead>\n",
       "  <tbody>\n",
       "    <tr>\n",
       "      <th>1</th>\n",
       "      <td>5</td>\n",
       "      <td>Brilliant</td>\n",
       "      <td>The Best Phone for the Money  The iPhone 11 of...</td>\n",
       "    </tr>\n",
       "    <tr>\n",
       "      <th>2</th>\n",
       "      <td>5</td>\n",
       "      <td>Simply awesome</td>\n",
       "      <td>Really satisfied with the Product I received.....</td>\n",
       "    </tr>\n",
       "    <tr>\n",
       "      <th>3</th>\n",
       "      <td>5</td>\n",
       "      <td>Perfect product!</td>\n",
       "      <td>Amazing phone with great cameras and better ba...</td>\n",
       "    </tr>\n",
       "    <tr>\n",
       "      <th>4</th>\n",
       "      <td>5</td>\n",
       "      <td>Best in the market!</td>\n",
       "      <td>Great iPhone very snappy experience as apple k...</td>\n",
       "    </tr>\n",
       "    <tr>\n",
       "      <th>5</th>\n",
       "      <td>5</td>\n",
       "      <td>Fabulous!</td>\n",
       "      <td>This is my first iOS phone. I am very happy wi...</td>\n",
       "    </tr>\n",
       "    <tr>\n",
       "      <th>...</th>\n",
       "      <td>...</td>\n",
       "      <td>...</td>\n",
       "      <td>...</td>\n",
       "    </tr>\n",
       "    <tr>\n",
       "      <th>96</th>\n",
       "      <td>5</td>\n",
       "      <td>Terrific purchase</td>\n",
       "      <td>I use a Note10+ and have been using both iOS a...</td>\n",
       "    </tr>\n",
       "    <tr>\n",
       "      <th>97</th>\n",
       "      <td>5</td>\n",
       "      <td>Awesome</td>\n",
       "      <td>The phone is completely good As far as camera ...</td>\n",
       "    </tr>\n",
       "    <tr>\n",
       "      <th>98</th>\n",
       "      <td>3</td>\n",
       "      <td>Decent product</td>\n",
       "      <td>Everything u ll like it when u use this iPhone...</td>\n",
       "    </tr>\n",
       "    <tr>\n",
       "      <th>99</th>\n",
       "      <td>5</td>\n",
       "      <td>Awesome</td>\n",
       "      <td>Can’t beat the software and hardware integrati...</td>\n",
       "    </tr>\n",
       "    <tr>\n",
       "      <th>100</th>\n",
       "      <td>5</td>\n",
       "      <td>Brilliant</td>\n",
       "      <td>A wort full value for money decision it’s . Si...</td>\n",
       "    </tr>\n",
       "  </tbody>\n",
       "</table>\n",
       "<p>100 rows × 3 columns</p>\n",
       "</div>"
      ],
      "text/plain": [
       "      rating        reviewSummary  \\\n",
       "index                               \n",
       "1          5            Brilliant   \n",
       "2          5       Simply awesome   \n",
       "3          5     Perfect product!   \n",
       "4          5  Best in the market!   \n",
       "5          5            Fabulous!   \n",
       "...      ...                  ...   \n",
       "96         5    Terrific purchase   \n",
       "97         5              Awesome   \n",
       "98         3       Decent product   \n",
       "99         5              Awesome   \n",
       "100        5            Brilliant   \n",
       "\n",
       "                                              fullReview  \n",
       "index                                                     \n",
       "1      The Best Phone for the Money  The iPhone 11 of...  \n",
       "2      Really satisfied with the Product I received.....  \n",
       "3      Amazing phone with great cameras and better ba...  \n",
       "4      Great iPhone very snappy experience as apple k...  \n",
       "5      This is my first iOS phone. I am very happy wi...  \n",
       "...                                                  ...  \n",
       "96     I use a Note10+ and have been using both iOS a...  \n",
       "97     The phone is completely good As far as camera ...  \n",
       "98     Everything u ll like it when u use this iPhone...  \n",
       "99     Can’t beat the software and hardware integrati...  \n",
       "100    A wort full value for money decision it’s . Si...  \n",
       "\n",
       "[100 rows x 3 columns]"
      ]
     },
     "execution_count": 595,
     "metadata": {},
     "output_type": "execute_result"
    }
   ],
   "source": [
    "flipKartReviews=pd.DataFrame({})\n",
    "flipKartReviews['rating']=ratingTextLst\n",
    "flipKartReviews['reviewSummary']=reviewSummaryTxtLst\n",
    "flipKartReviews['fullReview']=fullReviewTxtLst\n",
    "\n",
    "flipKartReviews['index']=list(range(1,len(ratingTextLst)+1))\n",
    "flipKartReviews.set_index('index',inplace=True)\n",
    "flipKartReviews"
   ]
  },
  {
   "cell_type": "markdown",
   "metadata": {},
   "source": [
    "the data is matching as expected"
   ]
  },
  {
   "cell_type": "code",
   "execution_count": null,
   "metadata": {},
   "outputs": [],
   "source": []
  },
  {
   "cell_type": "markdown",
   "metadata": {},
   "source": [
    "### Scrape data for first 100 sneakers you find when you visit flipkart.com and search for “sneakers” in the search field.\n",
    "You have to scrape 4 attributes of each sneaker :\n",
    "1. Brand\n",
    "2. Product Description\n",
    "3. Price\n",
    "4. discount %\n"
   ]
  },
  {
   "cell_type": "code",
   "execution_count": 102,
   "metadata": {},
   "outputs": [],
   "source": [
    "def getProductDetails(prodTag):\n",
    "    try:\n",
    "        brand=prodTag.find_element_by_class_name('_2WkVRV')\n",
    "        brandName=brand.text\n",
    "    except:\n",
    "        brandName=\"no brand Name\"\n",
    "    try:\n",
    "        desc=prodTag.find_element_by_class_name('IRpwTa')\n",
    "        desc=desc.text\n",
    "    except:\n",
    "        desc=\"NO DESC\"\n",
    "    try:\n",
    "        price=prodTag.find_element_by_class_name('_30jeq3')\n",
    "        price=price.text\n",
    "\n",
    "    except:\n",
    "        price=\"00\"\n",
    "    try:\n",
    "        disc=prodTag.find_element_by_class_name('_3Ay6Sb')\n",
    "        disc=disc.text\n",
    "    except:\n",
    "        disc=\"0%\"\n",
    "    return(brandName,desc,price,disc)"
   ]
  },
  {
   "cell_type": "code",
   "execution_count": 146,
   "metadata": {},
   "outputs": [],
   "source": [
    "def get_nextPage():\n",
    "    #nextPageA=driver.find_elements_by_xpath(\"//nav[@class='yFHi8N']/a[@class='_1LKTO3']\")\n",
    "    nextPageA=[]\n",
    "    while(nextPageA==[]):\n",
    "        nextPageA=driver.find_elements_by_class_name(\"_1LKTO3\")    \n",
    "    nextURL=nextPageA[-1].get_attribute(\"href\")\n",
    "    driver.get(nextURL)\n",
    "    return driver\n",
    "\n",
    "\n",
    "driver.get(\"https://www.flipkart.com/\")\n",
    "try:\n",
    "    buttonClose=driver.find_element_by_xpath(\"//button[@class='_2KpZ6l _2doB4z']\")\n",
    "    buttonClose.click()\n",
    "\n",
    "except:\n",
    "    pass\n",
    "search_Prods=driver.find_element_by_xpath(\"//input[@title='Search for products, brands and more']\")\n",
    "search_Prods.send_keys(\"sneakers\")\n",
    "search_btn=driver.find_element_by_xpath(\"//button[@type='submit']\")\n",
    "search_btn.click()\n",
    "\n",
    "brandNames=[]\n",
    "descList=[]\n",
    "priceList=[]\n",
    "discList=[]\n",
    "prodParentTags=[]\n",
    "while (prodParentTags==[]):\n",
    "    prodParentTags=driver.find_elements_by_xpath(\"*//div[@class='_2B099V']\")\n",
    "\n",
    "for i in range(0,6):\n",
    "    if(len(brandNames)==100):\n",
    "        break\n",
    "    for prodTag in prodParentTags:\n",
    "        brandName,desc,price,disc=getProductDetails(prodTag)\n",
    "        brandNames.append(brandName)\n",
    "        descList.append(desc)\n",
    "        priceList.append(price)\n",
    "        discList.append(disc)\n",
    "        if(len(brandNames)==100):\n",
    "            break\n",
    "    driver=get_nextPage()\n",
    "    prodParentTags=[]\n",
    "    while (prodParentTags==[]):\n",
    "        prodParentTags=driver.find_elements_by_xpath(\"*//div[@class='_2B099V']\")\n",
    "\n"
   ]
  },
  {
   "cell_type": "code",
   "execution_count": 147,
   "metadata": {},
   "outputs": [
    {
     "data": {
      "text/html": [
       "<div>\n",
       "<style scoped>\n",
       "    .dataframe tbody tr th:only-of-type {\n",
       "        vertical-align: middle;\n",
       "    }\n",
       "\n",
       "    .dataframe tbody tr th {\n",
       "        vertical-align: top;\n",
       "    }\n",
       "\n",
       "    .dataframe thead th {\n",
       "        text-align: right;\n",
       "    }\n",
       "</style>\n",
       "<table border=\"1\" class=\"dataframe\">\n",
       "  <thead>\n",
       "    <tr style=\"text-align: right;\">\n",
       "      <th></th>\n",
       "      <th>brand</th>\n",
       "      <th>desc</th>\n",
       "      <th>price</th>\n",
       "      <th>discount</th>\n",
       "    </tr>\n",
       "    <tr>\n",
       "      <th>index</th>\n",
       "      <th></th>\n",
       "      <th></th>\n",
       "      <th></th>\n",
       "      <th></th>\n",
       "    </tr>\n",
       "  </thead>\n",
       "  <tbody>\n",
       "    <tr>\n",
       "      <th>1</th>\n",
       "      <td>Chevit</td>\n",
       "      <td>Speed Set of 5 Pairs Sneakers Outdoors Casuals...</td>\n",
       "      <td>₹679</td>\n",
       "      <td>72% off</td>\n",
       "    </tr>\n",
       "    <tr>\n",
       "      <th>2</th>\n",
       "      <td>WROGN</td>\n",
       "      <td>Sneakers For Men</td>\n",
       "      <td>₹874</td>\n",
       "      <td>65% off</td>\n",
       "    </tr>\n",
       "    <tr>\n",
       "      <th>3</th>\n",
       "      <td>BRUTON</td>\n",
       "      <td>Modern Trendy Sneakers Shoes Sneakers For Men</td>\n",
       "      <td>₹299</td>\n",
       "      <td>76% off</td>\n",
       "    </tr>\n",
       "    <tr>\n",
       "      <th>4</th>\n",
       "      <td>believe</td>\n",
       "      <td>Sneakers for men(black_7) Sneakers For Men</td>\n",
       "      <td>₹424</td>\n",
       "      <td>57% off</td>\n",
       "    </tr>\n",
       "    <tr>\n",
       "      <th>5</th>\n",
       "      <td>Kraasa</td>\n",
       "      <td>Series 7 Sneakers For Men</td>\n",
       "      <td>₹388</td>\n",
       "      <td>61% off</td>\n",
       "    </tr>\n",
       "    <tr>\n",
       "      <th>...</th>\n",
       "      <td>...</td>\n",
       "      <td>...</td>\n",
       "      <td>...</td>\n",
       "      <td>...</td>\n",
       "    </tr>\n",
       "    <tr>\n",
       "      <th>96</th>\n",
       "      <td>PUMA</td>\n",
       "      <td>Vikky v2 Sneakers For Men</td>\n",
       "      <td>₹1,475</td>\n",
       "      <td>63% off</td>\n",
       "    </tr>\n",
       "    <tr>\n",
       "      <th>97</th>\n",
       "      <td>PUMA</td>\n",
       "      <td>Rebound Joy Low Sneakers For Men</td>\n",
       "      <td>₹2,499</td>\n",
       "      <td>50% off</td>\n",
       "    </tr>\n",
       "    <tr>\n",
       "      <th>98</th>\n",
       "      <td>PUMA</td>\n",
       "      <td>Trenzo II IDP Sneakers For Men</td>\n",
       "      <td>₹1,106</td>\n",
       "      <td>63% off</td>\n",
       "    </tr>\n",
       "    <tr>\n",
       "      <th>99</th>\n",
       "      <td>PUMA</td>\n",
       "      <td>Smash Vulc Canvas Sneakers For Men</td>\n",
       "      <td>₹1,475</td>\n",
       "      <td>63% off</td>\n",
       "    </tr>\n",
       "    <tr>\n",
       "      <th>100</th>\n",
       "      <td>BRUTON</td>\n",
       "      <td>Modern &amp; Trendy Collection Combo Pack of 02 Sh...</td>\n",
       "      <td>₹471</td>\n",
       "      <td>81% off</td>\n",
       "    </tr>\n",
       "  </tbody>\n",
       "</table>\n",
       "<p>100 rows × 4 columns</p>\n",
       "</div>"
      ],
      "text/plain": [
       "         brand                                               desc   price  \\\n",
       "index                                                                       \n",
       "1       Chevit  Speed Set of 5 Pairs Sneakers Outdoors Casuals...    ₹679   \n",
       "2        WROGN                                   Sneakers For Men    ₹874   \n",
       "3       BRUTON      Modern Trendy Sneakers Shoes Sneakers For Men    ₹299   \n",
       "4      believe         Sneakers for men(black_7) Sneakers For Men    ₹424   \n",
       "5       Kraasa                          Series 7 Sneakers For Men    ₹388   \n",
       "...        ...                                                ...     ...   \n",
       "96        PUMA                          Vikky v2 Sneakers For Men  ₹1,475   \n",
       "97        PUMA                   Rebound Joy Low Sneakers For Men  ₹2,499   \n",
       "98        PUMA                     Trenzo II IDP Sneakers For Men  ₹1,106   \n",
       "99        PUMA                 Smash Vulc Canvas Sneakers For Men  ₹1,475   \n",
       "100     BRUTON  Modern & Trendy Collection Combo Pack of 02 Sh...    ₹471   \n",
       "\n",
       "      discount  \n",
       "index           \n",
       "1      72% off  \n",
       "2      65% off  \n",
       "3      76% off  \n",
       "4      57% off  \n",
       "5      61% off  \n",
       "...        ...  \n",
       "96     63% off  \n",
       "97     50% off  \n",
       "98     63% off  \n",
       "99     63% off  \n",
       "100    81% off  \n",
       "\n",
       "[100 rows x 4 columns]"
      ]
     },
     "execution_count": 147,
     "metadata": {},
     "output_type": "execute_result"
    }
   ],
   "source": [
    "flipKartSnk=pd.DataFrame({})\n",
    "flipKartSnk['brand']=brandNames\n",
    "flipKartSnk['desc']=descList\n",
    "flipKartSnk['price']=priceList\n",
    "flipKartSnk['discount']=discList\n",
    "\n",
    "flipKartSnk['index']=list(range(1,len(brandNames)+1))\n",
    "flipKartSnk.set_index('index',inplace=True)\n",
    "flipKartSnk"
   ]
  },
  {
   "cell_type": "markdown",
   "metadata": {},
   "source": [
    "Data is correct and matching"
   ]
  },
  {
   "cell_type": "code",
   "execution_count": null,
   "metadata": {},
   "outputs": [],
   "source": []
  },
  {
   "cell_type": "code",
   "execution_count": null,
   "metadata": {},
   "outputs": [],
   "source": []
  },
  {
   "cell_type": "markdown",
   "metadata": {},
   "source": [
    "### Go to webpage https://www.amazon.in/\n",
    "Enter “Laptop” in the search field and then click the search icon.\n",
    "Then set CPU Type filter to “Intel Core i7” and “Intel Core i9”\n",
    "\n",
    "\n",
    "for each laptop:\n",
    "1. title\n",
    "2. Ratings\n",
    "3. Price"
   ]
  },
  {
   "cell_type": "code",
   "execution_count": 37,
   "metadata": {},
   "outputs": [],
   "source": []
  },
  {
   "cell_type": "code",
   "execution_count": null,
   "metadata": {},
   "outputs": [],
   "source": []
  },
  {
   "cell_type": "code",
   "execution_count": 38,
   "metadata": {},
   "outputs": [],
   "source": []
  },
  {
   "cell_type": "code",
   "execution_count": null,
   "metadata": {},
   "outputs": [],
   "source": []
  },
  {
   "cell_type": "code",
   "execution_count": 42,
   "metadata": {},
   "outputs": [],
   "source": [
    "driver.get(\"https://amazon.in\")\n",
    "search_Prod=driver.find_element_by_xpath(\"//*[@id='twotabsearchtextbox']\")\n",
    "search_Prod.send_keys(\"Laptop\")\n",
    "# clicking the search button\n",
    "search_btn=driver.find_element_by_xpath(\"//*[@id='nav-search-submit-button']\")\n",
    "search_btn.click()"
   ]
  },
  {
   "cell_type": "code",
   "execution_count": 43,
   "metadata": {},
   "outputs": [],
   "source": [
    "filter_button=driver.find_elements_by_xpath(\"//a[@class='a-link-normal s-navigation-item']/span\")\n",
    "j=0\n",
    "for i in filter_button:\n",
    "    if i.text=='Intel Core i7':\n",
    "        i.click()\n",
    "        break\n",
    "\n"
   ]
  },
  {
   "cell_type": "code",
   "execution_count": 44,
   "metadata": {},
   "outputs": [],
   "source": []
  },
  {
   "cell_type": "code",
   "execution_count": 46,
   "metadata": {},
   "outputs": [],
   "source": [
    "filter_button=driver.find_elements_by_xpath(\"//a[@class='a-link-normal s-navigation-item']/span\")\n",
    "\n",
    "for i in filter_button:\n",
    "    if i.text=='Intel Core i9':\n",
    "        i.click()\n",
    "        break"
   ]
  },
  {
   "cell_type": "code",
   "execution_count": 65,
   "metadata": {},
   "outputs": [],
   "source": [
    "def getProductDetails(prod):\n",
    "    try:\n",
    "        nameCon=prod.find_element_by_xpath(\".//span[@class='a-size-medium a-color-base a-text-normal']\")\n",
    "        name=nameCon.text\n",
    "    except:\n",
    "        name=\" \"\n",
    "    try:\n",
    "        ratingCon=prod.find_element_by_xpath(\".//div[@class='a-row a-size-small']/span\")\n",
    "        rating=ratingCon.get_attribute('aria-label')\n",
    "    except:\n",
    "        rating=\" \"\n",
    "    try:\n",
    "        priceCon=prod.find_element_by_xpath(\".//span[@class='a-price-whole']\")                                            \n",
    "        price=priceCon.text\n",
    "    except:\n",
    "        price=\" \"\n",
    "        \n",
    "    \n",
    "    return(name,rating,price)"
   ]
  },
  {
   "cell_type": "code",
   "execution_count": 61,
   "metadata": {},
   "outputs": [
    {
     "data": {
      "text/plain": [
       "('Fujitsu UH-X 11th Gen Intel i7 Core 13.3” (33.78cm) FHD IPS 400Nits Thin and Light Laptop (16GB/512GB SSD/Win10/Office/Iris Xe Graphics/Backlit Kb/ Fingerprint Reader/Black/878gms), 4ZR1D67596',\n",
       " '4.4 out of 5 stars',\n",
       " '89,990')"
      ]
     },
     "execution_count": 61,
     "metadata": {},
     "output_type": "execute_result"
    }
   ],
   "source": [
    "getProductDetails(products[1])"
   ]
  },
  {
   "cell_type": "code",
   "execution_count": 62,
   "metadata": {},
   "outputs": [],
   "source": [
    "products=driver.find_elements_by_xpath(\"//div[@data-component-type='s-search-result']\")\n",
    "len(products)\n",
    "products=products[0:10]"
   ]
  },
  {
   "cell_type": "code",
   "execution_count": null,
   "metadata": {},
   "outputs": [],
   "source": []
  },
  {
   "cell_type": "code",
   "execution_count": 66,
   "metadata": {},
   "outputs": [
    {
     "data": {
      "text/html": [
       "<div>\n",
       "<style scoped>\n",
       "    .dataframe tbody tr th:only-of-type {\n",
       "        vertical-align: middle;\n",
       "    }\n",
       "\n",
       "    .dataframe tbody tr th {\n",
       "        vertical-align: top;\n",
       "    }\n",
       "\n",
       "    .dataframe thead th {\n",
       "        text-align: right;\n",
       "    }\n",
       "</style>\n",
       "<table border=\"1\" class=\"dataframe\">\n",
       "  <thead>\n",
       "    <tr style=\"text-align: right;\">\n",
       "      <th></th>\n",
       "      <th>name</th>\n",
       "      <th>price</th>\n",
       "      <th>rating</th>\n",
       "    </tr>\n",
       "    <tr>\n",
       "      <th>index</th>\n",
       "      <th></th>\n",
       "      <th></th>\n",
       "      <th></th>\n",
       "    </tr>\n",
       "  </thead>\n",
       "  <tbody>\n",
       "    <tr>\n",
       "      <th>1</th>\n",
       "      <td>Lenovo ThinkBook 15 Intel 11th Gen Core i7 15....</td>\n",
       "      <td>84,990</td>\n",
       "      <td>5.0 out of 5 stars</td>\n",
       "    </tr>\n",
       "    <tr>\n",
       "      <th>2</th>\n",
       "      <td>Fujitsu UH-X 11th Gen Intel i7 Core 13.3” (33....</td>\n",
       "      <td>89,990</td>\n",
       "      <td>4.4 out of 5 stars</td>\n",
       "    </tr>\n",
       "    <tr>\n",
       "      <th>3</th>\n",
       "      <td>Life Digital Laptop 15.6-inch (39.62 cms) (Int...</td>\n",
       "      <td>24,990</td>\n",
       "      <td>3.3 out of 5 stars</td>\n",
       "    </tr>\n",
       "    <tr>\n",
       "      <th>4</th>\n",
       "      <td>Mi Notebook Horizon Edition 14 Intel Core i7-1...</td>\n",
       "      <td>53,990</td>\n",
       "      <td>4.2 out of 5 stars</td>\n",
       "    </tr>\n",
       "    <tr>\n",
       "      <th>5</th>\n",
       "      <td>HP Omen X 2S Core i9 9th Gen 15.6-inch Dual Sc...</td>\n",
       "      <td>3,55,000</td>\n",
       "      <td>4.5 out of 5 stars</td>\n",
       "    </tr>\n",
       "    <tr>\n",
       "      <th>6</th>\n",
       "      <td>HP Pavilion (2021) Intel 11th Gen Core i7 14 i...</td>\n",
       "      <td>84,990</td>\n",
       "      <td>4.3 out of 5 stars</td>\n",
       "    </tr>\n",
       "    <tr>\n",
       "      <th>7</th>\n",
       "      <td>Acer Nitro 5 11th Gen Intel Core i7-11800H 15....</td>\n",
       "      <td>89,990</td>\n",
       "      <td>3.8 out of 5 stars</td>\n",
       "    </tr>\n",
       "    <tr>\n",
       "      <th>8</th>\n",
       "      <td>(Renewed) Lenovo Thinkpad Hybrid Laptop T450s ...</td>\n",
       "      <td>39,990</td>\n",
       "      <td></td>\n",
       "    </tr>\n",
       "    <tr>\n",
       "      <th>9</th>\n",
       "      <td>Lenovo ThinkBook 15 Intel 11th Gen Core i7 15....</td>\n",
       "      <td>84,990</td>\n",
       "      <td>5.0 out of 5 stars</td>\n",
       "    </tr>\n",
       "    <tr>\n",
       "      <th>10</th>\n",
       "      <td>HP Pavilion Gaming 11th Gen Intel Core i7 15.6...</td>\n",
       "      <td>89,990</td>\n",
       "      <td>3.6 out of 5 stars</td>\n",
       "    </tr>\n",
       "  </tbody>\n",
       "</table>\n",
       "</div>"
      ],
      "text/plain": [
       "                                                    name     price  \\\n",
       "index                                                                \n",
       "1      Lenovo ThinkBook 15 Intel 11th Gen Core i7 15....    84,990   \n",
       "2      Fujitsu UH-X 11th Gen Intel i7 Core 13.3” (33....    89,990   \n",
       "3      Life Digital Laptop 15.6-inch (39.62 cms) (Int...    24,990   \n",
       "4      Mi Notebook Horizon Edition 14 Intel Core i7-1...    53,990   \n",
       "5      HP Omen X 2S Core i9 9th Gen 15.6-inch Dual Sc...  3,55,000   \n",
       "6      HP Pavilion (2021) Intel 11th Gen Core i7 14 i...    84,990   \n",
       "7      Acer Nitro 5 11th Gen Intel Core i7-11800H 15....    89,990   \n",
       "8      (Renewed) Lenovo Thinkpad Hybrid Laptop T450s ...    39,990   \n",
       "9      Lenovo ThinkBook 15 Intel 11th Gen Core i7 15....    84,990   \n",
       "10     HP Pavilion Gaming 11th Gen Intel Core i7 15.6...    89,990   \n",
       "\n",
       "                   rating  \n",
       "index                      \n",
       "1      5.0 out of 5 stars  \n",
       "2      4.4 out of 5 stars  \n",
       "3      3.3 out of 5 stars  \n",
       "4      4.2 out of 5 stars  \n",
       "5      4.5 out of 5 stars  \n",
       "6      4.3 out of 5 stars  \n",
       "7      3.8 out of 5 stars  \n",
       "8                          \n",
       "9      5.0 out of 5 stars  \n",
       "10     3.6 out of 5 stars  "
      ]
     },
     "execution_count": 66,
     "metadata": {},
     "output_type": "execute_result"
    }
   ],
   "source": [
    "nameLst=[]\n",
    "ratingLst=[]\n",
    "priceLst=[]\n",
    "for prod in products:\n",
    "    name,rating,price=getProductDetails(prod)\n",
    "    nameLst.append(name)\n",
    "    ratingLst.append(rating)\n",
    "    priceLst.append(price)\n",
    "    \n",
    "    \n",
    "prodsDf=pd.DataFrame({})\n",
    "prodsDf['name']=nameLst\n",
    "prodsDf['price']=priceLst\n",
    "prodsDf['rating']=ratingLst\n",
    "prodsDf['index']=list(range(1,len(nameLst)+1))\n",
    "prodsDf.set_index('index',inplace=True)\n",
    "prodsDf\n",
    "    "
   ]
  }
 ],
 "metadata": {
  "kernelspec": {
   "display_name": "Python 3",
   "language": "python",
   "name": "python3"
  },
  "language_info": {
   "codemirror_mode": {
    "name": "ipython",
    "version": 3
   },
   "file_extension": ".py",
   "mimetype": "text/x-python",
   "name": "python",
   "nbconvert_exporter": "python",
   "pygments_lexer": "ipython3",
   "version": "3.7.3"
  }
 },
 "nbformat": 4,
 "nbformat_minor": 4
}
