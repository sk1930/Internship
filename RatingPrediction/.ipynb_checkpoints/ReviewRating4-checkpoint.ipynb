{
 "cells": [
  {
   "cell_type": "code",
   "execution_count": 1,
   "metadata": {},
   "outputs": [],
   "source": [
    "import selenium\n",
    "import pandas as pd\n",
    "from selenium import webdriver\n",
    "from selenium.webdriver.common.action_chains import ActionChains\n",
    "\n",
    "import numpy as np"
   ]
  },
  {
   "cell_type": "code",
   "execution_count": 2,
   "metadata": {},
   "outputs": [],
   "source": [
    "from selenium.common.exceptions import NoSuchElementException"
   ]
  },
  {
   "cell_type": "code",
   "execution_count": 3,
   "metadata": {},
   "outputs": [],
   "source": [
    "driver=webdriver.Chrome(r\"E:\\softwares\\chromedriver.exe\")"
   ]
  },
  {
   "cell_type": "code",
   "execution_count": null,
   "metadata": {},
   "outputs": [],
   "source": []
  },
  {
   "cell_type": "code",
   "execution_count": 4,
   "metadata": {},
   "outputs": [
    {
     "data": {
      "text/plain": [
       "'https://www.flipkart.com/motorola-g60-frosted-champagne-128-gb/product-reviews/itm9154ecfab780b?pid=MOBFWSF8KAWGYV9A&lid=LSTMOBFWSF8KAWGYV9ABTQCZJ&aid=overall&certifiedBuyer=false&sortOrder=NEGATIVE_FIRST&page=2'"
      ]
     },
     "execution_count": 4,
     "metadata": {},
     "output_type": "execute_result"
    }
   ],
   "source": [
    "x=(\"https://www.flipkart.com/motorola-g60-frosted-champagne-128-gb/product-reviews/itm9154ecfab780b?pid=MOBFWSF8KAWGYV9A&lid=LSTMOBFWSF8KAWGYV9ABTQCZJ&aid=overall&certifiedBuyer=false&sortOrder=NEGATIVE_FIRST&page={}\".format(2))\n",
    "x"
   ]
  },
  {
   "cell_type": "code",
   "execution_count": null,
   "metadata": {},
   "outputs": [],
   "source": []
  },
  {
   "cell_type": "code",
   "execution_count": 6,
   "metadata": {},
   "outputs": [],
   "source": [
    "reviews=[]\n",
    "ratings=[]\n",
    "\n",
    "for i in range(1,720):\n",
    "    driver.get(\"https://www.flipkart.com/motorola-g60-frosted-champagne-128-gb/product-reviews/itm9154ecfab780b?pid=MOBFWSF8KAWGYV9A&lid=LSTMOBFWSF8KAWGYV9ABTQCZJ&aid=overall&certifiedBuyer=false&sortOrder=NEGATIVE_FIRST&page={}\".format(i))\n",
    "\n",
    "    driver.implicitly_wait(4)\n",
    "    divContainers=driver.find_elements_by_xpath(\".//div[@class='col _2wzgFH K0kLPL']\")\n",
    "    \n",
    "    for divContainer in divContainers:\n",
    "        try:\n",
    "            rating=(divContainer.find_element_by_xpath(\".//div/div\").text)\n",
    "        except:\n",
    "            rating=\" \"\n",
    "        try:\n",
    "            review=divContainer.find_element_by_xpath(\".//div[2]/div\").text\n",
    "        except:\n",
    "            review=\" \"\n",
    "        reviews.append(review)\n",
    "        ratings.append(rating)\n"
   ]
  },
  {
   "cell_type": "code",
   "execution_count": 7,
   "metadata": {},
   "outputs": [
    {
     "data": {
      "text/plain": [
       "6961"
      ]
     },
     "execution_count": 7,
     "metadata": {},
     "output_type": "execute_result"
    }
   ],
   "source": [
    "len(ratings)"
   ]
  },
  {
   "cell_type": "code",
   "execution_count": 8,
   "metadata": {},
   "outputs": [
    {
     "data": {
      "text/plain": [
       "6961"
      ]
     },
     "execution_count": 8,
     "metadata": {},
     "output_type": "execute_result"
    }
   ],
   "source": [
    "len(reviews)"
   ]
  },
  {
   "cell_type": "code",
   "execution_count": 19,
   "metadata": {},
   "outputs": [],
   "source": [
    "x=[]\n",
    "x.append(\"1\")\n",
    "x.append(\" \")"
   ]
  },
  {
   "cell_type": "code",
   "execution_count": 20,
   "metadata": {},
   "outputs": [
    {
     "data": {
      "text/plain": [
       "True"
      ]
     },
     "execution_count": 20,
     "metadata": {},
     "output_type": "execute_result"
    }
   ],
   "source": [
    "x[1].isspace()"
   ]
  },
  {
   "cell_type": "code",
   "execution_count": 10,
   "metadata": {},
   "outputs": [],
   "source": [
    "motoG60=pd.DataFrame()\n",
    "motoG60['ratings']= ratings\n",
    "motoG60['reviews']= reviews\n"
   ]
  },
  {
   "cell_type": "code",
   "execution_count": 11,
   "metadata": {},
   "outputs": [
    {
     "data": {
      "text/html": [
       "<div>\n",
       "<style scoped>\n",
       "    .dataframe tbody tr th:only-of-type {\n",
       "        vertical-align: middle;\n",
       "    }\n",
       "\n",
       "    .dataframe tbody tr th {\n",
       "        vertical-align: top;\n",
       "    }\n",
       "\n",
       "    .dataframe thead th {\n",
       "        text-align: right;\n",
       "    }\n",
       "</style>\n",
       "<table border=\"1\" class=\"dataframe\">\n",
       "  <thead>\n",
       "    <tr style=\"text-align: right;\">\n",
       "      <th></th>\n",
       "      <th>ratings</th>\n",
       "      <th>reviews</th>\n",
       "    </tr>\n",
       "    <tr>\n",
       "      <th>index</th>\n",
       "      <th></th>\n",
       "      <th></th>\n",
       "    </tr>\n",
       "  </thead>\n",
       "  <tbody>\n",
       "    <tr>\n",
       "      <th>1</th>\n",
       "      <td>1</td>\n",
       "      <td>I ( Aashish Nirmal Jain) have ordered moto g60...</td>\n",
       "    </tr>\n",
       "    <tr>\n",
       "      <th>2</th>\n",
       "      <td>1</td>\n",
       "      <td>Mostly camera is performance low and its hangi...</td>\n",
       "    </tr>\n",
       "    <tr>\n",
       "      <th>3</th>\n",
       "      <td>1</td>\n",
       "      <td>Camera clarity is very very worst it is like n...</td>\n",
       "    </tr>\n",
       "    <tr>\n",
       "      <th>4</th>\n",
       "      <td>1</td>\n",
       "      <td>Camera in low light is not good ...it gives 10...</td>\n",
       "    </tr>\n",
       "    <tr>\n",
       "      <th>5</th>\n",
       "      <td>1</td>\n",
       "      <td>Motorola G-60 Does Not Provide any Basic Defau...</td>\n",
       "    </tr>\n",
       "  </tbody>\n",
       "</table>\n",
       "</div>"
      ],
      "text/plain": [
       "      ratings                                            reviews\n",
       "index                                                           \n",
       "1           1  I ( Aashish Nirmal Jain) have ordered moto g60...\n",
       "2           1  Mostly camera is performance low and its hangi...\n",
       "3           1  Camera clarity is very very worst it is like n...\n",
       "4           1  Camera in low light is not good ...it gives 10...\n",
       "5           1  Motorola G-60 Does Not Provide any Basic Defau..."
      ]
     },
     "execution_count": 11,
     "metadata": {},
     "output_type": "execute_result"
    }
   ],
   "source": [
    "motoG60['index']=list(range(1,len(reviews)+1))\n",
    "motoG60.set_index('index',inplace=True)\n",
    "\n",
    "motoG60.head()"
   ]
  },
  {
   "cell_type": "code",
   "execution_count": 14,
   "metadata": {},
   "outputs": [],
   "source": [
    "motoG60.to_csv(\"motoG60.csv\")"
   ]
  },
  {
   "cell_type": "code",
   "execution_count": 15,
   "metadata": {},
   "outputs": [],
   "source": [
    "motoG601=pd.read_csv(\"motoG60.csv\")"
   ]
  },
  {
   "cell_type": "code",
   "execution_count": 16,
   "metadata": {},
   "outputs": [
    {
     "name": "stdout",
     "output_type": "stream",
     "text": [
      "<class 'pandas.core.frame.DataFrame'>\n",
      "RangeIndex: 6961 entries, 0 to 6960\n",
      "Data columns (total 3 columns):\n",
      " #   Column   Non-Null Count  Dtype \n",
      "---  ------   --------------  ----- \n",
      " 0   index    6961 non-null   int64 \n",
      " 1   ratings  6961 non-null   int64 \n",
      " 2   reviews  6961 non-null   object\n",
      "dtypes: int64(2), object(1)\n",
      "memory usage: 163.3+ KB\n"
     ]
    }
   ],
   "source": [
    "motoG601.info()"
   ]
  }
 ],
 "metadata": {
  "kernelspec": {
   "display_name": "Python 3",
   "language": "python",
   "name": "python3"
  },
  "language_info": {
   "codemirror_mode": {
    "name": "ipython",
    "version": 3
   },
   "file_extension": ".py",
   "mimetype": "text/x-python",
   "name": "python",
   "nbconvert_exporter": "python",
   "pygments_lexer": "ipython3",
   "version": "3.7.3"
  }
 },
 "nbformat": 4,
 "nbformat_minor": 4
}
