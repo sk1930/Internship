{
 "cells": [
  {
   "cell_type": "markdown",
   "metadata": {},
   "source": [
    "### factorial of a number"
   ]
  },
  {
   "cell_type": "code",
   "execution_count": 1,
   "metadata": {},
   "outputs": [
    {
     "name": "stdout",
     "output_type": "stream",
     "text": [
      "enter a number5\n",
      "factorial of 5 is 120\n"
     ]
    }
   ],
   "source": [
    "def factorial(n):\n",
    "    return 1 if (n==1 or n==0) else n*factorial(n-1)\n",
    "\n",
    "num=int(input(\"enter a number\"))\n",
    "if num<0:\n",
    "    print(\"factorial doesn’t exist\")\n",
    "else:\n",
    "    fact=factorial(num)\n",
    "    print(\"factorial of {} is {}\".format(num,fact))\n"
   ]
  },
  {
   "cell_type": "markdown",
   "metadata": {},
   "source": [
    "### number  is prime or composite"
   ]
  },
  {
   "cell_type": "code",
   "execution_count": 2,
   "metadata": {},
   "outputs": [
    {
     "name": "stdout",
     "output_type": "stream",
     "text": [
      "enter a number12\n",
      "12 is not prime\n"
     ]
    }
   ],
   "source": [
    "num=int(input(\"enter a number\"))\n",
    "if num>1:\n",
    "    for i in range(2,int(num/2)+1):\n",
    "        if(num%i==0):\n",
    "            print(\"{} is not prime\".format(num))\n",
    "            break\n",
    "    else:\n",
    "        print(\"{} is prime\".format(num))\n",
    "else:\n",
    "    print(\"{} is not prime\".format(num))\n"
   ]
  },
  {
   "cell_type": "markdown",
   "metadata": {},
   "source": [
    "### palindrome:"
   ]
  },
  {
   "cell_type": "code",
   "execution_count": 3,
   "metadata": {},
   "outputs": [
    {
     "name": "stdout",
     "output_type": "stream",
     "text": [
      "enter the test stringabcba\n",
      "abcba is palindrome\n"
     ]
    }
   ],
   "source": [
    "def palindrome(x):\n",
    "    return x==x[::-1]\n",
    "test=input(\"enter the test string\")\n",
    "ans=palindrome(test)\n",
    "if ans:\n",
    "    print(\"{} is palindrome\".format(test))\n",
    "else:\n",
    "    print(\"{} is not palindrome\".format(test))\n"
   ]
  },
  {
   "cell_type": "markdown",
   "metadata": {},
   "source": [
    "### rightangle traingle 3rd side"
   ]
  },
  {
   "cell_type": "code",
   "execution_count": 4,
   "metadata": {},
   "outputs": [],
   "source": [
    "def pythagorous(opposite,adjacent,hypotenuse):\n",
    "    if(opposite==\"x\"):\n",
    "        opposite=((hypotenuse**2)-(adjacent**2))**0.5\n",
    "        return opposite\n",
    "    elif(adjacent==\"x\"):\n",
    "        adjacent=((hypotenuse**2)-(opposite**2))**0.5\n",
    "        return adjacent\n",
    "\n",
    "    elif(hypotenuse==\"x\"):\n",
    "        hypotenuse=((opposite**2)+(adjacent**2))**0.5\n",
    "        return hypotenuse \n",
    "    else:\n",
    "        return \"all sides are known\""
   ]
  },
  {
   "cell_type": "code",
   "execution_count": 5,
   "metadata": {},
   "outputs": [
    {
     "data": {
      "text/plain": [
       "5.0"
      ]
     },
     "execution_count": 5,
     "metadata": {},
     "output_type": "execute_result"
    }
   ],
   "source": [
    "pythagorous(3,4,\"x\")"
   ]
  },
  {
   "cell_type": "code",
   "execution_count": 6,
   "metadata": {},
   "outputs": [
    {
     "data": {
      "text/plain": [
       "4.0"
      ]
     },
     "execution_count": 6,
     "metadata": {},
     "output_type": "execute_result"
    }
   ],
   "source": [
    "pythagorous(3,\"x\",5)"
   ]
  },
  {
   "cell_type": "code",
   "execution_count": 7,
   "metadata": {},
   "outputs": [
    {
     "data": {
      "text/plain": [
       "3.0"
      ]
     },
     "execution_count": 7,
     "metadata": {},
     "output_type": "execute_result"
    }
   ],
   "source": [
    "pythagorous(\"x\",4,5)"
   ]
  },
  {
   "cell_type": "markdown",
   "metadata": {},
   "source": [
    "### frequency of each char in a sting"
   ]
  },
  {
   "cell_type": "code",
   "execution_count": 8,
   "metadata": {},
   "outputs": [],
   "source": [
    "def frequency(x):\n",
    "    freq={}\n",
    "    for char in x:\n",
    "        if char in freq:\n",
    "            freq[char]+=1\n",
    "        else:\n",
    "            freq[char]=1\n",
    "    return freq"
   ]
  },
  {
   "cell_type": "code",
   "execution_count": 9,
   "metadata": {},
   "outputs": [
    {
     "name": "stdout",
     "output_type": "stream",
     "text": [
      "enter a string abcdbcd\n"
     ]
    }
   ],
   "source": [
    "y=input(\"enter a string \")\n",
    "fr=frequency(y)"
   ]
  },
  {
   "cell_type": "code",
   "execution_count": 10,
   "metadata": {},
   "outputs": [
    {
     "data": {
      "text/plain": [
       "{'a': 1, 'b': 2, 'c': 2, 'd': 2}"
      ]
     },
     "execution_count": 10,
     "metadata": {},
     "output_type": "execute_result"
    }
   ],
   "source": [
    "fr"
   ]
  },
  {
   "cell_type": "code",
   "execution_count": 11,
   "metadata": {},
   "outputs": [
    {
     "name": "stdout",
     "output_type": "stream",
     "text": [
      "frequency of each char in abcdbcd is {'a': 1, 'b': 2, 'c': 2, 'd': 2}\n"
     ]
    }
   ],
   "source": [
    "print(\"frequency of each char in {} is {}\".format(y,fr))"
   ]
  }
 ],
 "metadata": {
  "kernelspec": {
   "display_name": "Python 3",
   "language": "python",
   "name": "python3"
  },
  "language_info": {
   "codemirror_mode": {
    "name": "ipython",
    "version": 3
   },
   "file_extension": ".py",
   "mimetype": "text/x-python",
   "name": "python",
   "nbconvert_exporter": "python",
   "pygments_lexer": "ipython3",
   "version": "3.7.3"
  }
 },
 "nbformat": 4,
 "nbformat_minor": 4
}
