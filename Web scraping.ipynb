{
 "cells": [
  {
   "cell_type": "markdown",
   "metadata": {},
   "source": [
    "Write a python program to display all the header tags from ‘en.wikipedia.org/wiki/Main_Page’."
   ]
  },
  {
   "cell_type": "code",
   "execution_count": 5,
   "metadata": {},
   "outputs": [],
   "source": [
    "import requests\n",
    "from bs4 import BeautifulSoup\n",
    "import pandas as pd\n",
    "import re"
   ]
  },
  {
   "cell_type": "markdown",
   "metadata": {},
   "source": [
    "### scraping all the header tags from ‘en.wikipedia.org/wiki/Main_Page’."
   ]
  },
  {
   "cell_type": "code",
   "execution_count": 6,
   "metadata": {},
   "outputs": [],
   "source": [
    "page=requests.get(\"https://en.wikipedia.org/wiki/Main_Page\")"
   ]
  },
  {
   "cell_type": "code",
   "execution_count": 7,
   "metadata": {},
   "outputs": [
    {
     "data": {
      "text/plain": [
       "<Response [200]>"
      ]
     },
     "execution_count": 7,
     "metadata": {},
     "output_type": "execute_result"
    }
   ],
   "source": [
    "page"
   ]
  },
  {
   "cell_type": "code",
   "execution_count": null,
   "metadata": {},
   "outputs": [],
   "source": []
  },
  {
   "cell_type": "code",
   "execution_count": 8,
   "metadata": {},
   "outputs": [],
   "source": [
    "wiki=BeautifulSoup(page.content)"
   ]
  },
  {
   "cell_type": "code",
   "execution_count": null,
   "metadata": {},
   "outputs": [],
   "source": []
  },
  {
   "cell_type": "code",
   "execution_count": 9,
   "metadata": {},
   "outputs": [
    {
     "data": {
      "text/plain": [
       "[<h1 class=\"firstHeading\" id=\"firstHeading\">Main Page</h1>]"
      ]
     },
     "execution_count": 9,
     "metadata": {},
     "output_type": "execute_result"
    }
   ],
   "source": [
    "headers=wiki.find_all('h1')\n",
    "headers"
   ]
  },
  {
   "cell_type": "code",
   "execution_count": 10,
   "metadata": {},
   "outputs": [
    {
     "data": {
      "text/plain": [
       "'\\nMore\\nexpanded\\ncollapsed\\n'"
      ]
     },
     "execution_count": 10,
     "metadata": {},
     "output_type": "execute_result"
    }
   ],
   "source": [
    "wiki.select('h3')[4].text"
   ]
  },
  {
   "cell_type": "code",
   "execution_count": null,
   "metadata": {},
   "outputs": [],
   "source": []
  },
  {
   "cell_type": "code",
   "execution_count": 11,
   "metadata": {},
   "outputs": [],
   "source": [
    "headers=wiki.find_all(['h1', 'h2','h3','h4','h5','h6'])\n"
   ]
  },
  {
   "cell_type": "code",
   "execution_count": 12,
   "metadata": {},
   "outputs": [
    {
     "data": {
      "text/plain": [
       "['Main Page',\n",
       " \"From today's featured article\",\n",
       " 'Did you know\\xa0...',\n",
       " 'In the news',\n",
       " 'On this day',\n",
       " \"Today's featured picture\",\n",
       " 'Other areas of Wikipedia',\n",
       " \"Wikipedia's sister projects\",\n",
       " 'Wikipedia languages',\n",
       " 'Navigation menu',\n",
       " 'Personal tools',\n",
       " 'Namespaces',\n",
       " 'Variants expanded collapsed',\n",
       " 'Views',\n",
       " 'More expanded collapsed',\n",
       " 'Search',\n",
       " 'Navigation',\n",
       " 'Contribute',\n",
       " 'Tools',\n",
       " 'Print/export',\n",
       " 'In other projects',\n",
       " 'Languages']"
      ]
     },
     "execution_count": 12,
     "metadata": {},
     "output_type": "execute_result"
    }
   ],
   "source": [
    "headers_text=[]\n",
    "for i in headers:\n",
    "    headers_text.append(i.text.strip().replace(\"\\n\",\" \"))\n",
    "headers_text"
   ]
  },
  {
   "cell_type": "code",
   "execution_count": 13,
   "metadata": {},
   "outputs": [],
   "source": [
    "df_wiki=pd.DataFrame({})\n",
    "df_wiki['headers']=headers_text"
   ]
  },
  {
   "cell_type": "code",
   "execution_count": 14,
   "metadata": {},
   "outputs": [
    {
     "data": {
      "text/html": [
       "<div>\n",
       "<style scoped>\n",
       "    .dataframe tbody tr th:only-of-type {\n",
       "        vertical-align: middle;\n",
       "    }\n",
       "\n",
       "    .dataframe tbody tr th {\n",
       "        vertical-align: top;\n",
       "    }\n",
       "\n",
       "    .dataframe thead th {\n",
       "        text-align: right;\n",
       "    }\n",
       "</style>\n",
       "<table border=\"1\" class=\"dataframe\">\n",
       "  <thead>\n",
       "    <tr style=\"text-align: right;\">\n",
       "      <th></th>\n",
       "      <th>headers</th>\n",
       "    </tr>\n",
       "  </thead>\n",
       "  <tbody>\n",
       "    <tr>\n",
       "      <th>0</th>\n",
       "      <td>Main Page</td>\n",
       "    </tr>\n",
       "    <tr>\n",
       "      <th>1</th>\n",
       "      <td>From today's featured article</td>\n",
       "    </tr>\n",
       "    <tr>\n",
       "      <th>2</th>\n",
       "      <td>Did you know ...</td>\n",
       "    </tr>\n",
       "    <tr>\n",
       "      <th>3</th>\n",
       "      <td>In the news</td>\n",
       "    </tr>\n",
       "    <tr>\n",
       "      <th>4</th>\n",
       "      <td>On this day</td>\n",
       "    </tr>\n",
       "    <tr>\n",
       "      <th>5</th>\n",
       "      <td>Today's featured picture</td>\n",
       "    </tr>\n",
       "    <tr>\n",
       "      <th>6</th>\n",
       "      <td>Other areas of Wikipedia</td>\n",
       "    </tr>\n",
       "    <tr>\n",
       "      <th>7</th>\n",
       "      <td>Wikipedia's sister projects</td>\n",
       "    </tr>\n",
       "    <tr>\n",
       "      <th>8</th>\n",
       "      <td>Wikipedia languages</td>\n",
       "    </tr>\n",
       "    <tr>\n",
       "      <th>9</th>\n",
       "      <td>Navigation menu</td>\n",
       "    </tr>\n",
       "    <tr>\n",
       "      <th>10</th>\n",
       "      <td>Personal tools</td>\n",
       "    </tr>\n",
       "    <tr>\n",
       "      <th>11</th>\n",
       "      <td>Namespaces</td>\n",
       "    </tr>\n",
       "    <tr>\n",
       "      <th>12</th>\n",
       "      <td>Variants expanded collapsed</td>\n",
       "    </tr>\n",
       "    <tr>\n",
       "      <th>13</th>\n",
       "      <td>Views</td>\n",
       "    </tr>\n",
       "    <tr>\n",
       "      <th>14</th>\n",
       "      <td>More expanded collapsed</td>\n",
       "    </tr>\n",
       "    <tr>\n",
       "      <th>15</th>\n",
       "      <td>Search</td>\n",
       "    </tr>\n",
       "    <tr>\n",
       "      <th>16</th>\n",
       "      <td>Navigation</td>\n",
       "    </tr>\n",
       "    <tr>\n",
       "      <th>17</th>\n",
       "      <td>Contribute</td>\n",
       "    </tr>\n",
       "    <tr>\n",
       "      <th>18</th>\n",
       "      <td>Tools</td>\n",
       "    </tr>\n",
       "    <tr>\n",
       "      <th>19</th>\n",
       "      <td>Print/export</td>\n",
       "    </tr>\n",
       "    <tr>\n",
       "      <th>20</th>\n",
       "      <td>In other projects</td>\n",
       "    </tr>\n",
       "    <tr>\n",
       "      <th>21</th>\n",
       "      <td>Languages</td>\n",
       "    </tr>\n",
       "  </tbody>\n",
       "</table>\n",
       "</div>"
      ],
      "text/plain": [
       "                          headers\n",
       "0                       Main Page\n",
       "1   From today's featured article\n",
       "2                Did you know ...\n",
       "3                     In the news\n",
       "4                     On this day\n",
       "5        Today's featured picture\n",
       "6        Other areas of Wikipedia\n",
       "7     Wikipedia's sister projects\n",
       "8             Wikipedia languages\n",
       "9                 Navigation menu\n",
       "10                 Personal tools\n",
       "11                     Namespaces\n",
       "12    Variants expanded collapsed\n",
       "13                          Views\n",
       "14        More expanded collapsed\n",
       "15                         Search\n",
       "16                     Navigation\n",
       "17                     Contribute\n",
       "18                          Tools\n",
       "19                   Print/export\n",
       "20              In other projects\n",
       "21                      Languages"
      ]
     },
     "execution_count": 14,
     "metadata": {},
     "output_type": "execute_result"
    }
   ],
   "source": [
    "df_wiki"
   ]
  },
  {
   "cell_type": "code",
   "execution_count": null,
   "metadata": {},
   "outputs": [],
   "source": []
  },
  {
   "cell_type": "markdown",
   "metadata": {},
   "source": [
    "### scraping IMDB’s Top rated 100 movies’ data (i.e. Name, IMDB rating, Year of release)"
   ]
  },
  {
   "cell_type": "markdown",
   "metadata": {},
   "source": [
    "https://www.imdb.com/chart/top/?sort=ir,desc&mode=simple&page=1"
   ]
  },
  {
   "cell_type": "code",
   "execution_count": 15,
   "metadata": {},
   "outputs": [],
   "source": [
    "imdb=requests.get(\"https://www.imdb.com/chart/top/?sort=ir,desc&mode=simple&page=1\")"
   ]
  },
  {
   "cell_type": "code",
   "execution_count": 16,
   "metadata": {},
   "outputs": [
    {
     "data": {
      "text/plain": [
       "<Response [200]>"
      ]
     },
     "execution_count": 16,
     "metadata": {},
     "output_type": "execute_result"
    }
   ],
   "source": [
    "imdb"
   ]
  },
  {
   "cell_type": "code",
   "execution_count": 17,
   "metadata": {},
   "outputs": [],
   "source": [
    "imdbSoup=BeautifulSoup(imdb.content)\n"
   ]
  },
  {
   "cell_type": "code",
   "execution_count": 18,
   "metadata": {},
   "outputs": [],
   "source": [
    "titleColumns=imdbSoup.find_all('td',class_='titleColumn')\n",
    "titleColumns=titleColumns[0:100]"
   ]
  },
  {
   "cell_type": "code",
   "execution_count": 19,
   "metadata": {},
   "outputs": [
    {
     "data": {
      "text/plain": [
       "'The Shawshank Redemption'"
      ]
     },
     "execution_count": 19,
     "metadata": {},
     "output_type": "execute_result"
    }
   ],
   "source": [
    "titleColumns[0].select('a')[0].text"
   ]
  },
  {
   "cell_type": "code",
   "execution_count": 20,
   "metadata": {},
   "outputs": [],
   "source": [
    "title_Columns_list=[]\n",
    "for title in titleColumns:\n",
    "    title_Columns_list.append(title.select(\"a\")[0].text)\n",
    "ratingColumns=imdbSoup.find_all('td',class_='ratingColumn imdbRating')\n",
    "ratingColumns=ratingColumns[0:100]\n",
    "rating_list=[]\n",
    "for rating in ratingColumns:\n",
    "    rating_list.append(rating.select('strong')[0].text)\n",
    "yearColumns=imdbSoup.find_all('span',class_='secondaryInfo')\n",
    "yearColumns=yearColumns[0:100]\n",
    "year_list=[]\n",
    "for spanc in yearColumns:\n",
    "    year_list.append(re.sub(r\"[^a-zA-Z0-9]\",\"\",spanc.text))\n",
    "\n"
   ]
  },
  {
   "cell_type": "code",
   "execution_count": 21,
   "metadata": {},
   "outputs": [
    {
     "data": {
      "text/plain": [
       "bs4.element.Tag"
      ]
     },
     "execution_count": 21,
     "metadata": {},
     "output_type": "execute_result"
    }
   ],
   "source": [
    "type(ratingColumns[0])"
   ]
  },
  {
   "cell_type": "code",
   "execution_count": 22,
   "metadata": {},
   "outputs": [
    {
     "data": {
      "text/plain": [
       "<td class=\"ratingColumn imdbRating\">\n",
       "<strong title=\"9.2 based on 2,464,913 user ratings\">9.2</strong>\n",
       "</td>"
      ]
     },
     "execution_count": 22,
     "metadata": {},
     "output_type": "execute_result"
    }
   ],
   "source": [
    "ratingColumns[0]"
   ]
  },
  {
   "cell_type": "code",
   "execution_count": 23,
   "metadata": {},
   "outputs": [
    {
     "data": {
      "text/plain": [
       "'9.2'"
      ]
     },
     "execution_count": 23,
     "metadata": {},
     "output_type": "execute_result"
    }
   ],
   "source": [
    "ratingColumns[0].select('strong')[0].text"
   ]
  },
  {
   "cell_type": "code",
   "execution_count": 24,
   "metadata": {},
   "outputs": [
    {
     "data": {
      "text/plain": [
       "100"
      ]
     },
     "execution_count": 24,
     "metadata": {},
     "output_type": "execute_result"
    }
   ],
   "source": [
    "len(rating_list)"
   ]
  },
  {
   "cell_type": "code",
   "execution_count": 25,
   "metadata": {},
   "outputs": [
    {
     "data": {
      "text/plain": [
       "<span class=\"secondaryInfo\">(1994)</span>"
      ]
     },
     "execution_count": 25,
     "metadata": {},
     "output_type": "execute_result"
    }
   ],
   "source": [
    "yearColumns[0]"
   ]
  },
  {
   "cell_type": "code",
   "execution_count": 26,
   "metadata": {},
   "outputs": [
    {
     "data": {
      "text/plain": [
       "'1994)'"
      ]
     },
     "execution_count": 26,
     "metadata": {},
     "output_type": "execute_result"
    }
   ],
   "source": [
    "yearColumns[0].text.strip('(')"
   ]
  },
  {
   "cell_type": "code",
   "execution_count": 27,
   "metadata": {},
   "outputs": [
    {
     "name": "stdout",
     "output_type": "stream",
     "text": [
      "1994\n"
     ]
    }
   ],
   "source": [
    "string = yearColumns[0].text\n",
    "\n",
    "new_string = ''.join(char for char in string if char.isalnum())\n",
    "print(new_string)"
   ]
  },
  {
   "cell_type": "code",
   "execution_count": 28,
   "metadata": {},
   "outputs": [
    {
     "name": "stdout",
     "output_type": "stream",
     "text": [
      "1994\n"
     ]
    }
   ],
   "source": [
    "\n",
    "string = yearColumns[0].text\n",
    "new_string = re.sub(r\"[^a-zA-Z0-9]\",\"\",string)\n",
    "print(new_string)"
   ]
  },
  {
   "cell_type": "code",
   "execution_count": null,
   "metadata": {},
   "outputs": [],
   "source": []
  },
  {
   "cell_type": "code",
   "execution_count": 29,
   "metadata": {},
   "outputs": [
    {
     "data": {
      "text/html": [
       "<div>\n",
       "<style scoped>\n",
       "    .dataframe tbody tr th:only-of-type {\n",
       "        vertical-align: middle;\n",
       "    }\n",
       "\n",
       "    .dataframe tbody tr th {\n",
       "        vertical-align: top;\n",
       "    }\n",
       "\n",
       "    .dataframe thead th {\n",
       "        text-align: right;\n",
       "    }\n",
       "</style>\n",
       "<table border=\"1\" class=\"dataframe\">\n",
       "  <thead>\n",
       "    <tr style=\"text-align: right;\">\n",
       "      <th></th>\n",
       "      <th>title</th>\n",
       "      <th>rating</th>\n",
       "      <th>year</th>\n",
       "    </tr>\n",
       "  </thead>\n",
       "  <tbody>\n",
       "    <tr>\n",
       "      <th>0</th>\n",
       "      <td>The Shawshank Redemption</td>\n",
       "      <td>9.2</td>\n",
       "      <td>1994</td>\n",
       "    </tr>\n",
       "    <tr>\n",
       "      <th>1</th>\n",
       "      <td>The Godfather</td>\n",
       "      <td>9.1</td>\n",
       "      <td>1972</td>\n",
       "    </tr>\n",
       "    <tr>\n",
       "      <th>2</th>\n",
       "      <td>The Godfather: Part II</td>\n",
       "      <td>9.0</td>\n",
       "      <td>1974</td>\n",
       "    </tr>\n",
       "    <tr>\n",
       "      <th>3</th>\n",
       "      <td>The Dark Knight</td>\n",
       "      <td>9.0</td>\n",
       "      <td>2008</td>\n",
       "    </tr>\n",
       "    <tr>\n",
       "      <th>4</th>\n",
       "      <td>12 Angry Men</td>\n",
       "      <td>8.9</td>\n",
       "      <td>1957</td>\n",
       "    </tr>\n",
       "    <tr>\n",
       "      <th>...</th>\n",
       "      <td>...</td>\n",
       "      <td>...</td>\n",
       "      <td>...</td>\n",
       "    </tr>\n",
       "    <tr>\n",
       "      <th>95</th>\n",
       "      <td>Jagten</td>\n",
       "      <td>8.3</td>\n",
       "      <td>2012</td>\n",
       "    </tr>\n",
       "    <tr>\n",
       "      <th>96</th>\n",
       "      <td>Requiem for a Dream</td>\n",
       "      <td>8.3</td>\n",
       "      <td>2000</td>\n",
       "    </tr>\n",
       "    <tr>\n",
       "      <th>97</th>\n",
       "      <td>Singin' in the Rain</td>\n",
       "      <td>8.3</td>\n",
       "      <td>1952</td>\n",
       "    </tr>\n",
       "    <tr>\n",
       "      <th>98</th>\n",
       "      <td>North by Northwest</td>\n",
       "      <td>8.3</td>\n",
       "      <td>1959</td>\n",
       "    </tr>\n",
       "    <tr>\n",
       "      <th>99</th>\n",
       "      <td>Eternal Sunshine of the Spotless Mind</td>\n",
       "      <td>8.3</td>\n",
       "      <td>2004</td>\n",
       "    </tr>\n",
       "  </tbody>\n",
       "</table>\n",
       "<p>100 rows × 3 columns</p>\n",
       "</div>"
      ],
      "text/plain": [
       "                                    title rating  year\n",
       "0                The Shawshank Redemption    9.2  1994\n",
       "1                           The Godfather    9.1  1972\n",
       "2                  The Godfather: Part II    9.0  1974\n",
       "3                         The Dark Knight    9.0  2008\n",
       "4                            12 Angry Men    8.9  1957\n",
       "..                                    ...    ...   ...\n",
       "95                                 Jagten    8.3  2012\n",
       "96                    Requiem for a Dream    8.3  2000\n",
       "97                    Singin' in the Rain    8.3  1952\n",
       "98                     North by Northwest    8.3  1959\n",
       "99  Eternal Sunshine of the Spotless Mind    8.3  2004\n",
       "\n",
       "[100 rows x 3 columns]"
      ]
     },
     "execution_count": 29,
     "metadata": {},
     "output_type": "execute_result"
    }
   ],
   "source": [
    "imdb_Top_100=pd.DataFrame({})\n",
    "imdb_Top_100['title']=title_Columns_list\n",
    "imdb_Top_100['rating']=rating_list\n",
    "imdb_Top_100['year']=year_list\n",
    "\n",
    "\n",
    "imdb_Top_100"
   ]
  },
  {
   "cell_type": "code",
   "execution_count": null,
   "metadata": {},
   "outputs": [],
   "source": []
  },
  {
   "cell_type": "code",
   "execution_count": null,
   "metadata": {},
   "outputs": [],
   "source": []
  },
  {
   "cell_type": "markdown",
   "metadata": {},
   "source": [
    "## IMDB’s Top rated 100 Indian movies’ data (i.e. Name, IMDB rating, Year of release)."
   ]
  },
  {
   "cell_type": "code",
   "execution_count": null,
   "metadata": {},
   "outputs": [],
   "source": []
  },
  {
   "cell_type": "markdown",
   "metadata": {},
   "source": [
    "https://www.imdb.com/india/top-rated-indian-movies/"
   ]
  },
  {
   "cell_type": "code",
   "execution_count": 30,
   "metadata": {},
   "outputs": [],
   "source": [
    "imdbIndian=requests.get(\"https://www.imdb.com/india/top-rated-indian-movies/\")"
   ]
  },
  {
   "cell_type": "code",
   "execution_count": 31,
   "metadata": {},
   "outputs": [
    {
     "data": {
      "text/plain": [
       "<Response [200]>"
      ]
     },
     "execution_count": 31,
     "metadata": {},
     "output_type": "execute_result"
    }
   ],
   "source": [
    "imdbIndian"
   ]
  },
  {
   "cell_type": "code",
   "execution_count": 32,
   "metadata": {},
   "outputs": [],
   "source": [
    "imdbIndianSoup=BeautifulSoup(imdbIndian.content)"
   ]
  },
  {
   "cell_type": "code",
   "execution_count": 33,
   "metadata": {},
   "outputs": [],
   "source": [
    "titleIndColumns=imdbIndianSoup.find_all('td',class_='titleColumn')\n",
    "titleIndColumns=titleIndColumns[0:100]\n",
    "titleInd_Columns_list=[]\n",
    "ratingInd_list=[]\n",
    "\n",
    "yearIndColumns=imdbIndianSoup.find_all('span',class_='secondaryInfo')\n",
    "yearIndColumns=yearIndColumns[0:100]\n",
    "\n",
    "ratingIndColumns=imdbIndianSoup.find_all('td',class_='ratingColumn imdbRating')\n",
    "ratingIndColumns=ratingIndColumns[0:100]\n",
    "yearInd_list=[]\n",
    "\n",
    "for title in titleIndColumns:\n",
    "    titleInd_Columns_list.append(title.select(\"a\")[0].text)\n",
    "for rating in ratingIndColumns:\n",
    "    ratingInd_list.append(rating.select('strong')[0].text)\n",
    "for spanc in yearIndColumns:\n",
    "    yearInd_list.append(re.sub(r\"[^a-zA-Z0-9]\",\"\",spanc.text))\n"
   ]
  },
  {
   "cell_type": "code",
   "execution_count": 34,
   "metadata": {},
   "outputs": [
    {
     "data": {
      "text/html": [
       "<div>\n",
       "<style scoped>\n",
       "    .dataframe tbody tr th:only-of-type {\n",
       "        vertical-align: middle;\n",
       "    }\n",
       "\n",
       "    .dataframe tbody tr th {\n",
       "        vertical-align: top;\n",
       "    }\n",
       "\n",
       "    .dataframe thead th {\n",
       "        text-align: right;\n",
       "    }\n",
       "</style>\n",
       "<table border=\"1\" class=\"dataframe\">\n",
       "  <thead>\n",
       "    <tr style=\"text-align: right;\">\n",
       "      <th></th>\n",
       "      <th>title</th>\n",
       "      <th>rating</th>\n",
       "      <th>year</th>\n",
       "    </tr>\n",
       "    <tr>\n",
       "      <th>index</th>\n",
       "      <th></th>\n",
       "      <th></th>\n",
       "      <th></th>\n",
       "    </tr>\n",
       "  </thead>\n",
       "  <tbody>\n",
       "    <tr>\n",
       "      <th>1</th>\n",
       "      <td>Nayakan</td>\n",
       "      <td>8.5</td>\n",
       "      <td>1987</td>\n",
       "    </tr>\n",
       "    <tr>\n",
       "      <th>2</th>\n",
       "      <td>Anbe Sivam</td>\n",
       "      <td>8.5</td>\n",
       "      <td>2003</td>\n",
       "    </tr>\n",
       "    <tr>\n",
       "      <th>3</th>\n",
       "      <td>Pariyerum Perumal</td>\n",
       "      <td>8.5</td>\n",
       "      <td>2018</td>\n",
       "    </tr>\n",
       "    <tr>\n",
       "      <th>4</th>\n",
       "      <td>C/o Kancharapalem</td>\n",
       "      <td>8.5</td>\n",
       "      <td>2018</td>\n",
       "    </tr>\n",
       "    <tr>\n",
       "      <th>5</th>\n",
       "      <td>Golmaal</td>\n",
       "      <td>8.5</td>\n",
       "      <td>1979</td>\n",
       "    </tr>\n",
       "    <tr>\n",
       "      <th>...</th>\n",
       "      <td>...</td>\n",
       "      <td>...</td>\n",
       "      <td>...</td>\n",
       "    </tr>\n",
       "    <tr>\n",
       "      <th>96</th>\n",
       "      <td>Rang De Basanti</td>\n",
       "      <td>8.1</td>\n",
       "      <td>2006</td>\n",
       "    </tr>\n",
       "    <tr>\n",
       "      <th>97</th>\n",
       "      <td>OMG: Oh My God!</td>\n",
       "      <td>8.1</td>\n",
       "      <td>2012</td>\n",
       "    </tr>\n",
       "    <tr>\n",
       "      <th>98</th>\n",
       "      <td>Roja</td>\n",
       "      <td>8.1</td>\n",
       "      <td>1992</td>\n",
       "    </tr>\n",
       "    <tr>\n",
       "      <th>99</th>\n",
       "      <td>Uri: The Surgical Strike</td>\n",
       "      <td>8.1</td>\n",
       "      <td>2019</td>\n",
       "    </tr>\n",
       "    <tr>\n",
       "      <th>100</th>\n",
       "      <td>Lagaan: Once Upon a Time in India</td>\n",
       "      <td>8.1</td>\n",
       "      <td>2001</td>\n",
       "    </tr>\n",
       "  </tbody>\n",
       "</table>\n",
       "<p>100 rows × 3 columns</p>\n",
       "</div>"
      ],
      "text/plain": [
       "                                   title rating  year\n",
       "index                                                \n",
       "1                                Nayakan    8.5  1987\n",
       "2                             Anbe Sivam    8.5  2003\n",
       "3                      Pariyerum Perumal    8.5  2018\n",
       "4                      C/o Kancharapalem    8.5  2018\n",
       "5                                Golmaal    8.5  1979\n",
       "...                                  ...    ...   ...\n",
       "96                       Rang De Basanti    8.1  2006\n",
       "97                       OMG: Oh My God!    8.1  2012\n",
       "98                                  Roja    8.1  1992\n",
       "99              Uri: The Surgical Strike    8.1  2019\n",
       "100    Lagaan: Once Upon a Time in India    8.1  2001\n",
       "\n",
       "[100 rows x 3 columns]"
      ]
     },
     "execution_count": 34,
     "metadata": {},
     "output_type": "execute_result"
    }
   ],
   "source": [
    "imdb_Top_Ind_100=pd.DataFrame({})\n",
    "imdb_Top_Ind_100['title']=titleInd_Columns_list\n",
    "imdb_Top_Ind_100['rating']=ratingInd_list\n",
    "imdb_Top_Ind_100['year']=yearInd_list\n",
    "imdb_Top_Ind_100['index']=list(range(1,101))\n",
    "imdb_Top_Ind_100.set_index('index',inplace=True)\n",
    "\n",
    "\n",
    "imdb_Top_Ind_100"
   ]
  },
  {
   "cell_type": "code",
   "execution_count": null,
   "metadata": {},
   "outputs": [],
   "source": []
  },
  {
   "cell_type": "code",
   "execution_count": null,
   "metadata": {},
   "outputs": [],
   "source": []
  },
  {
   "cell_type": "markdown",
   "metadata": {},
   "source": [
    "## scraping book name, author name, genre and book review of any 5 books from www.bookpage.com’"
   ]
  },
  {
   "cell_type": "code",
   "execution_count": null,
   "metadata": {},
   "outputs": [],
   "source": []
  },
  {
   "cell_type": "code",
   "execution_count": 35,
   "metadata": {},
   "outputs": [
    {
     "data": {
      "text/plain": [
       "<Response [200]>"
      ]
     },
     "execution_count": 35,
     "metadata": {},
     "output_type": "execute_result"
    }
   ],
   "source": [
    "requests.get(\"https://bookpage.com\")"
   ]
  },
  {
   "cell_type": "code",
   "execution_count": 36,
   "metadata": {},
   "outputs": [],
   "source": [
    "reviewsHomePage=requests.get(\"https://bookpage.com/reviews\")\n",
    "reviewsHomeSoup=BeautifulSoup(reviewsHomePage.content)"
   ]
  },
  {
   "cell_type": "code",
   "execution_count": 9,
   "metadata": {},
   "outputs": [],
   "source": [
    "    "
   ]
  },
  {
   "cell_type": "code",
   "execution_count": 37,
   "metadata": {},
   "outputs": [],
   "source": [
    "bookNamesList=[]\n",
    "bookNames=reviewsHomeSoup.find_all('h4',class_='italic')\n",
    "bookNames=bookNames[0:5]\n",
    "for bookName in bookNames:\n",
    "    bookNamesList.append(bookName.text.replace(\"\\n\",\"\"))\n",
    "\n",
    "authorNamesList=[]\n",
    "authorNames=reviewsHomeSoup.find_all('p',class_='sans bold')\n",
    "authorNames=authorNames[0:5]\n",
    "for authorName in authorNames:\n",
    "    authorNamesList.append(authorName.text.replace(\"\\n\",\"\"))\n",
    "\n",
    "genreList=[]\n",
    "genres=reviewsHomeSoup.find_all('p',class_='genre-links hidden-phone')\n",
    "genres=genres[0:5]\n",
    "for genre in genres:\n",
    "    genreList.append(genre.text.replace(\"\\n\",\"\"))\n"
   ]
  },
  {
   "cell_type": "code",
   "execution_count": 38,
   "metadata": {},
   "outputs": [],
   "source": [
    "review_classes=reviewsHomeSoup.find_all('div',class_='read-full')\n",
    "review_classes=review_classes[0:5]\n"
   ]
  },
  {
   "cell_type": "code",
   "execution_count": 39,
   "metadata": {},
   "outputs": [
    {
     "data": {
      "text/plain": [
       "'/reviews/26671-nicholas-sparks-wish-fiction'"
      ]
     },
     "execution_count": 39,
     "metadata": {},
     "output_type": "execute_result"
    }
   ],
   "source": [
    "review_classes[0].select('a')[0]['href']"
   ]
  },
  {
   "cell_type": "code",
   "execution_count": 40,
   "metadata": {},
   "outputs": [],
   "source": [
    "firstReview=requests.get(\"https://bookpage.com/reviews/26652-john-lewis-carry-audio#.YUlbOLgzZEZ\")"
   ]
  },
  {
   "cell_type": "code",
   "execution_count": null,
   "metadata": {},
   "outputs": [],
   "source": []
  },
  {
   "cell_type": "code",
   "execution_count": 41,
   "metadata": {},
   "outputs": [],
   "source": [
    "soup=BeautifulSoup(firstReview.text,'lxml')"
   ]
  },
  {
   "cell_type": "code",
   "execution_count": 42,
   "metadata": {},
   "outputs": [
    {
     "data": {
      "text/plain": [
       "<div class=\"article-body\">\n",
       "<p>\n",
       "</p><p>​​You know those motivational posters that hang in your place of work? The ones with the simple messages about teamwork, friendship, success and excellence? <b>Carry On </b>(2.5 hours), the new audiobook from late, great civil rights icon Representative John Lewis, is like that—only better, because his aphorisms are punchy yet never cliched, and you can take his inspirational words with you and play them anytime you need a lift.</p>\n",
       "<p>Actor Don Cheadle narrates each of Lewis’ 43 short essays with clarity and passion, knowing just where to put the right amount of emphasis. While Lewis was unable to record the audiobook himself, Cheadle more than succeeds in embodying the congressman’s message of hope.</p>\n",
       "<p>Ruminating on topics that range from justice and conscience to hobbies and humor, Lewis has blessed us with a timeless collection of wisdom and knowledge from a lifetime of “good trouble” in his nonviolent quest for equality. “A good day,” Lewis tells us, “is waking up and being alive.”</p>\n",
       "<p> </p>\n",
       "<p><em>ALSO IN BOOKPAGE: <a href=\"https://bookpage.com/reviews/26412-john-lewis-carry-nonfiction#.YSz14tNKjUI\">Read our review of the print edition of </a></em><a href=\"https://bookpage.com/reviews/26412-john-lewis-carry-nonfiction#.YSz14tNKjUI\"><strong>Carry On</strong><em>.</em></a></p>\n",
       "</div>"
      ]
     },
     "execution_count": 42,
     "metadata": {},
     "output_type": "execute_result"
    }
   ],
   "source": [
    "soup.select('.article-body')[0]"
   ]
  },
  {
   "cell_type": "code",
   "execution_count": 43,
   "metadata": {},
   "outputs": [
    {
     "data": {
      "text/plain": [
       "'\\n'"
      ]
     },
     "execution_count": 43,
     "metadata": {},
     "output_type": "execute_result"
    }
   ],
   "source": [
    "soup.select('.article-body')[0].find_all('p')[0].text"
   ]
  },
  {
   "cell_type": "code",
   "execution_count": 44,
   "metadata": {},
   "outputs": [
    {
     "name": "stdout",
     "output_type": "stream",
     "text": [
      "\n",
      "\n",
      "​​You know those motivational posters that hang in your place of work? The ones with the simple messages about teamwork, friendship, success and excellence? Carry On (2.5 hours), the new audiobook from late, great civil rights icon Representative John Lewis, is like that—only better, because his aphorisms are punchy yet never cliched, and you can take his inspirational words with you and play them anytime you need a lift.\n",
      "Actor Don Cheadle narrates each of Lewis’ 43 short essays with clarity and passion, knowing just where to put the right amount of emphasis. While Lewis was unable to record the audiobook himself, Cheadle more than succeeds in embodying the congressman’s message of hope.\n",
      "Ruminating on topics that range from justice and conscience to hobbies and humor, Lewis has blessed us with a timeless collection of wisdom and knowledge from a lifetime of “good trouble” in his nonviolent quest for equality. “A good day,” Lewis tells us, “is waking up and being alive.”\n",
      " \n"
     ]
    }
   ],
   "source": [
    "for i in soup.select('.article-body')[0].find_all('p'):\n",
    "    if i.select('a')==[]:\n",
    "        print(i.text)"
   ]
  },
  {
   "cell_type": "code",
   "execution_count": 45,
   "metadata": {},
   "outputs": [],
   "source": [
    "review=''\n",
    "for i in soup.select('.article-body')[0].find_all('p'):\n",
    "    if i.select('a')==[]:\n",
    "        review+=i.text.replace(\"\\n\",\"\")"
   ]
  },
  {
   "cell_type": "code",
   "execution_count": 46,
   "metadata": {},
   "outputs": [],
   "source": [
    "reviewList=[]\n",
    "home=\"https://bookpage.com\"\n",
    "for review_class in review_classes:\n",
    "    review_page=home+review_class.select('a')[0]['href']\n",
    "    review_HomePage=requests.get(review_page)\n",
    "    reviewHomeSoup=BeautifulSoup(review_HomePage.content)\n",
    "    review=''\n",
    "    for i in reviewHomeSoup.select('.article-body')[0].find_all('p'):\n",
    "        if i.select('a')==[]:\n",
    "            review+=i.text.replace(\"\\n\",\"\")\n",
    "    reviewList.append(review)    "
   ]
  },
  {
   "cell_type": "code",
   "execution_count": 47,
   "metadata": {},
   "outputs": [
    {
     "data": {
      "text/html": [
       "<div>\n",
       "<style scoped>\n",
       "    .dataframe tbody tr th:only-of-type {\n",
       "        vertical-align: middle;\n",
       "    }\n",
       "\n",
       "    .dataframe tbody tr th {\n",
       "        vertical-align: top;\n",
       "    }\n",
       "\n",
       "    .dataframe thead th {\n",
       "        text-align: right;\n",
       "    }\n",
       "</style>\n",
       "<table border=\"1\" class=\"dataframe\">\n",
       "  <thead>\n",
       "    <tr style=\"text-align: right;\">\n",
       "      <th></th>\n",
       "      <th>book</th>\n",
       "      <th>genre</th>\n",
       "      <th>author</th>\n",
       "      <th>review</th>\n",
       "    </tr>\n",
       "  </thead>\n",
       "  <tbody>\n",
       "    <tr>\n",
       "      <th>0</th>\n",
       "      <td>The Wish</td>\n",
       "      <td>Fiction / Popular Fiction</td>\n",
       "      <td>Nicholas Sparks</td>\n",
       "      <td>Being a titan in romantic fiction comes with s...</td>\n",
       "    </tr>\n",
       "    <tr>\n",
       "      <th>1</th>\n",
       "      <td>From the Tops of the Trees</td>\n",
       "      <td>Children's / Picture Book</td>\n",
       "      <td>Kao Kalia Yang, Rachel Wada</td>\n",
       "      <td>With realism and a strong thread of empowermen...</td>\n",
       "    </tr>\n",
       "    <tr>\n",
       "      <th>2</th>\n",
       "      <td>Vespertine</td>\n",
       "      <td>YA / YA Fiction</td>\n",
       "      <td>Margaret Rogerson</td>\n",
       "      <td>In Loraille, the Dead are dangerous. If they’r...</td>\n",
       "    </tr>\n",
       "    <tr>\n",
       "      <th>3</th>\n",
       "      <td>The Afrominimalist’s Guide to Living With Less</td>\n",
       "      <td>Audio / Nonfiction / Lifestyles</td>\n",
       "      <td>Christine Platt, Cast</td>\n",
       "      <td>If you think minimalism is a one-size-fits-all...</td>\n",
       "    </tr>\n",
       "    <tr>\n",
       "      <th>4</th>\n",
       "      <td>★ The Right to Sex</td>\n",
       "      <td>Nonfiction / Social Science</td>\n",
       "      <td>Amia Srinivasan</td>\n",
       "      <td>In The Right to Sex, Amia Srinivasan, a profes...</td>\n",
       "    </tr>\n",
       "  </tbody>\n",
       "</table>\n",
       "</div>"
      ],
      "text/plain": [
       "                                             book  \\\n",
       "0                                        The Wish   \n",
       "1                      From the Tops of the Trees   \n",
       "2                                      Vespertine   \n",
       "3  The Afrominimalist’s Guide to Living With Less   \n",
       "4                              ★ The Right to Sex   \n",
       "\n",
       "                             genre                       author  \\\n",
       "0        Fiction / Popular Fiction              Nicholas Sparks   \n",
       "1        Children's / Picture Book  Kao Kalia Yang, Rachel Wada   \n",
       "2                  YA / YA Fiction            Margaret Rogerson   \n",
       "3  Audio / Nonfiction / Lifestyles        Christine Platt, Cast   \n",
       "4      Nonfiction / Social Science              Amia Srinivasan   \n",
       "\n",
       "                                              review  \n",
       "0  Being a titan in romantic fiction comes with s...  \n",
       "1  With realism and a strong thread of empowermen...  \n",
       "2  In Loraille, the Dead are dangerous. If they’r...  \n",
       "3  If you think minimalism is a one-size-fits-all...  \n",
       "4  In The Right to Sex, Amia Srinivasan, a profes...  "
      ]
     },
     "execution_count": 47,
     "metadata": {},
     "output_type": "execute_result"
    }
   ],
   "source": [
    "bookPages=pd.DataFrame({})\n",
    "bookPages['book']=bookNamesList\n",
    "bookPages['genre']=genreList\n",
    "bookPages['author']=authorNamesList\n",
    "bookPages['review']=reviewList\n",
    "\n",
    "bookPages"
   ]
  },
  {
   "cell_type": "code",
   "execution_count": null,
   "metadata": {},
   "outputs": [],
   "source": [
    "    "
   ]
  },
  {
   "cell_type": "markdown",
   "metadata": {},
   "source": [
    "### Top 10 ODI teams in men’s cricket along with the records for matches, points and rating."
   ]
  },
  {
   "cell_type": "code",
   "execution_count": 48,
   "metadata": {},
   "outputs": [],
   "source": [
    "MensTop10ODI=requests.get(\"https://www.icc-cricket.com/rankings/mens/team-rankings/odi\")\n",
    "MensTop10ODISoup=BeautifulSoup(MensTop10ODI.content)"
   ]
  },
  {
   "cell_type": "code",
   "execution_count": 49,
   "metadata": {},
   "outputs": [],
   "source": [
    "teams=MensTop10ODISoup.find_all('span',class_='u-hide-phablet')\n",
    "teams=teams[0:10]\n",
    "teamlist=[]\n",
    "for team in teams:\n",
    "    teamlist.append(team.text)\n",
    "\n",
    "matches_points=MensTop10ODISoup.find_all('td',class_=['rankings-block__banner--matches','rankings-block__banner--points','table-body__cell u-center-text'])\n",
    "matches_points = matches_points[0:20]\n",
    "matches = matches_points[0:20:2]\n",
    "points = matches_points[1:20:2]\n",
    "matches_list=[]\n",
    "for match in matches:\n",
    "    matches_list.append(match.text)\n",
    "points_list=[]\n",
    "for point in points:\n",
    "    points_list.append(point.text)\n",
    "rankings=MensTop10ODISoup.find_all('td',class_=['rankings-block__banner--rating u-text-right','table-body__cell u-text-right rating'])\n",
    "rankings=rankings[0:10]\n",
    "rankings_list=[]\n",
    "for ranking in rankings:\n",
    "    rankings_list.append(ranking.text.strip())\n"
   ]
  },
  {
   "cell_type": "code",
   "execution_count": 50,
   "metadata": {},
   "outputs": [
    {
     "data": {
      "text/html": [
       "<div>\n",
       "<style scoped>\n",
       "    .dataframe tbody tr th:only-of-type {\n",
       "        vertical-align: middle;\n",
       "    }\n",
       "\n",
       "    .dataframe tbody tr th {\n",
       "        vertical-align: top;\n",
       "    }\n",
       "\n",
       "    .dataframe thead th {\n",
       "        text-align: right;\n",
       "    }\n",
       "</style>\n",
       "<table border=\"1\" class=\"dataframe\">\n",
       "  <thead>\n",
       "    <tr style=\"text-align: right;\">\n",
       "      <th></th>\n",
       "      <th>team</th>\n",
       "      <th>matches</th>\n",
       "      <th>points</th>\n",
       "      <th>rank</th>\n",
       "    </tr>\n",
       "    <tr>\n",
       "      <th>index</th>\n",
       "      <th></th>\n",
       "      <th></th>\n",
       "      <th></th>\n",
       "      <th></th>\n",
       "    </tr>\n",
       "  </thead>\n",
       "  <tbody>\n",
       "    <tr>\n",
       "      <th>1</th>\n",
       "      <td>New Zealand</td>\n",
       "      <td>17</td>\n",
       "      <td>2,054</td>\n",
       "      <td>121</td>\n",
       "    </tr>\n",
       "    <tr>\n",
       "      <th>2</th>\n",
       "      <td>England</td>\n",
       "      <td>32</td>\n",
       "      <td>3,793</td>\n",
       "      <td>119</td>\n",
       "    </tr>\n",
       "    <tr>\n",
       "      <th>3</th>\n",
       "      <td>Australia</td>\n",
       "      <td>28</td>\n",
       "      <td>3,244</td>\n",
       "      <td>116</td>\n",
       "    </tr>\n",
       "    <tr>\n",
       "      <th>4</th>\n",
       "      <td>India</td>\n",
       "      <td>32</td>\n",
       "      <td>3,624</td>\n",
       "      <td>113</td>\n",
       "    </tr>\n",
       "    <tr>\n",
       "      <th>5</th>\n",
       "      <td>South Africa</td>\n",
       "      <td>25</td>\n",
       "      <td>2,459</td>\n",
       "      <td>98</td>\n",
       "    </tr>\n",
       "    <tr>\n",
       "      <th>6</th>\n",
       "      <td>Pakistan</td>\n",
       "      <td>27</td>\n",
       "      <td>2,524</td>\n",
       "      <td>93</td>\n",
       "    </tr>\n",
       "    <tr>\n",
       "      <th>7</th>\n",
       "      <td>Bangladesh</td>\n",
       "      <td>30</td>\n",
       "      <td>2,740</td>\n",
       "      <td>91</td>\n",
       "    </tr>\n",
       "    <tr>\n",
       "      <th>8</th>\n",
       "      <td>West Indies</td>\n",
       "      <td>30</td>\n",
       "      <td>2,523</td>\n",
       "      <td>84</td>\n",
       "    </tr>\n",
       "    <tr>\n",
       "      <th>9</th>\n",
       "      <td>Sri Lanka</td>\n",
       "      <td>32</td>\n",
       "      <td>2,657</td>\n",
       "      <td>83</td>\n",
       "    </tr>\n",
       "    <tr>\n",
       "      <th>10</th>\n",
       "      <td>Afghanistan</td>\n",
       "      <td>17</td>\n",
       "      <td>1,054</td>\n",
       "      <td>62</td>\n",
       "    </tr>\n",
       "  </tbody>\n",
       "</table>\n",
       "</div>"
      ],
      "text/plain": [
       "               team matches points rank\n",
       "index                                  \n",
       "1       New Zealand      17  2,054  121\n",
       "2           England      32  3,793  119\n",
       "3         Australia      28  3,244  116\n",
       "4             India      32  3,624  113\n",
       "5      South Africa      25  2,459   98\n",
       "6          Pakistan      27  2,524   93\n",
       "7        Bangladesh      30  2,740   91\n",
       "8       West Indies      30  2,523   84\n",
       "9         Sri Lanka      32  2,657   83\n",
       "10      Afghanistan      17  1,054   62"
      ]
     },
     "execution_count": 50,
     "metadata": {},
     "output_type": "execute_result"
    }
   ],
   "source": [
    "top10MensODI=pd.DataFrame({})\n",
    "top10MensODI['team']=teamlist\n",
    "top10MensODI['matches']=matches_list\n",
    "top10MensODI['points']=points_list\n",
    "top10MensODI['rank']=rankings_list\n",
    "top10MensODI['index']=list(range(1,11))\n",
    "top10MensODI.set_index('index',inplace=True)\n",
    "top10MensODI"
   ]
  },
  {
   "cell_type": "code",
   "execution_count": null,
   "metadata": {},
   "outputs": [],
   "source": []
  },
  {
   "cell_type": "code",
   "execution_count": null,
   "metadata": {},
   "outputs": [],
   "source": []
  },
  {
   "cell_type": "markdown",
   "metadata": {},
   "source": [
    "### Top 10 ODI Batsmen in men along with the records of their team and rating."
   ]
  },
  {
   "cell_type": "code",
   "execution_count": null,
   "metadata": {},
   "outputs": [],
   "source": []
  },
  {
   "cell_type": "code",
   "execution_count": 51,
   "metadata": {},
   "outputs": [],
   "source": [
    "MensTop10ODIBatsMen=requests.get(\"https://www.icc-cricket.com/rankings/mens/player-rankings/odi/batting\")\n",
    "MensTop10ODIBatsMenSoup=BeautifulSoup(MensTop10ODIBatsMen.content)"
   ]
  },
  {
   "cell_type": "code",
   "execution_count": 52,
   "metadata": {},
   "outputs": [],
   "source": [
    "names=MensTop10ODIBatsMenSoup.find_all(class_=['rankings-block__banner--name-large','table-body__cell rankings-table__name name'])\n",
    "names=names[0:10]\n",
    "\n",
    "ratings=MensTop10ODIBatsMenSoup.find_all(class_=['rankings-block__banner--rating','table-body__cell rating'])\n",
    "ratings=ratings[0:10]\n",
    "\n",
    "\n",
    "teams=MensTop10ODIBatsMenSoup.find_all(class_=['rankings-block__banner--nationality','table-body__logo-text'])\n",
    "teams=teams[0:10]"
   ]
  },
  {
   "cell_type": "code",
   "execution_count": 53,
   "metadata": {},
   "outputs": [],
   "source": [
    "namelist=[]\n",
    "for name in names:\n",
    "    namelist.append(name.text.strip())\n",
    "\n",
    "ratingList=[]\n",
    "for rating in ratings:\n",
    "    ratingList.append(rating.text.strip())\n",
    "teamList=[]\n",
    "for team in teams:\n",
    "    teamList.append(team.text.strip())\n",
    "\n"
   ]
  },
  {
   "cell_type": "code",
   "execution_count": null,
   "metadata": {},
   "outputs": [],
   "source": []
  },
  {
   "cell_type": "code",
   "execution_count": 54,
   "metadata": {},
   "outputs": [
    {
     "data": {
      "text/html": [
       "<div>\n",
       "<style scoped>\n",
       "    .dataframe tbody tr th:only-of-type {\n",
       "        vertical-align: middle;\n",
       "    }\n",
       "\n",
       "    .dataframe tbody tr th {\n",
       "        vertical-align: top;\n",
       "    }\n",
       "\n",
       "    .dataframe thead th {\n",
       "        text-align: right;\n",
       "    }\n",
       "</style>\n",
       "<table border=\"1\" class=\"dataframe\">\n",
       "  <thead>\n",
       "    <tr style=\"text-align: right;\">\n",
       "      <th></th>\n",
       "      <th>player</th>\n",
       "      <th>team</th>\n",
       "      <th>rating</th>\n",
       "    </tr>\n",
       "    <tr>\n",
       "      <th>index</th>\n",
       "      <th></th>\n",
       "      <th></th>\n",
       "      <th></th>\n",
       "    </tr>\n",
       "  </thead>\n",
       "  <tbody>\n",
       "    <tr>\n",
       "      <th>1</th>\n",
       "      <td>Babar Azam</td>\n",
       "      <td>PAK</td>\n",
       "      <td>873</td>\n",
       "    </tr>\n",
       "    <tr>\n",
       "      <th>2</th>\n",
       "      <td>Virat Kohli</td>\n",
       "      <td>IND</td>\n",
       "      <td>844</td>\n",
       "    </tr>\n",
       "    <tr>\n",
       "      <th>3</th>\n",
       "      <td>Rohit Sharma</td>\n",
       "      <td>IND</td>\n",
       "      <td>813</td>\n",
       "    </tr>\n",
       "    <tr>\n",
       "      <th>4</th>\n",
       "      <td>Ross Taylor</td>\n",
       "      <td>NZ</td>\n",
       "      <td>801</td>\n",
       "    </tr>\n",
       "    <tr>\n",
       "      <th>5</th>\n",
       "      <td>Aaron Finch</td>\n",
       "      <td>AUS</td>\n",
       "      <td>779</td>\n",
       "    </tr>\n",
       "    <tr>\n",
       "      <th>6</th>\n",
       "      <td>Jonny Bairstow</td>\n",
       "      <td>ENG</td>\n",
       "      <td>775</td>\n",
       "    </tr>\n",
       "    <tr>\n",
       "      <th>7</th>\n",
       "      <td>David Warner</td>\n",
       "      <td>AUS</td>\n",
       "      <td>762</td>\n",
       "    </tr>\n",
       "    <tr>\n",
       "      <th>8</th>\n",
       "      <td>Shai Hope</td>\n",
       "      <td>WI</td>\n",
       "      <td>758</td>\n",
       "    </tr>\n",
       "    <tr>\n",
       "      <th>9</th>\n",
       "      <td>Kane Williamson</td>\n",
       "      <td>NZ</td>\n",
       "      <td>754</td>\n",
       "    </tr>\n",
       "    <tr>\n",
       "      <th>10</th>\n",
       "      <td>Quinton de Kock</td>\n",
       "      <td>SA</td>\n",
       "      <td>747</td>\n",
       "    </tr>\n",
       "  </tbody>\n",
       "</table>\n",
       "</div>"
      ],
      "text/plain": [
       "                player team rating\n",
       "index                             \n",
       "1           Babar Azam  PAK    873\n",
       "2          Virat Kohli  IND    844\n",
       "3         Rohit Sharma  IND    813\n",
       "4          Ross Taylor   NZ    801\n",
       "5          Aaron Finch  AUS    779\n",
       "6       Jonny Bairstow  ENG    775\n",
       "7         David Warner  AUS    762\n",
       "8            Shai Hope   WI    758\n",
       "9      Kane Williamson   NZ    754\n",
       "10     Quinton de Kock   SA    747"
      ]
     },
     "execution_count": 54,
     "metadata": {},
     "output_type": "execute_result"
    }
   ],
   "source": [
    "    \n",
    "top10MensODIBatsmen=pd.DataFrame({})\n",
    "top10MensODIBatsmen['player']=namelist\n",
    "top10MensODIBatsmen['team']=teamList\n",
    "top10MensODIBatsmen['rating']=ratingList\n",
    "top10MensODIBatsmen['index']=list(range(1,11))\n",
    "top10MensODIBatsmen.set_index('index',inplace=True)\n",
    "top10MensODIBatsmen\n"
   ]
  },
  {
   "cell_type": "code",
   "execution_count": null,
   "metadata": {},
   "outputs": [],
   "source": []
  },
  {
   "cell_type": "code",
   "execution_count": null,
   "metadata": {},
   "outputs": [],
   "source": []
  },
  {
   "cell_type": "markdown",
   "metadata": {},
   "source": [
    "### Top 10 ODI bowlers along with the records of their team and rating."
   ]
  },
  {
   "cell_type": "code",
   "execution_count": null,
   "metadata": {},
   "outputs": [],
   "source": []
  },
  {
   "cell_type": "code",
   "execution_count": 55,
   "metadata": {},
   "outputs": [],
   "source": [
    "MensTop10ODIBowlers=requests.get(\"https://www.icc-cricket.com/rankings/mens/player-rankings/odi/bowling\")\n",
    "MensTop10ODIBowlersSoup=BeautifulSoup(MensTop10ODIBowlers.content)"
   ]
  },
  {
   "cell_type": "code",
   "execution_count": 56,
   "metadata": {},
   "outputs": [],
   "source": [
    "names=MensTop10ODIBowlersSoup.find_all(class_=['rankings-block__banner--name-large','table-body__cell rankings-table__name name'])\n",
    "names=names[0:10]\n",
    "\n",
    "ratings=MensTop10ODIBowlersSoup.find_all(class_=['rankings-block__banner--rating','table-body__cell rating'])\n",
    "ratings=ratings[0:10]\n",
    "\n",
    "\n",
    "teams=MensTop10ODIBatsMenSoup.find_all(class_=['rankings-block__banner--nationality','table-body__logo-text'])\n",
    "teams=teams[0:10]"
   ]
  },
  {
   "cell_type": "code",
   "execution_count": 57,
   "metadata": {},
   "outputs": [],
   "source": [
    "namelist=[]\n",
    "for name in names:\n",
    "    namelist.append(name.text.strip())\n",
    "\n",
    "ratingList=[]\n",
    "for rating in ratings:\n",
    "    ratingList.append(rating.text.strip())\n",
    "teamList=[]\n",
    "for team in teams:\n",
    "    teamList.append(team.text.strip())\n",
    "\n"
   ]
  },
  {
   "cell_type": "code",
   "execution_count": 58,
   "metadata": {},
   "outputs": [
    {
     "data": {
      "text/html": [
       "<div>\n",
       "<style scoped>\n",
       "    .dataframe tbody tr th:only-of-type {\n",
       "        vertical-align: middle;\n",
       "    }\n",
       "\n",
       "    .dataframe tbody tr th {\n",
       "        vertical-align: top;\n",
       "    }\n",
       "\n",
       "    .dataframe thead th {\n",
       "        text-align: right;\n",
       "    }\n",
       "</style>\n",
       "<table border=\"1\" class=\"dataframe\">\n",
       "  <thead>\n",
       "    <tr style=\"text-align: right;\">\n",
       "      <th></th>\n",
       "      <th>player</th>\n",
       "      <th>team</th>\n",
       "      <th>rating</th>\n",
       "    </tr>\n",
       "    <tr>\n",
       "      <th>index</th>\n",
       "      <th></th>\n",
       "      <th></th>\n",
       "      <th></th>\n",
       "    </tr>\n",
       "  </thead>\n",
       "  <tbody>\n",
       "    <tr>\n",
       "      <th>1</th>\n",
       "      <td>Trent Boult</td>\n",
       "      <td>PAK</td>\n",
       "      <td>737</td>\n",
       "    </tr>\n",
       "    <tr>\n",
       "      <th>2</th>\n",
       "      <td>Josh Hazlewood</td>\n",
       "      <td>IND</td>\n",
       "      <td>709</td>\n",
       "    </tr>\n",
       "    <tr>\n",
       "      <th>3</th>\n",
       "      <td>Mujeeb Ur Rahman</td>\n",
       "      <td>IND</td>\n",
       "      <td>708</td>\n",
       "    </tr>\n",
       "    <tr>\n",
       "      <th>4</th>\n",
       "      <td>Chris Woakes</td>\n",
       "      <td>NZ</td>\n",
       "      <td>700</td>\n",
       "    </tr>\n",
       "    <tr>\n",
       "      <th>5</th>\n",
       "      <td>Mehedi Hasan</td>\n",
       "      <td>AUS</td>\n",
       "      <td>692</td>\n",
       "    </tr>\n",
       "    <tr>\n",
       "      <th>6</th>\n",
       "      <td>Matt Henry</td>\n",
       "      <td>ENG</td>\n",
       "      <td>691</td>\n",
       "    </tr>\n",
       "    <tr>\n",
       "      <th>7</th>\n",
       "      <td>Jasprit Bumrah</td>\n",
       "      <td>AUS</td>\n",
       "      <td>679</td>\n",
       "    </tr>\n",
       "    <tr>\n",
       "      <th>8</th>\n",
       "      <td>Mitchell Starc</td>\n",
       "      <td>WI</td>\n",
       "      <td>652</td>\n",
       "    </tr>\n",
       "    <tr>\n",
       "      <th>9</th>\n",
       "      <td>Shakib Al Hasan</td>\n",
       "      <td>NZ</td>\n",
       "      <td>650</td>\n",
       "    </tr>\n",
       "    <tr>\n",
       "      <th>10</th>\n",
       "      <td>Kagiso Rabada</td>\n",
       "      <td>SA</td>\n",
       "      <td>646</td>\n",
       "    </tr>\n",
       "  </tbody>\n",
       "</table>\n",
       "</div>"
      ],
      "text/plain": [
       "                 player team rating\n",
       "index                              \n",
       "1           Trent Boult  PAK    737\n",
       "2        Josh Hazlewood  IND    709\n",
       "3      Mujeeb Ur Rahman  IND    708\n",
       "4          Chris Woakes   NZ    700\n",
       "5          Mehedi Hasan  AUS    692\n",
       "6            Matt Henry  ENG    691\n",
       "7        Jasprit Bumrah  AUS    679\n",
       "8        Mitchell Starc   WI    652\n",
       "9       Shakib Al Hasan   NZ    650\n",
       "10        Kagiso Rabada   SA    646"
      ]
     },
     "execution_count": 58,
     "metadata": {},
     "output_type": "execute_result"
    }
   ],
   "source": [
    "    \n",
    "top10MensODIBowlers=pd.DataFrame({})\n",
    "top10MensODIBowlers['player']=namelist\n",
    "top10MensODIBowlers['team']=teamList\n",
    "top10MensODIBowlers['rating']=ratingList\n",
    "top10MensODIBowlers['index']=list(range(1,11))\n",
    "top10MensODIBowlers.set_index('index',inplace=True)\n",
    "top10MensODIBowlers\n"
   ]
  },
  {
   "cell_type": "code",
   "execution_count": null,
   "metadata": {},
   "outputs": [],
   "source": []
  },
  {
   "cell_type": "code",
   "execution_count": null,
   "metadata": {},
   "outputs": [],
   "source": []
  },
  {
   "cell_type": "markdown",
   "metadata": {},
   "source": [
    "### Top 10 ODI teams in women’s cricket along with the records for matches, points and rating."
   ]
  },
  {
   "cell_type": "code",
   "execution_count": 59,
   "metadata": {},
   "outputs": [],
   "source": [
    "WomensTop10ODI=requests.get(\"https://www.icc-cricket.com/rankings/womens/team-rankings/odi\")\n",
    "WomensTop10ODISoup=BeautifulSoup(WomensTop10ODI.content)"
   ]
  },
  {
   "cell_type": "code",
   "execution_count": 60,
   "metadata": {},
   "outputs": [],
   "source": [
    "teams=WomensTop10ODISoup.find_all('span',class_='u-hide-phablet')\n",
    "teams=teams[0:10]\n",
    "teamlist=[]\n",
    "for team in teams:\n",
    "    teamlist.append(team.text)\n",
    "\n",
    "matches_points=WomensTop10ODISoup.find_all('td',class_=['rankings-block__banner--matches','rankings-block__banner--points','table-body__cell u-center-text'])\n",
    "matches_points = matches_points[0:20]\n",
    "matches = matches_points[0:20:2]\n",
    "points = matches_points[1:20:2]\n",
    "matches_list=[]\n",
    "for match in matches:\n",
    "    matches_list.append(match.text)\n",
    "points_list=[]\n",
    "for point in points:\n",
    "    points_list.append(point.text)\n",
    "rankings=WomensTop10ODISoup.find_all('td',class_=['rankings-block__banner--rating u-text-right','table-body__cell u-text-right rating'])\n",
    "rankings=rankings[0:10]\n",
    "rankings_list=[]\n",
    "for ranking in rankings:\n",
    "    rankings_list.append(ranking.text.strip())\n"
   ]
  },
  {
   "cell_type": "code",
   "execution_count": 61,
   "metadata": {},
   "outputs": [
    {
     "data": {
      "text/html": [
       "<div>\n",
       "<style scoped>\n",
       "    .dataframe tbody tr th:only-of-type {\n",
       "        vertical-align: middle;\n",
       "    }\n",
       "\n",
       "    .dataframe tbody tr th {\n",
       "        vertical-align: top;\n",
       "    }\n",
       "\n",
       "    .dataframe thead th {\n",
       "        text-align: right;\n",
       "    }\n",
       "</style>\n",
       "<table border=\"1\" class=\"dataframe\">\n",
       "  <thead>\n",
       "    <tr style=\"text-align: right;\">\n",
       "      <th></th>\n",
       "      <th>team</th>\n",
       "      <th>matches</th>\n",
       "      <th>points</th>\n",
       "      <th>rank</th>\n",
       "    </tr>\n",
       "    <tr>\n",
       "      <th>index</th>\n",
       "      <th></th>\n",
       "      <th></th>\n",
       "      <th></th>\n",
       "      <th></th>\n",
       "    </tr>\n",
       "  </thead>\n",
       "  <tbody>\n",
       "    <tr>\n",
       "      <th>1</th>\n",
       "      <td>Australia</td>\n",
       "      <td>20</td>\n",
       "      <td>3,304</td>\n",
       "      <td>165</td>\n",
       "    </tr>\n",
       "    <tr>\n",
       "      <th>2</th>\n",
       "      <td>England</td>\n",
       "      <td>24</td>\n",
       "      <td>2,840</td>\n",
       "      <td>118</td>\n",
       "    </tr>\n",
       "    <tr>\n",
       "      <th>3</th>\n",
       "      <td>South Africa</td>\n",
       "      <td>29</td>\n",
       "      <td>3,390</td>\n",
       "      <td>117</td>\n",
       "    </tr>\n",
       "    <tr>\n",
       "      <th>4</th>\n",
       "      <td>India</td>\n",
       "      <td>25</td>\n",
       "      <td>2,735</td>\n",
       "      <td>109</td>\n",
       "    </tr>\n",
       "    <tr>\n",
       "      <th>5</th>\n",
       "      <td>New Zealand</td>\n",
       "      <td>25</td>\n",
       "      <td>2,324</td>\n",
       "      <td>93</td>\n",
       "    </tr>\n",
       "    <tr>\n",
       "      <th>6</th>\n",
       "      <td>West Indies</td>\n",
       "      <td>22</td>\n",
       "      <td>1,872</td>\n",
       "      <td>85</td>\n",
       "    </tr>\n",
       "    <tr>\n",
       "      <th>7</th>\n",
       "      <td>Pakistan</td>\n",
       "      <td>20</td>\n",
       "      <td>1,496</td>\n",
       "      <td>75</td>\n",
       "    </tr>\n",
       "    <tr>\n",
       "      <th>8</th>\n",
       "      <td>Bangladesh</td>\n",
       "      <td>5</td>\n",
       "      <td>306</td>\n",
       "      <td>61</td>\n",
       "    </tr>\n",
       "    <tr>\n",
       "      <th>9</th>\n",
       "      <td>Sri Lanka</td>\n",
       "      <td>11</td>\n",
       "      <td>519</td>\n",
       "      <td>47</td>\n",
       "    </tr>\n",
       "    <tr>\n",
       "      <th>10</th>\n",
       "      <td>Ireland</td>\n",
       "      <td>2</td>\n",
       "      <td>25</td>\n",
       "      <td>13</td>\n",
       "    </tr>\n",
       "  </tbody>\n",
       "</table>\n",
       "</div>"
      ],
      "text/plain": [
       "               team matches points rank\n",
       "index                                  \n",
       "1         Australia      20  3,304  165\n",
       "2           England      24  2,840  118\n",
       "3      South Africa      29  3,390  117\n",
       "4             India      25  2,735  109\n",
       "5       New Zealand      25  2,324   93\n",
       "6       West Indies      22  1,872   85\n",
       "7          Pakistan      20  1,496   75\n",
       "8        Bangladesh       5    306   61\n",
       "9         Sri Lanka      11    519   47\n",
       "10          Ireland       2     25   13"
      ]
     },
     "execution_count": 61,
     "metadata": {},
     "output_type": "execute_result"
    }
   ],
   "source": [
    "top10WomensODI=pd.DataFrame({})\n",
    "top10WomensODI['team']=teamlist\n",
    "top10WomensODI['matches']=matches_list\n",
    "top10WomensODI['points']=points_list\n",
    "top10WomensODI['rank']=rankings_list\n",
    "top10WomensODI['index']=list(range(1,11))\n",
    "top10WomensODI.set_index('index',inplace=True)\n",
    "top10WomensODI"
   ]
  },
  {
   "cell_type": "code",
   "execution_count": null,
   "metadata": {},
   "outputs": [],
   "source": []
  },
  {
   "cell_type": "code",
   "execution_count": null,
   "metadata": {},
   "outputs": [],
   "source": []
  },
  {
   "cell_type": "code",
   "execution_count": null,
   "metadata": {},
   "outputs": [],
   "source": []
  },
  {
   "cell_type": "markdown",
   "metadata": {},
   "source": [
    "### Top 10 women’s ODI players along with the records of their team and rating."
   ]
  },
  {
   "cell_type": "code",
   "execution_count": null,
   "metadata": {},
   "outputs": [],
   "source": []
  },
  {
   "cell_type": "code",
   "execution_count": 62,
   "metadata": {},
   "outputs": [],
   "source": [
    "WomensTop10ODIBatsMen=requests.get(\"https://www.icc-cricket.com/rankings/womens/player-rankings/odi/batting\")\n",
    "WomensTop10ODIBatsMenSoup=BeautifulSoup(WomensTop10ODIBatsMen.content)"
   ]
  },
  {
   "cell_type": "code",
   "execution_count": 63,
   "metadata": {},
   "outputs": [],
   "source": [
    "names=WomensTop10ODIBatsMenSoup.find_all(class_=['rankings-block__banner--name-large','table-body__cell rankings-table__name name'])\n",
    "names=names[0:11]\n",
    "\n",
    "ratings=WomensTop10ODIBatsMenSoup.find_all(class_=['rankings-block__banner--rating','table-body__cell rating'])\n",
    "ratings=ratings[0:11]\n",
    "\n",
    "\n",
    "teams=WomensTop10ODIBatsMenSoup.find_all(class_=['rankings-block__banner--nationality','table-body__logo-text'])\n",
    "teams=teams[0:11]"
   ]
  },
  {
   "cell_type": "code",
   "execution_count": 64,
   "metadata": {},
   "outputs": [],
   "source": [
    "namelist=[]\n",
    "for name in names:\n",
    "    namelist.append(name.text.strip())\n",
    "\n",
    "ratingList=[]\n",
    "for rating in ratings:\n",
    "    ratingList.append(rating.text.strip())\n",
    "teamList=[]\n",
    "for team in teams:\n",
    "    teamList.append(team.text.strip())\n",
    "    \n"
   ]
  },
  {
   "cell_type": "code",
   "execution_count": 65,
   "metadata": {},
   "outputs": [
    {
     "data": {
      "text/html": [
       "<div>\n",
       "<style scoped>\n",
       "    .dataframe tbody tr th:only-of-type {\n",
       "        vertical-align: middle;\n",
       "    }\n",
       "\n",
       "    .dataframe tbody tr th {\n",
       "        vertical-align: top;\n",
       "    }\n",
       "\n",
       "    .dataframe thead th {\n",
       "        text-align: right;\n",
       "    }\n",
       "</style>\n",
       "<table border=\"1\" class=\"dataframe\">\n",
       "  <thead>\n",
       "    <tr style=\"text-align: right;\">\n",
       "      <th></th>\n",
       "      <th>player</th>\n",
       "      <th>team</th>\n",
       "      <th>rating</th>\n",
       "    </tr>\n",
       "    <tr>\n",
       "      <th>index</th>\n",
       "      <th></th>\n",
       "      <th></th>\n",
       "      <th></th>\n",
       "    </tr>\n",
       "  </thead>\n",
       "  <tbody>\n",
       "    <tr>\n",
       "      <th>1</th>\n",
       "      <td>Mithali Raj</td>\n",
       "      <td>IND</td>\n",
       "      <td>762</td>\n",
       "    </tr>\n",
       "    <tr>\n",
       "      <th>2</th>\n",
       "      <td>Lizelle Lee</td>\n",
       "      <td>SA</td>\n",
       "      <td>761</td>\n",
       "    </tr>\n",
       "    <tr>\n",
       "      <th>3</th>\n",
       "      <td>Alyssa Healy</td>\n",
       "      <td>AUS</td>\n",
       "      <td>756</td>\n",
       "    </tr>\n",
       "    <tr>\n",
       "      <th>4</th>\n",
       "      <td>Tammy Beaumont</td>\n",
       "      <td>ENG</td>\n",
       "      <td>740</td>\n",
       "    </tr>\n",
       "    <tr>\n",
       "      <th>5</th>\n",
       "      <td>Amy Satterthwaite</td>\n",
       "      <td>NZ</td>\n",
       "      <td>726</td>\n",
       "    </tr>\n",
       "    <tr>\n",
       "      <th>6</th>\n",
       "      <td>Meg Lanning</td>\n",
       "      <td>AUS</td>\n",
       "      <td>723</td>\n",
       "    </tr>\n",
       "    <tr>\n",
       "      <th>7</th>\n",
       "      <td>Smriti Mandhana</td>\n",
       "      <td>IND</td>\n",
       "      <td>701</td>\n",
       "    </tr>\n",
       "    <tr>\n",
       "      <th>8</th>\n",
       "      <td>Ellyse Perry</td>\n",
       "      <td>AUS</td>\n",
       "      <td>679</td>\n",
       "    </tr>\n",
       "    <tr>\n",
       "      <th>9</th>\n",
       "      <td>Laura Wolvaardt</td>\n",
       "      <td>SA</td>\n",
       "      <td>672</td>\n",
       "    </tr>\n",
       "    <tr>\n",
       "      <th>10</th>\n",
       "      <td>Natalie Sciver</td>\n",
       "      <td>ENG</td>\n",
       "      <td>672</td>\n",
       "    </tr>\n",
       "    <tr>\n",
       "      <th>11</th>\n",
       "      <td>Heather Knight</td>\n",
       "      <td>ENG</td>\n",
       "      <td>672</td>\n",
       "    </tr>\n",
       "  </tbody>\n",
       "</table>\n",
       "</div>"
      ],
      "text/plain": [
       "                  player team rating\n",
       "index                               \n",
       "1            Mithali Raj  IND    762\n",
       "2            Lizelle Lee   SA    761\n",
       "3           Alyssa Healy  AUS    756\n",
       "4         Tammy Beaumont  ENG    740\n",
       "5      Amy Satterthwaite   NZ    726\n",
       "6            Meg Lanning  AUS    723\n",
       "7        Smriti Mandhana  IND    701\n",
       "8           Ellyse Perry  AUS    679\n",
       "9        Laura Wolvaardt   SA    672\n",
       "10        Natalie Sciver  ENG    672\n",
       "11        Heather Knight  ENG    672"
      ]
     },
     "execution_count": 65,
     "metadata": {},
     "output_type": "execute_result"
    }
   ],
   "source": [
    "    \n",
    "top10WomensODIBatsmen=pd.DataFrame({})\n",
    "top10WomensODIBatsmen['player']=namelist\n",
    "top10WomensODIBatsmen['team']=teamList\n",
    "top10WomensODIBatsmen['rating']=ratingList\n",
    "top10WomensODIBatsmen['index']=list(range(1,12))\n",
    "top10WomensODIBatsmen.set_index('index',inplace=True)\n",
    "top10WomensODIBatsmen\n"
   ]
  },
  {
   "cell_type": "code",
   "execution_count": null,
   "metadata": {},
   "outputs": [],
   "source": []
  },
  {
   "cell_type": "code",
   "execution_count": null,
   "metadata": {},
   "outputs": [],
   "source": []
  },
  {
   "cell_type": "code",
   "execution_count": null,
   "metadata": {},
   "outputs": [],
   "source": []
  },
  {
   "cell_type": "markdown",
   "metadata": {},
   "source": [
    "### Top 10 women’s ODI all-rounder along with the records of their team and rating."
   ]
  },
  {
   "cell_type": "code",
   "execution_count": 66,
   "metadata": {},
   "outputs": [],
   "source": [
    "WomensTop10AllRounderODI=requests.get(\"https://www.icc-cricket.com/rankings/womens/player-rankings/odi/all-rounder\")\n",
    "WomensTop10AllRounderODISoup=BeautifulSoup(WomensTop10AllRounderODI.content)"
   ]
  },
  {
   "cell_type": "code",
   "execution_count": 67,
   "metadata": {},
   "outputs": [],
   "source": [
    "names=WomensTop10AllRounderODISoup.find_all(class_=['rankings-block__banner--name-large','table-body__cell rankings-table__name name'])\n",
    "names=names[0:11]\n",
    "\n",
    "ratings=WomensTop10AllRounderODISoup.find_all(class_=['rankings-block__banner--rating','table-body__cell rating'])\n",
    "ratings=ratings[0:11]\n",
    "\n",
    "\n",
    "teams=WomensTop10AllRounderODISoup.find_all(class_=['rankings-block__banner--nationality','table-body__logo-text'])\n",
    "teams=teams[0:11]"
   ]
  },
  {
   "cell_type": "code",
   "execution_count": 68,
   "metadata": {},
   "outputs": [],
   "source": [
    "namelist=[]\n",
    "for name in names:\n",
    "    namelist.append(name.text.strip())\n",
    "\n",
    "ratingList=[]\n",
    "for rating in ratings:\n",
    "    ratingList.append(rating.text.strip())\n",
    "teamList=[]\n",
    "for team in teams:\n",
    "    teamList.append(team.text.strip())\n",
    "    \n"
   ]
  },
  {
   "cell_type": "code",
   "execution_count": 69,
   "metadata": {},
   "outputs": [
    {
     "data": {
      "text/html": [
       "<div>\n",
       "<style scoped>\n",
       "    .dataframe tbody tr th:only-of-type {\n",
       "        vertical-align: middle;\n",
       "    }\n",
       "\n",
       "    .dataframe tbody tr th {\n",
       "        vertical-align: top;\n",
       "    }\n",
       "\n",
       "    .dataframe thead th {\n",
       "        text-align: right;\n",
       "    }\n",
       "</style>\n",
       "<table border=\"1\" class=\"dataframe\">\n",
       "  <thead>\n",
       "    <tr style=\"text-align: right;\">\n",
       "      <th></th>\n",
       "      <th>player</th>\n",
       "      <th>team</th>\n",
       "      <th>rating</th>\n",
       "    </tr>\n",
       "    <tr>\n",
       "      <th>index</th>\n",
       "      <th></th>\n",
       "      <th></th>\n",
       "      <th></th>\n",
       "    </tr>\n",
       "  </thead>\n",
       "  <tbody>\n",
       "    <tr>\n",
       "      <th>1</th>\n",
       "      <td>Ellyse Perry</td>\n",
       "      <td>AUS</td>\n",
       "      <td>418</td>\n",
       "    </tr>\n",
       "    <tr>\n",
       "      <th>2</th>\n",
       "      <td>Marizanne Kapp</td>\n",
       "      <td>SA</td>\n",
       "      <td>384</td>\n",
       "    </tr>\n",
       "    <tr>\n",
       "      <th>3</th>\n",
       "      <td>Natalie Sciver</td>\n",
       "      <td>ENG</td>\n",
       "      <td>380</td>\n",
       "    </tr>\n",
       "    <tr>\n",
       "      <th>4</th>\n",
       "      <td>Deepti Sharma</td>\n",
       "      <td>IND</td>\n",
       "      <td>331</td>\n",
       "    </tr>\n",
       "    <tr>\n",
       "      <th>5</th>\n",
       "      <td>Stafanie Taylor</td>\n",
       "      <td>WI</td>\n",
       "      <td>322</td>\n",
       "    </tr>\n",
       "    <tr>\n",
       "      <th>6</th>\n",
       "      <td>Jess Jonassen</td>\n",
       "      <td>AUS</td>\n",
       "      <td>307</td>\n",
       "    </tr>\n",
       "    <tr>\n",
       "      <th>7</th>\n",
       "      <td>Dane van Niekerk</td>\n",
       "      <td>SA</td>\n",
       "      <td>274</td>\n",
       "    </tr>\n",
       "    <tr>\n",
       "      <th>8</th>\n",
       "      <td>Sophie Devine</td>\n",
       "      <td>NZ</td>\n",
       "      <td>254</td>\n",
       "    </tr>\n",
       "    <tr>\n",
       "      <th>9</th>\n",
       "      <td>Katherine Brunt</td>\n",
       "      <td>ENG</td>\n",
       "      <td>254</td>\n",
       "    </tr>\n",
       "    <tr>\n",
       "      <th>10</th>\n",
       "      <td>Ashleigh Gardner</td>\n",
       "      <td>AUS</td>\n",
       "      <td>252</td>\n",
       "    </tr>\n",
       "    <tr>\n",
       "      <th>11</th>\n",
       "      <td>Hayley Matthews</td>\n",
       "      <td>WI</td>\n",
       "      <td>220</td>\n",
       "    </tr>\n",
       "  </tbody>\n",
       "</table>\n",
       "</div>"
      ],
      "text/plain": [
       "                 player team rating\n",
       "index                              \n",
       "1          Ellyse Perry  AUS    418\n",
       "2        Marizanne Kapp   SA    384\n",
       "3        Natalie Sciver  ENG    380\n",
       "4         Deepti Sharma  IND    331\n",
       "5       Stafanie Taylor   WI    322\n",
       "6         Jess Jonassen  AUS    307\n",
       "7      Dane van Niekerk   SA    274\n",
       "8         Sophie Devine   NZ    254\n",
       "9       Katherine Brunt  ENG    254\n",
       "10     Ashleigh Gardner  AUS    252\n",
       "11      Hayley Matthews   WI    220"
      ]
     },
     "execution_count": 69,
     "metadata": {},
     "output_type": "execute_result"
    }
   ],
   "source": [
    "    \n",
    "top10WomensAllRoundersODI=pd.DataFrame({})\n",
    "top10WomensAllRoundersODI['player']=namelist\n",
    "top10WomensAllRoundersODI['team']=teamList\n",
    "top10WomensAllRoundersODI['rating']=ratingList\n",
    "top10WomensAllRoundersODI['index']=list(range(1,12))\n",
    "top10WomensAllRoundersODI.set_index('index',inplace=True)\n",
    "top10WomensAllRoundersODI\n"
   ]
  },
  {
   "cell_type": "markdown",
   "metadata": {},
   "source": [
    "###  scraping details of all the mobile phones under Rs. 20,000 listed on Amazon.in. The scraped data should include Product Name, Price, Image URL and Average Rating."
   ]
  },
  {
   "cell_type": "code",
   "execution_count": 72,
   "metadata": {},
   "outputs": [],
   "source": [
    "def extract_record(item):\n",
    "    atag=item.h2.a\n",
    "    prodName=atag.text.strip()\n",
    "    try:\n",
    "        price_parent=item.find(\"span\",\"a-price\")\n",
    "        price=price_parent.find(\"span\",\"a-offscreen\").text\n",
    "    except AttributeError:\n",
    "        return\n",
    "    try:\n",
    "        rating=item.i.text\n",
    "    except AttributeError:\n",
    "        rating=''\n",
    "    try:\n",
    "        imgUrl=item.img['src']\n",
    "    except AttributeError:\n",
    "        imgUrl = ''\n",
    "    result = (prodName,price,rating,imgUrl)\n",
    "        \n",
    "    return result  "
   ]
  },
  {
   "cell_type": "code",
   "execution_count": 73,
   "metadata": {},
   "outputs": [
    {
     "name": "stdout",
     "output_type": "stream",
     "text": [
      "https://www.amazon.in/s?k=Mobile+phones+under+20000&page=1&qid=1632554143&ref=sr_pg_1\n",
      "https://www.amazon.in/s?k=Mobile+phones+under+20000&page=2&qid=1632554143&ref=sr_pg_2\n",
      "https://www.amazon.in/s?k=Mobile+phones+under+20000&page=3&qid=1632554143&ref=sr_pg_3\n",
      "https://www.amazon.in/s?k=Mobile+phones+under+20000&page=4&qid=1632554143&ref=sr_pg_4\n",
      "https://www.amazon.in/s?k=Mobile+phones+under+20000&page=5&qid=1632554143&ref=sr_pg_5\n",
      "https://www.amazon.in/s?k=Mobile+phones+under+20000&page=6&qid=1632554143&ref=sr_pg_6\n",
      "https://www.amazon.in/s?k=Mobile+phones+under+20000&page=7&qid=1632554143&ref=sr_pg_7\n",
      "https://www.amazon.in/s?k=Mobile+phones+under+20000&page=8&qid=1632554143&ref=sr_pg_8\n",
      "https://www.amazon.in/s?k=Mobile+phones+under+20000&page=9&qid=1632554143&ref=sr_pg_9\n"
     ]
    }
   ],
   "source": [
    "productNameList=[]\n",
    "priceList=[]\n",
    "ratingList=[]\n",
    "imgURLList=[]\n",
    "page=\"https://www.amazon.in/s?k=Mobile+phones+under+20000&page={0}&qid=1632554143&ref=sr_pg_{0}\"\n",
    "for i in range(1,10):\n",
    "    print(page.format(i))\n",
    "    pageResult=requests.get(page.format(i))\n",
    "    #print(pageResult)\n",
    "    if pageResult.status_code==200:\n",
    "        pageSoup=BeautifulSoup(pageResult.content)\n",
    "        results=pageSoup.find_all('div',{'data-component-type':\"s-search-result\"})\n",
    "        for item in results:\n",
    "            record=extract_record(item)\n",
    "            if record:\n",
    "                a,b,c,d=record\n",
    "            productNameList.append(a)\n",
    "            priceList.append(b)\n",
    "            ratingList.append(c)\n",
    "            imgURLList.append(d)\n",
    "    "
   ]
  },
  {
   "cell_type": "code",
   "execution_count": 74,
   "metadata": {},
   "outputs": [
    {
     "data": {
      "text/html": [
       "<div>\n",
       "<style scoped>\n",
       "    .dataframe tbody tr th:only-of-type {\n",
       "        vertical-align: middle;\n",
       "    }\n",
       "\n",
       "    .dataframe tbody tr th {\n",
       "        vertical-align: top;\n",
       "    }\n",
       "\n",
       "    .dataframe thead th {\n",
       "        text-align: right;\n",
       "    }\n",
       "</style>\n",
       "<table border=\"1\" class=\"dataframe\">\n",
       "  <thead>\n",
       "    <tr style=\"text-align: right;\">\n",
       "      <th></th>\n",
       "      <th>product</th>\n",
       "      <th>price</th>\n",
       "      <th>rating</th>\n",
       "      <th>imgURL</th>\n",
       "    </tr>\n",
       "    <tr>\n",
       "      <th>index</th>\n",
       "      <th></th>\n",
       "      <th></th>\n",
       "      <th></th>\n",
       "      <th></th>\n",
       "    </tr>\n",
       "  </thead>\n",
       "  <tbody>\n",
       "    <tr>\n",
       "      <th>1</th>\n",
       "      <td>Redmi 9A (Nature Green, 2GB RAM, 32GB Storage)...</td>\n",
       "      <td>₹6,999</td>\n",
       "      <td>4.2 out of 5 stars</td>\n",
       "      <td>https://m.media-amazon.com/images/I/71sxlhYhKW...</td>\n",
       "    </tr>\n",
       "    <tr>\n",
       "      <th>2</th>\n",
       "      <td>Redmi 9 (Sky Blue, 4GB RAM, 64GB Storage) | 2....</td>\n",
       "      <td>₹9,499</td>\n",
       "      <td>4.2 out of 5 stars</td>\n",
       "      <td>https://m.media-amazon.com/images/I/71A9Vo1Bat...</td>\n",
       "    </tr>\n",
       "    <tr>\n",
       "      <th>3</th>\n",
       "      <td>OPPO A31 (Fantasy White, 6GB RAM, 128GB Storag...</td>\n",
       "      <td>₹12,990</td>\n",
       "      <td>4.2 out of 5 stars</td>\n",
       "      <td>https://m.media-amazon.com/images/I/61CnyJ-IbM...</td>\n",
       "    </tr>\n",
       "    <tr>\n",
       "      <th>4</th>\n",
       "      <td>Redmi 9 (Carbon Black, 4GB RAM, 64GB Storage) ...</td>\n",
       "      <td>₹9,499</td>\n",
       "      <td>4.2 out of 5 stars</td>\n",
       "      <td>https://m.media-amazon.com/images/I/716nHhG9SW...</td>\n",
       "    </tr>\n",
       "    <tr>\n",
       "      <th>5</th>\n",
       "      <td>Redmi 9 Power (Mighty Black, 6GB RAM, 128GB St...</td>\n",
       "      <td>₹13,499</td>\n",
       "      <td>4.2 out of 5 stars</td>\n",
       "      <td>https://m.media-amazon.com/images/I/61LHaUOheh...</td>\n",
       "    </tr>\n",
       "    <tr>\n",
       "      <th>...</th>\n",
       "      <td>...</td>\n",
       "      <td>...</td>\n",
       "      <td>...</td>\n",
       "      <td>...</td>\n",
       "    </tr>\n",
       "    <tr>\n",
       "      <th>60</th>\n",
       "      <td>Redmi Note 10S (Cosmic Purple, 6GB RAM, 128GB ...</td>\n",
       "      <td>₹16,499</td>\n",
       "      <td>4.1 out of 5 stars</td>\n",
       "      <td>https://m.media-amazon.com/images/I/81sZamLSPW...</td>\n",
       "    </tr>\n",
       "    <tr>\n",
       "      <th>61</th>\n",
       "      <td>Tecno Camon 17 Pro (Arctic Down, 8GB RAM, 128G...</td>\n",
       "      <td>₹16,999</td>\n",
       "      <td>4.0 out of 5 stars</td>\n",
       "      <td>https://m.media-amazon.com/images/I/91Xk9FV1Ed...</td>\n",
       "    </tr>\n",
       "    <tr>\n",
       "      <th>62</th>\n",
       "      <td>Tecno Camon 17 Pro (Arctic Down, 8GB RAM, 128G...</td>\n",
       "      <td>₹16,999</td>\n",
       "      <td>4.0 out of 5 stars</td>\n",
       "      <td>https://m.media-amazon.com/images/I/91Xk9FV1Ed...</td>\n",
       "    </tr>\n",
       "    <tr>\n",
       "      <th>63</th>\n",
       "      <td>Samsung Galaxy M32 (Black, 4GB RAM, 64GB Stora...</td>\n",
       "      <td>₹14,999</td>\n",
       "      <td>4.2 out of 5 stars</td>\n",
       "      <td>https://m.media-amazon.com/images/I/71Q3iSQAwA...</td>\n",
       "    </tr>\n",
       "    <tr>\n",
       "      <th>64</th>\n",
       "      <td>Redmi 9 Prime (Space Blue, 4GB RAM, 64GB Stora...</td>\n",
       "      <td>₹10,499</td>\n",
       "      <td>4.3 out of 5 stars</td>\n",
       "      <td>https://m.media-amazon.com/images/I/71U2SiHgbi...</td>\n",
       "    </tr>\n",
       "  </tbody>\n",
       "</table>\n",
       "<p>64 rows × 4 columns</p>\n",
       "</div>"
      ],
      "text/plain": [
       "                                                 product    price  \\\n",
       "index                                                               \n",
       "1      Redmi 9A (Nature Green, 2GB RAM, 32GB Storage)...   ₹6,999   \n",
       "2      Redmi 9 (Sky Blue, 4GB RAM, 64GB Storage) | 2....   ₹9,499   \n",
       "3      OPPO A31 (Fantasy White, 6GB RAM, 128GB Storag...  ₹12,990   \n",
       "4      Redmi 9 (Carbon Black, 4GB RAM, 64GB Storage) ...   ₹9,499   \n",
       "5      Redmi 9 Power (Mighty Black, 6GB RAM, 128GB St...  ₹13,499   \n",
       "...                                                  ...      ...   \n",
       "60     Redmi Note 10S (Cosmic Purple, 6GB RAM, 128GB ...  ₹16,499   \n",
       "61     Tecno Camon 17 Pro (Arctic Down, 8GB RAM, 128G...  ₹16,999   \n",
       "62     Tecno Camon 17 Pro (Arctic Down, 8GB RAM, 128G...  ₹16,999   \n",
       "63     Samsung Galaxy M32 (Black, 4GB RAM, 64GB Stora...  ₹14,999   \n",
       "64     Redmi 9 Prime (Space Blue, 4GB RAM, 64GB Stora...  ₹10,499   \n",
       "\n",
       "                   rating                                             imgURL  \n",
       "index                                                                         \n",
       "1      4.2 out of 5 stars  https://m.media-amazon.com/images/I/71sxlhYhKW...  \n",
       "2      4.2 out of 5 stars  https://m.media-amazon.com/images/I/71A9Vo1Bat...  \n",
       "3      4.2 out of 5 stars  https://m.media-amazon.com/images/I/61CnyJ-IbM...  \n",
       "4      4.2 out of 5 stars  https://m.media-amazon.com/images/I/716nHhG9SW...  \n",
       "5      4.2 out of 5 stars  https://m.media-amazon.com/images/I/61LHaUOheh...  \n",
       "...                   ...                                                ...  \n",
       "60     4.1 out of 5 stars  https://m.media-amazon.com/images/I/81sZamLSPW...  \n",
       "61     4.0 out of 5 stars  https://m.media-amazon.com/images/I/91Xk9FV1Ed...  \n",
       "62     4.0 out of 5 stars  https://m.media-amazon.com/images/I/91Xk9FV1Ed...  \n",
       "63     4.2 out of 5 stars  https://m.media-amazon.com/images/I/71Q3iSQAwA...  \n",
       "64     4.3 out of 5 stars  https://m.media-amazon.com/images/I/71U2SiHgbi...  \n",
       "\n",
       "[64 rows x 4 columns]"
      ]
     },
     "execution_count": 74,
     "metadata": {},
     "output_type": "execute_result"
    }
   ],
   "source": [
    "Amazon=pd.DataFrame({})\n",
    "Amazon['product']=productNameList\n",
    "Amazon['price']=priceList\n",
    "Amazon['rating']=ratingList\n",
    "\n",
    "Amazon['imgURL']=imgURLList\n",
    "\n",
    "\n",
    "Amazon['index']=list(range(1,len(productNameList)+1))\n",
    "Amazon.set_index('index',inplace=True)\n",
    "Amazon\n"
   ]
  },
  {
   "cell_type": "code",
   "execution_count": null,
   "metadata": {},
   "outputs": [],
   "source": []
  },
  {
   "cell_type": "code",
   "execution_count": null,
   "metadata": {},
   "outputs": [],
   "source": []
  },
  {
   "cell_type": "code",
   "execution_count": null,
   "metadata": {},
   "outputs": [],
   "source": []
  },
  {
   "cell_type": "code",
   "execution_count": null,
   "metadata": {},
   "outputs": [],
   "source": []
  },
  {
   "cell_type": "code",
   "execution_count": null,
   "metadata": {},
   "outputs": [],
   "source": []
  },
  {
   "cell_type": "markdown",
   "metadata": {},
   "source": [
    "### extracting information about the local weather from the National Weather Service website of USA, https://www.weather.gov/ for the city, San Francisco. You need to extract data about 7 day extended forecast display for the city. The data should include period, short description, temperature and description.\n"
   ]
  },
  {
   "cell_type": "code",
   "execution_count": 75,
   "metadata": {},
   "outputs": [],
   "source": [
    "page=requests.get(\"https://forecast.weather.gov/MapClick.php?lat=37.777120000000025&lon=-122.41963999999996\")\n",
    "pageSoup=BeautifulSoup(page.content)"
   ]
  },
  {
   "cell_type": "code",
   "execution_count": 76,
   "metadata": {},
   "outputs": [
    {
     "data": {
      "text/html": [
       "<div>\n",
       "<style scoped>\n",
       "    .dataframe tbody tr th:only-of-type {\n",
       "        vertical-align: middle;\n",
       "    }\n",
       "\n",
       "    .dataframe tbody tr th {\n",
       "        vertical-align: top;\n",
       "    }\n",
       "\n",
       "    .dataframe thead th {\n",
       "        text-align: right;\n",
       "    }\n",
       "</style>\n",
       "<table border=\"1\" class=\"dataframe\">\n",
       "  <thead>\n",
       "    <tr style=\"text-align: right;\">\n",
       "      <th></th>\n",
       "      <th>day</th>\n",
       "      <th>ShortDesc</th>\n",
       "      <th>Temp</th>\n",
       "      <th>description</th>\n",
       "    </tr>\n",
       "    <tr>\n",
       "      <th>index</th>\n",
       "      <th></th>\n",
       "      <th></th>\n",
       "      <th></th>\n",
       "      <th></th>\n",
       "    </tr>\n",
       "  </thead>\n",
       "  <tbody>\n",
       "    <tr>\n",
       "      <th>1</th>\n",
       "      <td>Today</td>\n",
       "      <td>Mostly cloudy</td>\n",
       "      <td>64°F</td>\n",
       "      <td>Mostly cloudy, then gradually becoming sunny, ...</td>\n",
       "    </tr>\n",
       "    <tr>\n",
       "      <th>2</th>\n",
       "      <td>Tonight</td>\n",
       "      <td>Mostly cloudy</td>\n",
       "      <td>54°F</td>\n",
       "      <td>Mostly cloudy, with a low around 54. West wind...</td>\n",
       "    </tr>\n",
       "    <tr>\n",
       "      <th>3</th>\n",
       "      <td>Monday</td>\n",
       "      <td>Mostly cloudy</td>\n",
       "      <td>67°F</td>\n",
       "      <td>Mostly cloudy, with a high near 67. West wind ...</td>\n",
       "    </tr>\n",
       "    <tr>\n",
       "      <th>4</th>\n",
       "      <td>Monday Night</td>\n",
       "      <td>Mostly cloudy</td>\n",
       "      <td>53°F</td>\n",
       "      <td>A 20 percent chance of rain before 11pm.  Most...</td>\n",
       "    </tr>\n",
       "    <tr>\n",
       "      <th>5</th>\n",
       "      <td>Tuesday</td>\n",
       "      <td>Sunny</td>\n",
       "      <td>67°F</td>\n",
       "      <td>Sunny, with a high near 67. West northwest win...</td>\n",
       "    </tr>\n",
       "    <tr>\n",
       "      <th>6</th>\n",
       "      <td>Tuesday Night</td>\n",
       "      <td>Mostly clear</td>\n",
       "      <td>53°F</td>\n",
       "      <td>Mostly clear, with a low around 53.</td>\n",
       "    </tr>\n",
       "    <tr>\n",
       "      <th>7</th>\n",
       "      <td>Wednesday</td>\n",
       "      <td>Sunny</td>\n",
       "      <td>68°F</td>\n",
       "      <td>Sunny, with a high near 68.</td>\n",
       "    </tr>\n",
       "    <tr>\n",
       "      <th>8</th>\n",
       "      <td>Wednesday Night</td>\n",
       "      <td>Mostly clear</td>\n",
       "      <td>54°F</td>\n",
       "      <td>Mostly clear, with a low around 54.</td>\n",
       "    </tr>\n",
       "    <tr>\n",
       "      <th>9</th>\n",
       "      <td>Thursday</td>\n",
       "      <td>Sunny</td>\n",
       "      <td>72°F</td>\n",
       "      <td>Sunny, with a high near 72.</td>\n",
       "    </tr>\n",
       "    <tr>\n",
       "      <th>10</th>\n",
       "      <td>Thursday Night</td>\n",
       "      <td>Mostly clear</td>\n",
       "      <td>55°F</td>\n",
       "      <td>Mostly clear, with a low around 55.</td>\n",
       "    </tr>\n",
       "    <tr>\n",
       "      <th>11</th>\n",
       "      <td>Friday</td>\n",
       "      <td>Sunny</td>\n",
       "      <td>71°F</td>\n",
       "      <td>Sunny, with a high near 71.</td>\n",
       "    </tr>\n",
       "    <tr>\n",
       "      <th>12</th>\n",
       "      <td>Friday Night</td>\n",
       "      <td>Partly cloudy</td>\n",
       "      <td>54°F</td>\n",
       "      <td>Partly cloudy, with a low around 54.</td>\n",
       "    </tr>\n",
       "    <tr>\n",
       "      <th>13</th>\n",
       "      <td>Saturday</td>\n",
       "      <td>Mostly sunny</td>\n",
       "      <td>68°F</td>\n",
       "      <td>Mostly sunny, with a high near 68.</td>\n",
       "    </tr>\n",
       "  </tbody>\n",
       "</table>\n",
       "</div>"
      ],
      "text/plain": [
       "                   day      ShortDesc  Temp  \\\n",
       "index                                         \n",
       "1                Today  Mostly cloudy  64°F   \n",
       "2              Tonight  Mostly cloudy  54°F   \n",
       "3               Monday  Mostly cloudy  67°F   \n",
       "4         Monday Night  Mostly cloudy  53°F   \n",
       "5              Tuesday          Sunny  67°F   \n",
       "6        Tuesday Night   Mostly clear  53°F   \n",
       "7            Wednesday          Sunny  68°F   \n",
       "8      Wednesday Night   Mostly clear  54°F   \n",
       "9             Thursday          Sunny  72°F   \n",
       "10      Thursday Night   Mostly clear  55°F   \n",
       "11              Friday          Sunny  71°F   \n",
       "12        Friday Night  Partly cloudy  54°F   \n",
       "13            Saturday   Mostly sunny  68°F   \n",
       "\n",
       "                                             description  \n",
       "index                                                     \n",
       "1      Mostly cloudy, then gradually becoming sunny, ...  \n",
       "2      Mostly cloudy, with a low around 54. West wind...  \n",
       "3      Mostly cloudy, with a high near 67. West wind ...  \n",
       "4      A 20 percent chance of rain before 11pm.  Most...  \n",
       "5      Sunny, with a high near 67. West northwest win...  \n",
       "6                    Mostly clear, with a low around 53.  \n",
       "7                            Sunny, with a high near 68.  \n",
       "8                    Mostly clear, with a low around 54.  \n",
       "9                            Sunny, with a high near 72.  \n",
       "10                   Mostly clear, with a low around 55.  \n",
       "11                           Sunny, with a high near 71.  \n",
       "12                  Partly cloudy, with a low around 54.  \n",
       "13                    Mostly sunny, with a high near 68.  "
      ]
     },
     "execution_count": 76,
     "metadata": {},
     "output_type": "execute_result"
    }
   ],
   "source": [
    "rows=pageSoup.find_all('div',['row row-odd row-forecast','row row-even row-forecast'])\n",
    "descList=[]\n",
    "shortDescList=[]\n",
    "tempList=[]\n",
    "dayList=[]\n",
    "for row in rows:\n",
    "    description=row.find('div','col-sm-10 forecast-text').text.strip()\n",
    "    descList.append(description)\n",
    "    CommaSep=description.split(\",\")[0]\n",
    "    spaceSep=CommaSep.split(\" \")\n",
    "    shortDesc=(\" \").join(spaceSep[-2:])\n",
    "    shortDescList.append(shortDesc)\n",
    "    x = re.findall(\"\\d{2}\\.\", description)\n",
    "    temp=x[0].strip('.')\n",
    "    temp=temp+\"°F\"\n",
    "    tempList.append(temp)\n",
    "    day=row.find('div','col-sm-2 forecast-label').text\n",
    "    dayList.append(day)\n",
    "        \n",
    "forecast=pd.DataFrame({})\n",
    "forecast['day']=dayList\n",
    "forecast['ShortDesc']=shortDescList\n",
    "forecast['Temp']=tempList\n",
    "\n",
    "forecast['description']=descList\n",
    "\n",
    "forecast['index']=list(range(1,len(dayList)+1))\n",
    "forecast.set_index('index',inplace=True)\n",
    "forecast\n",
    "\n",
    "    \n",
    "    \n"
   ]
  },
  {
   "cell_type": "code",
   "execution_count": null,
   "metadata": {},
   "outputs": [],
   "source": [
    "        "
   ]
  },
  {
   "cell_type": "markdown",
   "metadata": {},
   "source": [
    "### fresher job listings from ‘https://internshala.com/’. It should include job title, company name, CTC, and apply date."
   ]
  },
  {
   "cell_type": "code",
   "execution_count": 77,
   "metadata": {},
   "outputs": [],
   "source": [
    "page=requests.get(\"https://internshala.com/fresher-jobs\")\n",
    "soup=BeautifulSoup(page.content)"
   ]
  },
  {
   "cell_type": "code",
   "execution_count": 78,
   "metadata": {},
   "outputs": [],
   "source": [
    "titles=soup.find_all('div',class_='heading_4_5 profile')\n",
    "job_titles=[]\n",
    "for i in titles:\n",
    "    job_titles.append(i.text.replace(\"\\n\",\"\"))\n",
    "company_names=[]\n",
    "companies=soup.find_all('a',class_=\"link_display_like_text\")\n",
    "\n",
    "for i in companies:\n",
    "    company_names.append(i.text.strip())\n",
    "otherDetails=soup.find_all('div',class_='internship_other_details_container')\n",
    "ctcList=[]\n",
    "datesList=[]\n",
    "for details in otherDetails:\n",
    "    ctcList.append(details.select(\".item_body\")[1].text)\n",
    "    datesList.append(details.select(\".item_body\")[2].text)"
   ]
  },
  {
   "cell_type": "code",
   "execution_count": 79,
   "metadata": {},
   "outputs": [],
   "source": [
    "ctcList=[]\n",
    "datesList=[]\n",
    "otherDetails=soup.find_all('div',class_='internship_other_details_container')\n",
    "\n",
    "for details in otherDetails:\n",
    "    ctcList.append(details.select(\".item_body\")[1].text.strip())\n",
    "    datesList.append(details.select(\".item_body\")[2].text)\n"
   ]
  },
  {
   "cell_type": "code",
   "execution_count": 80,
   "metadata": {},
   "outputs": [],
   "source": [
    "job_titles=[]\n",
    "company_names=[]\n",
    "ctcList=[]\n",
    "datesList=[]\n",
    "\n",
    "for page in range(1,9):\n",
    "    home=\"https://internshala.com/fresher-jobs/page-{}\"\n",
    "    target=home.format(page)\n",
    "    page=requests.get(target)\n",
    "    soup=BeautifulSoup(page.content)\n",
    "    titles=soup.find_all('div',class_='heading_4_5 profile')\n",
    "    for i in titles:\n",
    "        job_titles.append(i.text.replace(\"\\n\",\"\"))\n",
    "    companies=soup.find_all('a',class_=\"link_display_like_text\")\n",
    "    for i in companies:\n",
    "        company_names.append(i.text.strip())\n",
    "    otherDetails=soup.find_all('div',class_='internship_other_details_container')\n",
    "    for details in otherDetails:\n",
    "        ctcList.append(details.select(\".item_body\")[1].text.strip())\n",
    "        datesList.append(details.select(\".item_body\")[2].text.strip())"
   ]
  },
  {
   "cell_type": "code",
   "execution_count": 81,
   "metadata": {},
   "outputs": [
    {
     "data": {
      "text/html": [
       "<div>\n",
       "<style scoped>\n",
       "    .dataframe tbody tr th:only-of-type {\n",
       "        vertical-align: middle;\n",
       "    }\n",
       "\n",
       "    .dataframe tbody tr th {\n",
       "        vertical-align: top;\n",
       "    }\n",
       "\n",
       "    .dataframe thead th {\n",
       "        text-align: right;\n",
       "    }\n",
       "</style>\n",
       "<table border=\"1\" class=\"dataframe\">\n",
       "  <thead>\n",
       "    <tr style=\"text-align: right;\">\n",
       "      <th></th>\n",
       "      <th>JobTitle</th>\n",
       "      <th>Company</th>\n",
       "      <th>CTC</th>\n",
       "      <th>ApplyByDate</th>\n",
       "    </tr>\n",
       "    <tr>\n",
       "      <th>index</th>\n",
       "      <th></th>\n",
       "      <th></th>\n",
       "      <th></th>\n",
       "      <th></th>\n",
       "    </tr>\n",
       "  </thead>\n",
       "  <tbody>\n",
       "    <tr>\n",
       "      <th>1</th>\n",
       "      <td>Marketing &amp; Sales Executive</td>\n",
       "      <td>Is You Skincare</td>\n",
       "      <td>3 - 4 LPA</td>\n",
       "      <td>25 Oct' 21</td>\n",
       "    </tr>\n",
       "    <tr>\n",
       "      <th>2</th>\n",
       "      <td>QA Engineer/Tester</td>\n",
       "      <td>Incrivelsoft Private Limited</td>\n",
       "      <td>3 LPA</td>\n",
       "      <td>25 Oct' 21</td>\n",
       "    </tr>\n",
       "    <tr>\n",
       "      <th>3</th>\n",
       "      <td>Software Developer</td>\n",
       "      <td>Magnus Meditourism Private Limited</td>\n",
       "      <td>3 LPA</td>\n",
       "      <td>25 Oct' 21</td>\n",
       "    </tr>\n",
       "    <tr>\n",
       "      <th>4</th>\n",
       "      <td>Career Strategist</td>\n",
       "      <td>Ace My Prep</td>\n",
       "      <td>6 LPA</td>\n",
       "      <td>25 Oct' 21</td>\n",
       "    </tr>\n",
       "    <tr>\n",
       "      <th>5</th>\n",
       "      <td>Operations Support Staff</td>\n",
       "      <td>Alphamate Technologies</td>\n",
       "      <td>3 LPA</td>\n",
       "      <td>25 Oct' 21</td>\n",
       "    </tr>\n",
       "    <tr>\n",
       "      <th>...</th>\n",
       "      <td>...</td>\n",
       "      <td>...</td>\n",
       "      <td>...</td>\n",
       "      <td>...</td>\n",
       "    </tr>\n",
       "    <tr>\n",
       "      <th>290</th>\n",
       "      <td>Business Development Associate</td>\n",
       "      <td>XOOG EDLEARN PRIVATE LIMITED</td>\n",
       "      <td>4.5 - 7 LPA</td>\n",
       "      <td>27 Sep' 21</td>\n",
       "    </tr>\n",
       "    <tr>\n",
       "      <th>291</th>\n",
       "      <td>Associate (Development)</td>\n",
       "      <td>Pratham InfoTech Foundation</td>\n",
       "      <td>3 - 3.5 LPA</td>\n",
       "      <td>29 Sep' 21</td>\n",
       "    </tr>\n",
       "    <tr>\n",
       "      <th>292</th>\n",
       "      <td>Firmware Engineer</td>\n",
       "      <td>NBase2 Systems Private Limited</td>\n",
       "      <td>3 LPA</td>\n",
       "      <td>30 Sep' 21</td>\n",
       "    </tr>\n",
       "    <tr>\n",
       "      <th>293</th>\n",
       "      <td>Sales Magnet Associate</td>\n",
       "      <td>HyperCAP Private Limited</td>\n",
       "      <td>3 LPA</td>\n",
       "      <td>7 Oct' 21</td>\n",
       "    </tr>\n",
       "    <tr>\n",
       "      <th>294</th>\n",
       "      <td>Billing &amp; Accounts Manager</td>\n",
       "      <td>Touchstone Partners</td>\n",
       "      <td>4 - 7 LPA</td>\n",
       "      <td>2 Oct' 21</td>\n",
       "    </tr>\n",
       "  </tbody>\n",
       "</table>\n",
       "<p>294 rows × 4 columns</p>\n",
       "</div>"
      ],
      "text/plain": [
       "                              JobTitle                             Company  \\\n",
       "index                                                                        \n",
       "1         Marketing & Sales Executive                      Is You Skincare   \n",
       "2                  QA Engineer/Tester         Incrivelsoft Private Limited   \n",
       "3                  Software Developer   Magnus Meditourism Private Limited   \n",
       "4                   Career Strategist                          Ace My Prep   \n",
       "5            Operations Support Staff               Alphamate Technologies   \n",
       "...                                ...                                 ...   \n",
       "290    Business Development Associate         XOOG EDLEARN PRIVATE LIMITED   \n",
       "291           Associate (Development)          Pratham InfoTech Foundation   \n",
       "292                 Firmware Engineer       NBase2 Systems Private Limited   \n",
       "293            Sales Magnet Associate             HyperCAP Private Limited   \n",
       "294        Billing & Accounts Manager                  Touchstone Partners   \n",
       "\n",
       "               CTC ApplyByDate  \n",
       "index                           \n",
       "1        3 - 4 LPA  25 Oct' 21  \n",
       "2            3 LPA  25 Oct' 21  \n",
       "3            3 LPA  25 Oct' 21  \n",
       "4            6 LPA  25 Oct' 21  \n",
       "5            3 LPA  25 Oct' 21  \n",
       "...            ...         ...  \n",
       "290    4.5 - 7 LPA  27 Sep' 21  \n",
       "291    3 - 3.5 LPA  29 Sep' 21  \n",
       "292          3 LPA  30 Sep' 21  \n",
       "293          3 LPA   7 Oct' 21  \n",
       "294      4 - 7 LPA   2 Oct' 21  \n",
       "\n",
       "[294 rows x 4 columns]"
      ]
     },
     "execution_count": 81,
     "metadata": {},
     "output_type": "execute_result"
    }
   ],
   "source": [
    "    \n",
    "internshalFreshers=pd.DataFrame({})\n",
    "internshalFreshers['JobTitle']=job_titles\n",
    "internshalFreshers['Company']=company_names\n",
    "internshalFreshers['CTC']=ctcList\n",
    "\n",
    "internshalFreshers['ApplyByDate']=datesList\n",
    "\n",
    "internshalFreshers['index']=list(range(1,len(job_titles)+1))\n",
    "internshalFreshers.set_index('index',inplace=True)\n",
    "internshalFreshers\n"
   ]
  },
  {
   "cell_type": "code",
   "execution_count": null,
   "metadata": {},
   "outputs": [],
   "source": [
    "    "
   ]
  },
  {
   "cell_type": "code",
   "execution_count": null,
   "metadata": {},
   "outputs": [],
   "source": []
  },
  {
   "cell_type": "markdown",
   "metadata": {},
   "source": [
    "### house details from https://www.nobroker.in/ for any location. It should include house title, location, area, emi and price"
   ]
  },
  {
   "cell_type": "code",
   "execution_count": 82,
   "metadata": {},
   "outputs": [],
   "source": [
    "page=requests.get(\"https://www.nobroker.in/property/sale/hyderabad/Secunderabad?searchParam=W3sibGF0IjoxNy40Mzk5Mjk1LCJsb24iOjc4LjQ5ODI3NDEsInBsYWNlSWQiOiJDaElKS1YwbFNLMkV5enNSTXpTYm1ScUVFQVEiLCJwbGFjZU5hbWUiOiJTZWN1bmRlcmFiYWQifV0=&radius=2.0&type=BHK1&propertyAge=0\")                  \n",
    "pageSoup=BeautifulSoup(page.content)"
   ]
  },
  {
   "cell_type": "code",
   "execution_count": 83,
   "metadata": {},
   "outputs": [
    {
     "data": {
      "text/plain": [
       "10"
      ]
     },
     "execution_count": 83,
     "metadata": {},
     "output_type": "execute_result"
    }
   ],
   "source": [
    "containers=pageSoup.find_all(\"div\",{'class':'nb__2JHKO'})\n",
    "len(containers)"
   ]
  },
  {
   "cell_type": "code",
   "execution_count": 84,
   "metadata": {},
   "outputs": [
    {
     "data": {
      "text/plain": [
       "'Annapurna colony'"
      ]
     },
     "execution_count": 84,
     "metadata": {},
     "output_type": "execute_result"
    }
   ],
   "source": [
    "containers[0].find('div','nb__2CMjv').text"
   ]
  },
  {
   "cell_type": "code",
   "execution_count": 85,
   "metadata": {},
   "outputs": [],
   "source": [
    "def get_House(container):\n",
    "    \n",
    "    propName=container.find('div','nb__sDz3z').a.text    \n",
    "    try:\n",
    "        location=container.find('div','nb__2CMjv').text\n",
    "    except AttributeError:\n",
    "        location= \" \"\n",
    "    try:\n",
    "        area=container.find('div',{'class':'nb__3oNyC'}).text\n",
    "    except AttributeError:\n",
    "        area=''\n",
    "    try:\n",
    "        emi=container.find('div',{'id':\"roomType\",'class':'font-semi-bold heading-6'}).text\n",
    "    except AttributeError:\n",
    "        emi = ''\n",
    "    try:\n",
    "        price=container.find('div',{'id':\"minDeposit\"}).span.text\n",
    "    except AttributeError:\n",
    "        price = ''\n",
    "    result = (propName,location,area,emi,price)\n",
    "        \n",
    "    return result  "
   ]
  },
  {
   "cell_type": "code",
   "execution_count": 86,
   "metadata": {},
   "outputs": [],
   "source": [
    "PropList=[]\n",
    "locList=[]\n",
    "areaList=[]\n",
    "EmiList=[]\n",
    "priceList=[]\n",
    "\n",
    "for container in containers:\n",
    "    house=get_House(container)\n",
    "    prop,loc,area,emi,price=house\n",
    "    PropList.append(prop)\n",
    "    locList.append(loc)\n",
    "    areaList.append(area)\n",
    "    EmiList.append(emi)\n",
    "    priceList.append(price)\n",
    "    "
   ]
  },
  {
   "cell_type": "code",
   "execution_count": 87,
   "metadata": {},
   "outputs": [
    {
     "data": {
      "text/html": [
       "<div>\n",
       "<style scoped>\n",
       "    .dataframe tbody tr th:only-of-type {\n",
       "        vertical-align: middle;\n",
       "    }\n",
       "\n",
       "    .dataframe tbody tr th {\n",
       "        vertical-align: top;\n",
       "    }\n",
       "\n",
       "    .dataframe thead th {\n",
       "        text-align: right;\n",
       "    }\n",
       "</style>\n",
       "<table border=\"1\" class=\"dataframe\">\n",
       "  <thead>\n",
       "    <tr style=\"text-align: right;\">\n",
       "      <th></th>\n",
       "      <th>Property</th>\n",
       "      <th>location</th>\n",
       "      <th>area</th>\n",
       "      <th>EMI</th>\n",
       "      <th>price</th>\n",
       "    </tr>\n",
       "    <tr>\n",
       "      <th>index</th>\n",
       "      <th></th>\n",
       "      <th></th>\n",
       "      <th></th>\n",
       "      <th></th>\n",
       "      <th></th>\n",
       "    </tr>\n",
       "  </thead>\n",
       "  <tbody>\n",
       "    <tr>\n",
       "      <th>1</th>\n",
       "      <td>1 BHK Flat  For Sale  In Pearl Residency, Hyde...</td>\n",
       "      <td>Annapurna colony</td>\n",
       "      <td>486 sqft</td>\n",
       "      <td>₹14,328/Month</td>\n",
       "      <td>₹25 Lacs</td>\n",
       "    </tr>\n",
       "    <tr>\n",
       "      <th>2</th>\n",
       "      <td>1 BHK Apartment  For Sale  In Saket Pranaam In...</td>\n",
       "      <td>Saket Pranaam   Kapra - Saket Road, Saket, A. ...</td>\n",
       "      <td>702 sqft</td>\n",
       "      <td>₹24,072/Month</td>\n",
       "      <td>₹42 Lacs</td>\n",
       "    </tr>\n",
       "    <tr>\n",
       "      <th>3</th>\n",
       "      <td>1 BHK Flat  For Sale  In Rajsukh Apartments In...</td>\n",
       "      <td>malkajgiri</td>\n",
       "      <td>550 sqft</td>\n",
       "      <td>₹9,743/Month</td>\n",
       "      <td>₹17 Lacs</td>\n",
       "    </tr>\n",
       "    <tr>\n",
       "      <th>4</th>\n",
       "      <td>1 BHK Flat  For Sale  In Manjuroopa Apartment ...</td>\n",
       "      <td>E Anandbagh Main Rd near Venkateshwara Swamy T...</td>\n",
       "      <td>350 sqft</td>\n",
       "      <td>₹6,476/Month</td>\n",
       "      <td>₹11.3 Lacs</td>\n",
       "    </tr>\n",
       "    <tr>\n",
       "      <th>5</th>\n",
       "      <td>1 BHK Flat  For Sale  In Sri Sai Constructions...</td>\n",
       "      <td>Seetha Ram Nagar.Near JJ Talent School.Safilgu...</td>\n",
       "      <td>460 sqft</td>\n",
       "      <td>₹10,889/Month</td>\n",
       "      <td>₹19 Lacs</td>\n",
       "    </tr>\n",
       "    <tr>\n",
       "      <th>6</th>\n",
       "      <td>1 BHK In Independent House  For Sale  In Keesara</td>\n",
       "      <td>Independent House, ECIL, near Asian Radhika Mu...</td>\n",
       "      <td>900 sqft</td>\n",
       "      <td>₹39,546/Month</td>\n",
       "      <td>₹69 Lacs</td>\n",
       "    </tr>\n",
       "    <tr>\n",
       "      <th>7</th>\n",
       "      <td>1 BHK In Independent House  For Sale  In Malka...</td>\n",
       "      <td>Independent House, Yadav Nagar near Adarsh Fil...</td>\n",
       "      <td>450 sqft</td>\n",
       "      <td>₹20,060/Month</td>\n",
       "      <td>₹35 Lacs</td>\n",
       "    </tr>\n",
       "    <tr>\n",
       "      <th>8</th>\n",
       "      <td>1 BHK Flat  For Sale  In Bhavani Enclave In Da...</td>\n",
       "      <td>Nagaram Rd,</td>\n",
       "      <td>563 sqft</td>\n",
       "      <td>₹14,328/Month</td>\n",
       "      <td>₹25 Lacs</td>\n",
       "    </tr>\n",
       "    <tr>\n",
       "      <th>9</th>\n",
       "      <td>1 BHK In Independent House  For Sale  In Cherl...</td>\n",
       "      <td>Independent House,  Cherlapalli near Silver Oa...</td>\n",
       "      <td>800 sqft</td>\n",
       "      <td>₹19,486/Month</td>\n",
       "      <td>₹34 Lacs</td>\n",
       "    </tr>\n",
       "    <tr>\n",
       "      <th>10</th>\n",
       "      <td>1 BHK Flat  For Sale  In Shiva Divya Residency...</td>\n",
       "      <td>Risala bazar</td>\n",
       "      <td>700 sqft</td>\n",
       "      <td>₹8,597/Month</td>\n",
       "      <td>₹15 Lacs</td>\n",
       "    </tr>\n",
       "  </tbody>\n",
       "</table>\n",
       "</div>"
      ],
      "text/plain": [
       "                                                Property  \\\n",
       "index                                                      \n",
       "1      1 BHK Flat  For Sale  In Pearl Residency, Hyde...   \n",
       "2      1 BHK Apartment  For Sale  In Saket Pranaam In...   \n",
       "3      1 BHK Flat  For Sale  In Rajsukh Apartments In...   \n",
       "4      1 BHK Flat  For Sale  In Manjuroopa Apartment ...   \n",
       "5      1 BHK Flat  For Sale  In Sri Sai Constructions...   \n",
       "6      1 BHK In Independent House  For Sale  In Keesara    \n",
       "7      1 BHK In Independent House  For Sale  In Malka...   \n",
       "8      1 BHK Flat  For Sale  In Bhavani Enclave In Da...   \n",
       "9      1 BHK In Independent House  For Sale  In Cherl...   \n",
       "10     1 BHK Flat  For Sale  In Shiva Divya Residency...   \n",
       "\n",
       "                                                location      area  \\\n",
       "index                                                                \n",
       "1                                       Annapurna colony  486 sqft   \n",
       "2      Saket Pranaam   Kapra - Saket Road, Saket, A. ...  702 sqft   \n",
       "3                                             malkajgiri  550 sqft   \n",
       "4      E Anandbagh Main Rd near Venkateshwara Swamy T...  350 sqft   \n",
       "5      Seetha Ram Nagar.Near JJ Talent School.Safilgu...  460 sqft   \n",
       "6      Independent House, ECIL, near Asian Radhika Mu...  900 sqft   \n",
       "7      Independent House, Yadav Nagar near Adarsh Fil...  450 sqft   \n",
       "8                                           Nagaram Rd,   563 sqft   \n",
       "9      Independent House,  Cherlapalli near Silver Oa...  800 sqft   \n",
       "10                                          Risala bazar  700 sqft   \n",
       "\n",
       "                 EMI       price  \n",
       "index                             \n",
       "1      ₹14,328/Month    ₹25 Lacs  \n",
       "2      ₹24,072/Month    ₹42 Lacs  \n",
       "3       ₹9,743/Month    ₹17 Lacs  \n",
       "4       ₹6,476/Month  ₹11.3 Lacs  \n",
       "5      ₹10,889/Month    ₹19 Lacs  \n",
       "6      ₹39,546/Month    ₹69 Lacs  \n",
       "7      ₹20,060/Month    ₹35 Lacs  \n",
       "8      ₹14,328/Month    ₹25 Lacs  \n",
       "9      ₹19,486/Month    ₹34 Lacs  \n",
       "10      ₹8,597/Month    ₹15 Lacs  "
      ]
     },
     "execution_count": 87,
     "metadata": {},
     "output_type": "execute_result"
    }
   ],
   "source": [
    "    \n",
    "NoBroker=pd.DataFrame({})\n",
    "NoBroker['Property']=PropList\n",
    "NoBroker['location']=locList\n",
    "NoBroker['area']=areaList\n",
    "\n",
    "NoBroker['EMI']=EmiList\n",
    "\n",
    "NoBroker['price']=priceList\n",
    "NoBroker['index']=list(range(1,len(PropList)+1))\n",
    "NoBroker.set_index('index',inplace=True)\n",
    "NoBroker\n"
   ]
  },
  {
   "cell_type": "code",
   "execution_count": null,
   "metadata": {},
   "outputs": [],
   "source": []
  },
  {
   "cell_type": "code",
   "execution_count": null,
   "metadata": {},
   "outputs": [],
   "source": []
  }
 ],
 "metadata": {
  "kernelspec": {
   "display_name": "Python 3",
   "language": "python",
   "name": "python3"
  },
  "language_info": {
   "codemirror_mode": {
    "name": "ipython",
    "version": 3
   },
   "file_extension": ".py",
   "mimetype": "text/x-python",
   "name": "python",
   "nbconvert_exporter": "python",
   "pygments_lexer": "ipython3",
   "version": "3.7.3"
  }
 },
 "nbformat": 4,
 "nbformat_minor": 4
}
